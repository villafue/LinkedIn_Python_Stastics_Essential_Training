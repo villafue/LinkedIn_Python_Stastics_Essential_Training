{
  "nbformat": 4,
  "nbformat_minor": 0,
  "metadata": {
    "kernelspec": {
      "display_name": "Python 3",
      "language": "python",
      "name": "python3"
    },
    "language_info": {
      "codemirror_mode": {
        "name": "ipython",
        "version": 3
      },
      "file_extension": ".py",
      "mimetype": "text/x-python",
      "name": "python",
      "nbconvert_exporter": "python",
      "pygments_lexer": "ipython3",
      "version": "3.6.4"
    },
    "toc": {
      "base_numbering": 1,
      "nav_menu": {},
      "number_sections": true,
      "sideBar": true,
      "skip_h1_title": false,
      "title_cell": "Table of Contents",
      "title_sidebar": "Contents",
      "toc_cell": false,
      "toc_position": {},
      "toc_section_display": true,
      "toc_window_display": false
    },
    "colab": {
      "name": "04_02_confidenceintervals_end.ipynb",
      "provenance": [],
      "toc_visible": true,
      "include_colab_link": true
    }
  },
  "cells": [
    {
      "cell_type": "markdown",
      "metadata": {
        "id": "view-in-github",
        "colab_type": "text"
      },
      "source": [
        "<a href=\"https://colab.research.google.com/github/villafue/LinkedIn_Python_Stastics_Essential_Training/blob/master/04_02_confidenceintervals_end.ipynb\" target=\"_parent\"><img src=\"https://colab.research.google.com/assets/colab-badge.svg\" alt=\"Open In Colab\"/></a>"
      ]
    },
    {
      "cell_type": "markdown",
      "metadata": {
        "id": "d3rRHI6LnZ1r",
        "colab_type": "text"
      },
      "source": [
        "## Python statistics essential training - 04_02_confidenceintervals"
      ]
    },
    {
      "cell_type": "markdown",
      "metadata": {
        "id": "jJ1-1jKcnZ1s",
        "colab_type": "text"
      },
      "source": [
        "Standard imports"
      ]
    },
    {
      "cell_type": "code",
      "metadata": {
        "id": "tx9KBABlnZ1s",
        "colab_type": "code",
        "colab": {}
      },
      "source": [
        "import math\n",
        "import io\n",
        "import os"
      ],
      "execution_count": 1,
      "outputs": []
    },
    {
      "cell_type": "code",
      "metadata": {
        "id": "CYQxsSimnZ1v",
        "colab_type": "code",
        "colab": {}
      },
      "source": [
        "import numpy as np\n",
        "import pandas as pd\n",
        "\n",
        "import matplotlib\n",
        "import matplotlib.pyplot as plt\n",
        "\n",
        "%matplotlib inline"
      ],
      "execution_count": 3,
      "outputs": []
    },
    {
      "cell_type": "code",
      "metadata": {
        "id": "9uqvc5HanZ1z",
        "colab_type": "code",
        "colab": {}
      },
      "source": [
        "import scipy.stats\n",
        "import scipy.optimize\n",
        "import scipy.spatial"
      ],
      "execution_count": 4,
      "outputs": []
    },
    {
      "cell_type": "code",
      "metadata": {
        "id": "G5QaDRAmsHwg",
        "colab_type": "code",
        "colab": {}
      },
      "source": [
        "os.chdir('sample_data')"
      ],
      "execution_count": 5,
      "outputs": []
    },
    {
      "cell_type": "code",
      "metadata": {
        "id": "QQrus_tVnZ11",
        "colab_type": "code",
        "colab": {}
      },
      "source": [
        "poll = pd.read_csv('poll.csv')"
      ],
      "execution_count": 6,
      "outputs": []
    },
    {
      "cell_type": "code",
      "metadata": {
        "id": "-iU2WgZHnZ14",
        "colab_type": "code",
        "colab": {
          "base_uri": "https://localhost:8080/",
          "height": 151
        },
        "outputId": "7376f484-9d65-4b32-95b2-2958ee861b3c"
      },
      "source": [
        "poll.info()"
      ],
      "execution_count": 7,
      "outputs": [
        {
          "output_type": "stream",
          "text": [
            "<class 'pandas.core.frame.DataFrame'>\n",
            "RangeIndex: 1000 entries, 0 to 999\n",
            "Data columns (total 1 columns):\n",
            " #   Column  Non-Null Count  Dtype \n",
            "---  ------  --------------  ----- \n",
            " 0   vote    1000 non-null   object\n",
            "dtypes: object(1)\n",
            "memory usage: 7.9+ KB\n"
          ],
          "name": "stdout"
        }
      ]
    },
    {
      "cell_type": "code",
      "metadata": {
        "id": "Gii-EcaJnZ17",
        "colab_type": "code",
        "colab": {
          "base_uri": "https://localhost:8080/",
          "height": 195
        },
        "outputId": "653a8729-de04-48ce-d704-a05f8a25c776"
      },
      "source": [
        "poll.head()\n"
      ],
      "execution_count": 8,
      "outputs": [
        {
          "output_type": "execute_result",
          "data": {
            "text/html": [
              "<div>\n",
              "<style scoped>\n",
              "    .dataframe tbody tr th:only-of-type {\n",
              "        vertical-align: middle;\n",
              "    }\n",
              "\n",
              "    .dataframe tbody tr th {\n",
              "        vertical-align: top;\n",
              "    }\n",
              "\n",
              "    .dataframe thead th {\n",
              "        text-align: right;\n",
              "    }\n",
              "</style>\n",
              "<table border=\"1\" class=\"dataframe\">\n",
              "  <thead>\n",
              "    <tr style=\"text-align: right;\">\n",
              "      <th></th>\n",
              "      <th>vote</th>\n",
              "    </tr>\n",
              "  </thead>\n",
              "  <tbody>\n",
              "    <tr>\n",
              "      <th>0</th>\n",
              "      <td>Brown</td>\n",
              "    </tr>\n",
              "    <tr>\n",
              "      <th>1</th>\n",
              "      <td>Green</td>\n",
              "    </tr>\n",
              "    <tr>\n",
              "      <th>2</th>\n",
              "      <td>Brown</td>\n",
              "    </tr>\n",
              "    <tr>\n",
              "      <th>3</th>\n",
              "      <td>Brown</td>\n",
              "    </tr>\n",
              "    <tr>\n",
              "      <th>4</th>\n",
              "      <td>Brown</td>\n",
              "    </tr>\n",
              "  </tbody>\n",
              "</table>\n",
              "</div>"
            ],
            "text/plain": [
              "    vote\n",
              "0  Brown\n",
              "1  Green\n",
              "2  Brown\n",
              "3  Brown\n",
              "4  Brown"
            ]
          },
          "metadata": {
            "tags": []
          },
          "execution_count": 8
        }
      ]
    },
    {
      "cell_type": "code",
      "metadata": {
        "id": "uBRC_hVInZ1-",
        "colab_type": "code",
        "colab": {
          "base_uri": "https://localhost:8080/",
          "height": 67
        },
        "outputId": "814048ac-1b75-4aee-9c74-f615ef64b327"
      },
      "source": [
        "'''\n",
        "The data is just one column with votes for 2 different candidates. Value_counts\n",
        "tell us the value of the votes and normalize=True means the range goes from 0-1.\n",
        "It also turns it into a fraction/porportion of the total vote. \n",
        "'''\n",
        "poll.vote.value_counts(normalize=True)"
      ],
      "execution_count": 9,
      "outputs": [
        {
          "output_type": "execute_result",
          "data": {
            "text/plain": [
              "Brown    0.511\n",
              "Green    0.489\n",
              "Name: vote, dtype: float64"
            ]
          },
          "metadata": {
            "tags": []
          },
          "execution_count": 9
        }
      ]
    },
    {
      "cell_type": "code",
      "metadata": {
        "id": "UAvNEphhup6J",
        "colab_type": "code",
        "colab": {}
      },
      "source": [
        "'''\n",
        "Now the question is how representative is this data for the overall population.\n",
        "I.e. does this voting sample of 1000 votes mean that Mayor Brown will stay in\n",
        "office?\n",
        "To answer the question, we're going to run simulations on our data and see \n",
        "what if continued running of the data would lead to the same result.\n",
        "'''"
      ],
      "execution_count": null,
      "outputs": []
    },
    {
      "cell_type": "code",
      "metadata": {
        "id": "3-Xw7JNvt9My",
        "colab_type": "code",
        "colab": {
          "base_uri": "https://localhost:8080/",
          "height": 34
        },
        "outputId": "7b5f175f-c161-433a-abca-685d9604f921"
      },
      "source": [
        "'''\n",
        "Trying out random function in numpy. I tried seeding to ensure my results are\n",
        "the same.\n",
        "'''\n",
        "np.random.seed(42)\n",
        "np.random.rand(5)"
      ],
      "execution_count": 12,
      "outputs": [
        {
          "output_type": "execute_result",
          "data": {
            "text/plain": [
              "array([0.37454012, 0.95071431, 0.73199394, 0.59865848, 0.15601864])"
            ]
          },
          "metadata": {
            "tags": []
          },
          "execution_count": 12
        }
      ]
    },
    {
      "cell_type": "code",
      "metadata": {
        "id": "JReqL3C-uLCY",
        "colab_type": "code",
        "colab": {
          "base_uri": "https://localhost:8080/",
          "height": 34
        },
        "outputId": "a5cb5ca0-c28d-47a8-bbda-30a6b69eb11e"
      },
      "source": [
        "'''\n",
        "This shows boolean values that satisfy the requirement of numbers less than .51.\n",
        "'''\n",
        "np.random.seed(42)\n",
        "np.random.rand(5) < 0.51"
      ],
      "execution_count": 16,
      "outputs": [
        {
          "output_type": "execute_result",
          "data": {
            "text/plain": [
              "array([ True, False, False, False,  True])"
            ]
          },
          "metadata": {
            "tags": []
          },
          "execution_count": 16
        }
      ]
    },
    {
      "cell_type": "code",
      "metadata": {
        "id": "rsLBNxmjulRk",
        "colab_type": "code",
        "colab": {
          "base_uri": "https://localhost:8080/",
          "height": 34
        },
        "outputId": "7a9c1063-9eb6-4c8f-de6a-4560f07d6754"
      },
      "source": [
        "'''\n",
        "We add the numpy function where as it will convert the True/False values to str.\n",
        "we list. In our example, 0.51 will be True (Brown) as it satisfies the requirement.\n",
        "False will = Green\n",
        "'''\n",
        "np.random.seed(42)\n",
        "np.where(np.random.rand(5) < 0.51, 'Brown','Green')"
      ],
      "execution_count": 17,
      "outputs": [
        {
          "output_type": "execute_result",
          "data": {
            "text/plain": [
              "array(['Brown', 'Green', 'Green', 'Green', 'Brown'], dtype='<U5')"
            ]
          },
          "metadata": {
            "tags": []
          },
          "execution_count": 17
        }
      ]
    },
    {
      "cell_type": "code",
      "metadata": {
        "id": "WlEktDSsnZ2C",
        "colab_type": "code",
        "colab": {}
      },
      "source": [
        "'''\n",
        "Now we're going to take the above and wrap it inside a function\n",
        "'''\n",
        "def sample(brown,n=1000):\n",
        "    return pd.DataFrame({'vote': np.where(np.random.rand(n) < brown,'Brown','Green')})"
      ],
      "execution_count": 18,
      "outputs": []
    },
    {
      "cell_type": "code",
      "metadata": {
        "id": "r8jCw_zdnZ2F",
        "colab_type": "code",
        "colab": {
          "base_uri": "https://localhost:8080/",
          "height": 195
        },
        "outputId": "977af4eb-915e-4628-e615-f61a3b25d01f"
      },
      "source": [
        "'''\n",
        "Testing the assumption that Brown holds less than 51% of the votes, we set-up\n",
        "parameters to pass into our function.\n",
        "'''\n",
        "s = sample(0.51,n=1000)\n",
        "s.head()"
      ],
      "execution_count": 24,
      "outputs": [
        {
          "output_type": "execute_result",
          "data": {
            "text/html": [
              "<div>\n",
              "<style scoped>\n",
              "    .dataframe tbody tr th:only-of-type {\n",
              "        vertical-align: middle;\n",
              "    }\n",
              "\n",
              "    .dataframe tbody tr th {\n",
              "        vertical-align: top;\n",
              "    }\n",
              "\n",
              "    .dataframe thead th {\n",
              "        text-align: right;\n",
              "    }\n",
              "</style>\n",
              "<table border=\"1\" class=\"dataframe\">\n",
              "  <thead>\n",
              "    <tr style=\"text-align: right;\">\n",
              "      <th></th>\n",
              "      <th>vote</th>\n",
              "    </tr>\n",
              "  </thead>\n",
              "  <tbody>\n",
              "    <tr>\n",
              "      <th>0</th>\n",
              "      <td>Brown</td>\n",
              "    </tr>\n",
              "    <tr>\n",
              "      <th>1</th>\n",
              "      <td>Green</td>\n",
              "    </tr>\n",
              "    <tr>\n",
              "      <th>2</th>\n",
              "      <td>Green</td>\n",
              "    </tr>\n",
              "    <tr>\n",
              "      <th>3</th>\n",
              "      <td>Green</td>\n",
              "    </tr>\n",
              "    <tr>\n",
              "      <th>4</th>\n",
              "      <td>Brown</td>\n",
              "    </tr>\n",
              "  </tbody>\n",
              "</table>\n",
              "</div>"
            ],
            "text/plain": [
              "    vote\n",
              "0  Brown\n",
              "1  Green\n",
              "2  Green\n",
              "3  Green\n",
              "4  Brown"
            ]
          },
          "metadata": {
            "tags": []
          },
          "execution_count": 24
        }
      ]
    },
    {
      "cell_type": "code",
      "metadata": {
        "id": "-xj5o-hanZ2H",
        "colab_type": "code",
        "colab": {
          "base_uri": "https://localhost:8080/",
          "height": 67
        },
        "outputId": "b77b5189-4a00-4ee4-f9ec-c04dd894ae91"
      },
      "source": [
        "'''\n",
        "Variable \"s\" was a returned dataframe from the sample function. That is why it has\n",
        "the \"vote\" column. As way above, we check the values of this sample.\n",
        "'''\n",
        "s.vote.value_counts(normalize=True)"
      ],
      "execution_count": 21,
      "outputs": [
        {
          "output_type": "execute_result",
          "data": {
            "text/plain": [
              "Green    0.506\n",
              "Brown    0.494\n",
              "Name: vote, dtype: float64"
            ]
          },
          "metadata": {
            "tags": []
          },
          "execution_count": 21
        }
      ]
    },
    {
      "cell_type": "code",
      "metadata": {
        "id": "_7yxmEv-nZ2J",
        "colab_type": "code",
        "colab": {}
      },
      "source": [
        "'''\n",
        "Now we're going to run this simulation 1000 more times to have a better idea of\n",
        "our data. Unfortunately, I don't yet know how to fully describe this code.\n",
        "'''\n",
        "dist = pd.DataFrame([sample(0.51).vote.value_counts(normalize=True) for i in range(1000)])"
      ],
      "execution_count": 22,
      "outputs": []
    },
    {
      "cell_type": "code",
      "metadata": {
        "id": "aAgfyLM3nZ2L",
        "colab_type": "code",
        "colab": {
          "base_uri": "https://localhost:8080/",
          "height": 195
        },
        "outputId": "6527c229-1183-42a2-f62e-5e3281c01eb2"
      },
      "source": [
        "dist.head()"
      ],
      "execution_count": 23,
      "outputs": [
        {
          "output_type": "execute_result",
          "data": {
            "text/html": [
              "<div>\n",
              "<style scoped>\n",
              "    .dataframe tbody tr th:only-of-type {\n",
              "        vertical-align: middle;\n",
              "    }\n",
              "\n",
              "    .dataframe tbody tr th {\n",
              "        vertical-align: top;\n",
              "    }\n",
              "\n",
              "    .dataframe thead th {\n",
              "        text-align: right;\n",
              "    }\n",
              "</style>\n",
              "<table border=\"1\" class=\"dataframe\">\n",
              "  <thead>\n",
              "    <tr style=\"text-align: right;\">\n",
              "      <th></th>\n",
              "      <th>Brown</th>\n",
              "      <th>Green</th>\n",
              "    </tr>\n",
              "  </thead>\n",
              "  <tbody>\n",
              "    <tr>\n",
              "      <th>vote</th>\n",
              "      <td>0.507</td>\n",
              "      <td>0.493</td>\n",
              "    </tr>\n",
              "    <tr>\n",
              "      <th>vote</th>\n",
              "      <td>0.525</td>\n",
              "      <td>0.475</td>\n",
              "    </tr>\n",
              "    <tr>\n",
              "      <th>vote</th>\n",
              "      <td>0.514</td>\n",
              "      <td>0.486</td>\n",
              "    </tr>\n",
              "    <tr>\n",
              "      <th>vote</th>\n",
              "      <td>0.518</td>\n",
              "      <td>0.482</td>\n",
              "    </tr>\n",
              "    <tr>\n",
              "      <th>vote</th>\n",
              "      <td>0.531</td>\n",
              "      <td>0.469</td>\n",
              "    </tr>\n",
              "  </tbody>\n",
              "</table>\n",
              "</div>"
            ],
            "text/plain": [
              "      Brown  Green\n",
              "vote  0.507  0.493\n",
              "vote  0.525  0.475\n",
              "vote  0.514  0.486\n",
              "vote  0.518  0.482\n",
              "vote  0.531  0.469"
            ]
          },
          "metadata": {
            "tags": []
          },
          "execution_count": 23
        }
      ]
    },
    {
      "cell_type": "code",
      "metadata": {
        "id": "LrzikVShnZ2O",
        "colab_type": "code",
        "colab": {
          "base_uri": "https://localhost:8080/",
          "height": 282
        },
        "outputId": "24b91be5-a053-47a8-e8f0-8e2315bdb779"
      },
      "source": [
        "'''\n",
        "Now we plot the above and get a better idea of Brown/Green?\n",
        "Brown votes seem to go from .48 to .54.\n",
        "'''\n",
        "dist.Brown.hist(histtype='step',bins=20)"
      ],
      "execution_count": 25,
      "outputs": [
        {
          "output_type": "execute_result",
          "data": {
            "text/plain": [
              "<matplotlib.axes._subplots.AxesSubplot at 0x7f3b962ced68>"
            ]
          },
          "metadata": {
            "tags": []
          },
          "execution_count": 25
        },
        {
          "output_type": "display_data",
          "data": {
            "image/png": "[encoded data removed]",
            "text/plain": [
              "<Figure size 432x288 with 1 Axes>"
            ]
          },
          "metadata": {
            "tags": [],
            "needs_background": "light"
          }
        }
      ]
    },
    {
      "cell_type": "code",
      "metadata": {
        "id": "vkfNIjSUyPMK",
        "colab_type": "code",
        "colab": {}
      },
      "source": [
        "'''\n",
        "The plot above sucks. We just learned about confidence intervals as our data falls\n",
        "into a likely range of values rather than one set value. The typical confidence interval\n",
        "is 95% which means a value of 100 has a confidence interval (range) of 95 - 105.\n",
        "\n",
        "Although there are many ways to find this, resampling is probably the easiest \n",
        "and fastest.\n",
        "\n",
        "'''"
      ],
      "execution_count": null,
      "outputs": []
    },
    {
      "cell_type": "code",
      "metadata": {
        "id": "UvIoUSdZnZ2Q",
        "colab_type": "code",
        "colab": {}
      },
      "source": [
        "'''\n",
        "I brought the following code to compare it to the sampledist function:\n",
        "\n",
        "def sample(brown,n=1000):\n",
        "    return pd.DataFrame({'vote': np.where(np.random.rand(n) < brown,'Brown','Green')})\n",
        "\n",
        "pd.DataFrame([sample(0.51).vote.value_counts(normalize=True) for i in range(1000)])\n",
        "\n",
        "It looks like samplingdist is the combined code of both above.\n",
        "'''\n",
        "\n",
        "def samplingdist(brown,n=1000):\n",
        "    return pd.DataFrame([sample(brown,n).vote.value_counts(normalize=True) for i in range(1000)])"
      ],
      "execution_count": 26,
      "outputs": []
    },
    {
      "cell_type": "code",
      "metadata": {
        "id": "VCdyzVUSnZ2S",
        "colab_type": "code",
        "colab": {}
      },
      "source": [
        "'''\n",
        "This function takes in the above function and says what the range is for a\n",
        "specific value. These are the edges of the confidence interval.\n",
        "'''\n",
        "def quantiles(brown,n=1000):\n",
        "    dist = samplingdist(brown,n)\n",
        "    return dist.Brown.quantile(0.025), dist.Brown.quantile(0.975)"
      ],
      "execution_count": 27,
      "outputs": []
    },
    {
      "cell_type": "code",
      "metadata": {
        "id": "8iFSXoTUnZ2W",
        "colab_type": "code",
        "colab": {
          "base_uri": "https://localhost:8080/",
          "height": 34
        },
        "outputId": "9255e207-0794-450a-c568-0e4352a309a3"
      },
      "source": [
        "'''\n",
        "I'm putting many different values to see what value will get us 0.51 on each end:\n",
        "both the 0.025 and .975 ends. This is for the 95% confidence interval.\n",
        "'''\n",
        "\n",
        "quantiles(0.50)"
      ],
      "execution_count": 28,
      "outputs": [
        {
          "output_type": "execute_result",
          "data": {
            "text/plain": [
              "(0.47, 0.530025)"
            ]
          },
          "metadata": {
            "tags": []
          },
          "execution_count": 28
        }
      ]
    },
    {
      "cell_type": "code",
      "metadata": {
        "id": "aQpwfF2pnZ2Y",
        "colab_type": "code",
        "colab": {
          "base_uri": "https://localhost:8080/",
          "height": 34
        },
        "outputId": "62c0afb2-b803-49e9-e7c4-e8078cfbb0dc"
      },
      "source": [
        "'''\n",
        "Bingo on the 97.5% quantile (right side is .51ish)\n",
        "'''\n",
        "\n",
        "quantiles(0.48)"
      ],
      "execution_count": 29,
      "outputs": [
        {
          "output_type": "execute_result",
          "data": {
            "text/plain": [
              "(0.447975, 0.511)"
            ]
          },
          "metadata": {
            "tags": []
          },
          "execution_count": 29
        }
      ]
    },
    {
      "cell_type": "code",
      "metadata": {
        "id": "y23GFXMsnZ2a",
        "colab_type": "code",
        "colab": {
          "base_uri": "https://localhost:8080/",
          "height": 34
        },
        "outputId": "61a62d45-df3b-40d5-fdb8-ab562e635ea7"
      },
      "source": [
        "'''\n",
        "Bingo on the 2.5% quantile (left side is .51ish)\n",
        "'''\n",
        "quantiles(0.54)"
      ],
      "execution_count": 30,
      "outputs": [
        {
          "output_type": "execute_result",
          "data": {
            "text/plain": [
              "(0.5099750000000001, 0.572)"
            ]
          },
          "metadata": {
            "tags": []
          },
          "execution_count": 30
        }
      ]
    },
    {
      "cell_type": "code",
      "metadata": {
        "id": "h8eW-seF_iCk",
        "colab_type": "code",
        "colab": {}
      },
      "source": [
        "'''\n",
        "In conclusion, our finding says this:\n",
        "\n",
        "For an observed sample proportion of .51, when the sample size is 1000, the 95%\n",
        "confidence interval for the True population function is 0.48 to 0.54.\n",
        "\n",
        "In other words:\n",
        "\n",
        "95% confidence interval: [0.48, 0.54]\n",
        "Estimate = 0.51 +- 0.03(at 95% confidence)\n",
        ".51 is point estimate\n",
        "margin of error is .03\n",
        "\n",
        "Thus:\n",
        "\n",
        "The result of this election lies within the margin of error of the poll.\n",
        "\n",
        "'''"
      ],
      "execution_count": null,
      "outputs": []
    },
    {
      "cell_type": "code",
      "metadata": {
        "id": "ZHrN6ml3nZ2c",
        "colab_type": "code",
        "colab": {}
      },
      "source": [
        "'''\n",
        "As a journalist, this is too close for comfort. I can't publish this with confidence\n",
        "stupid pun.\n",
        "So, I incease the sample to 10,000.\n",
        "'''\n",
        "dist = samplingdist(0.50,10000)"
      ],
      "execution_count": 31,
      "outputs": []
    },
    {
      "cell_type": "code",
      "metadata": {
        "id": "tKYwceFQnZ2g",
        "colab_type": "code",
        "colab": {
          "base_uri": "https://localhost:8080/",
          "height": 282
        },
        "outputId": "f7d1e429-b468-4cc8-db77-c763b143155e"
      },
      "source": [
        "'''\n",
        "He's saying the margin of error is more like 1%, but I cannot tell by this graph.\n",
        "Also, why is it .50 instead of .51 for brown?\n",
        "\n",
        "Update:\n",
        "\n",
        "After rewatching the video, it looks like Brown goes from .49 to .51 which is \n",
        "better?\n",
        "'''\n",
        "dist.Brown.hist(histtype='step')"
      ],
      "execution_count": 32,
      "outputs": [
        {
          "output_type": "execute_result",
          "data": {
            "text/plain": [
              "<matplotlib.axes._subplots.AxesSubplot at 0x7f3b961585c0>"
            ]
          },
          "metadata": {
            "tags": []
          },
          "execution_count": 32
        },
        {
          "output_type": "display_data",
          "data": {
            "image/png": "[encoded data removed]",
            "text/plain": [
              "<Figure size 432x288 with 1 Axes>"
            ]
          },
          "metadata": {
            "tags": [],
            "needs_background": "light"
          }
        }
      ]
    },
    {
      "cell_type": "code",
      "metadata": {
        "id": "Mlww2kTrnZ2j",
        "colab_type": "code",
        "colab": {}
      },
      "source": [
        "'''\n",
        "This is just \"proof\" of what we did by resampling to 10,000.\n",
        "'''\n",
        "largepoll = pd.read_csv('poll-larger.csv')"
      ],
      "execution_count": null,
      "outputs": []
    },
    {
      "cell_type": "code",
      "metadata": {
        "id": "-SJHQx3gnZ2l",
        "colab_type": "code",
        "colab": {},
        "outputId": "48e9a0af-ae37-446a-ceb7-d9c2b237cf59"
      },
      "source": [
        "largepoll.vote.value_counts(normalize=True)"
      ],
      "execution_count": null,
      "outputs": [
        {
          "output_type": "execute_result",
          "data": {
            "text/plain": [
              "Green    0.5181\n",
              "Brown    0.4819\n",
              "Name: vote, dtype: float64"
            ]
          },
          "metadata": {
            "tags": []
          },
          "execution_count": 31
        }
      ]
    },
    {
      "cell_type": "code",
      "metadata": {
        "id": "vbhnAD8DnZ2n",
        "colab_type": "code",
        "colab": {}
      },
      "source": [
        "'''\n",
        "The winner is actually Mrs. Green, and if we computed for her proportion, it would\n",
        "be .508 and .528.\n",
        "It doesn't include the threshold of .50.\n",
        "'''"
      ],
      "execution_count": null,
      "outputs": []
    },
    {
      "cell_type": "code",
      "metadata": {
        "id": "myY5F6EKt7I4",
        "colab_type": "code",
        "colab": {}
      },
      "source": [
        ""
      ],
      "execution_count": null,
      "outputs": []
    }
  ]
}