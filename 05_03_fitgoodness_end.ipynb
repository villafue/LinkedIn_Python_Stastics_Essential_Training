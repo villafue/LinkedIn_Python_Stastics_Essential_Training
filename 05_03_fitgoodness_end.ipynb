{
  "nbformat": 4,
  "nbformat_minor": 0,
  "metadata": {
    "kernelspec": {
      "display_name": "Python 3",
      "language": "python",
      "name": "python3"
    },
    "language_info": {
      "codemirror_mode": {
        "name": "ipython",
        "version": 3
      },
      "file_extension": ".py",
      "mimetype": "text/x-python",
      "name": "python",
      "nbconvert_exporter": "python",
      "pygments_lexer": "ipython3",
      "version": "3.6.4"
    },
    "toc": {
      "base_numbering": 1,
      "nav_menu": {},
      "number_sections": true,
      "sideBar": true,
      "skip_h1_title": false,
      "title_cell": "Table of Contents",
      "title_sidebar": "Contents",
      "toc_cell": false,
      "toc_position": {},
      "toc_section_display": true,
      "toc_window_display": false
    },
    "colab": {
      "name": "05_03_fitgoodness_end.ipynb",
      "provenance": [],
      "toc_visible": true,
      "include_colab_link": true
    }
  },
  "cells": [
    {
      "cell_type": "markdown",
      "metadata": {
        "id": "view-in-github",
        "colab_type": "text"
      },
      "source": [
        "<a href=\"https://colab.research.google.com/github/villafue/LinkedIn_Python_Stastics_Essential_Training/blob/master/05_03_fitgoodness_end.ipynb\" target=\"_parent\"><img src=\"https://colab.research.google.com/assets/colab-badge.svg\" alt=\"Open In Colab\"/></a>"
      ]
    },
    {
      "cell_type": "markdown",
      "metadata": {
        "id": "X3W6yGGQaxJd",
        "colab_type": "text"
      },
      "source": [
        "## Python statistics essential training - 05_03_fitgoodness"
      ]
    },
    {
      "cell_type": "markdown",
      "metadata": {
        "id": "SAKPg4r8axJe",
        "colab_type": "text"
      },
      "source": [
        "Standard imports"
      ]
    },
    {
      "cell_type": "code",
      "metadata": {
        "id": "fl47k-VTaxJf",
        "colab_type": "code",
        "colab": {}
      },
      "source": [
        "import math\n",
        "import os"
      ],
      "execution_count": 1,
      "outputs": []
    },
    {
      "cell_type": "code",
      "metadata": {
        "id": "hLAo9iQ9bXzx",
        "colab_type": "code",
        "colab": {}
      },
      "source": [
        "os.chdir('sample_data')"
      ],
      "execution_count": 2,
      "outputs": []
    },
    {
      "cell_type": "code",
      "metadata": {
        "id": "sQrraDwRaxJi",
        "colab_type": "code",
        "colab": {}
      },
      "source": [
        "import numpy as np\n",
        "import pandas as pd"
      ],
      "execution_count": 3,
      "outputs": []
    },
    {
      "cell_type": "code",
      "metadata": {
        "id": "sYaKgcflaxJm",
        "colab_type": "code",
        "colab": {}
      },
      "source": [
        "import matplotlib\n",
        "import matplotlib.pyplot as plt"
      ],
      "execution_count": 4,
      "outputs": []
    },
    {
      "cell_type": "code",
      "metadata": {
        "id": "wQHaYwISaxJp",
        "colab_type": "code",
        "colab": {}
      },
      "source": [
        "%matplotlib inline"
      ],
      "execution_count": 5,
      "outputs": []
    },
    {
      "cell_type": "code",
      "metadata": {
        "id": "VkYIkUCXaxJr",
        "colab_type": "code",
        "colab": {
          "base_uri": "https://localhost:8080/",
          "height": 70
        },
        "outputId": "d3a5f2cf-950c-42e0-cce4-88f2a8bf3b09"
      },
      "source": [
        "import statsmodels\n",
        "import statsmodels.api as sm\n",
        "import statsmodels.formula.api as smf"
      ],
      "execution_count": 6,
      "outputs": [
        {
          "output_type": "stream",
          "text": [
            "/usr/local/lib/python3.6/dist-packages/statsmodels/tools/_testing.py:19: FutureWarning: pandas.util.testing is deprecated. Use the functions in the public API at pandas.testing instead.\n",
            "  import pandas.util.testing as tm\n"
          ],
          "name": "stderr"
        }
      ]
    },
    {
      "cell_type": "markdown",
      "metadata": {
        "id": "ofq9ph-qaxJu",
        "colab_type": "text"
      },
      "source": [
        "Loading gapminder data for year 1985 (Live Aid!) and setting up plot as in chapter 3"
      ]
    },
    {
      "cell_type": "code",
      "metadata": {
        "id": "yyBpzN0iaxJu",
        "colab_type": "code",
        "colab": {}
      },
      "source": [
        "gapminder = pd.read_csv('gapminder.csv')"
      ],
      "execution_count": 7,
      "outputs": []
    },
    {
      "cell_type": "code",
      "metadata": {
        "id": "CK3gKf7NaxJx",
        "colab_type": "code",
        "colab": {}
      },
      "source": [
        "gdata = gapminder.query('year == 1985')"
      ],
      "execution_count": 8,
      "outputs": []
    },
    {
      "cell_type": "code",
      "metadata": {
        "id": "mac4N9JraxJz",
        "colab_type": "code",
        "colab": {}
      },
      "source": [
        "size = 1e-6 * gdata.population\n",
        "\n",
        "colors = gdata.region.map({'Africa': 'skyblue', 'Europe': 'gold', 'America': 'palegreen', 'Asia': 'coral'})\n",
        "\n",
        "def plotdata():\n",
        "    gdata.plot.scatter('age5_surviving','babies_per_woman',\n",
        "                      c=colors,s=size,linewidths=0.5,edgecolor='k',alpha=0.5)"
      ],
      "execution_count": 9,
      "outputs": []
    },
    {
      "cell_type": "markdown",
      "metadata": {
        "id": "mei32KFDaxJ1",
        "colab_type": "text"
      },
      "source": [
        "Setting up model plot"
      ]
    },
    {
      "cell_type": "code",
      "metadata": {
        "id": "VH4rjIk1axJ2",
        "colab_type": "code",
        "colab": {}
      },
      "source": [
        "def plotfit(fit):\n",
        "    plotdata()\n",
        "    plt.scatter(gdata.age5_surviving,fit.predict(gdata),\n",
        "               c=colors,s=30,linewidths=0.5,edgecolor='k',marker='D')"
      ],
      "execution_count": 15,
      "outputs": []
    },
    {
      "cell_type": "markdown",
      "metadata": {
        "id": "1ByTTEU_axJ4",
        "colab_type": "text"
      },
      "source": [
        "Three models from last video"
      ]
    },
    {
      "cell_type": "code",
      "metadata": {
        "id": "5-BWSSGxaxJ4",
        "colab_type": "code",
        "colab": {}
      },
      "source": [
        "groupmeans = smf.ols(formula='babies_per_woman ~ -1 + region', data=gdata).fit()"
      ],
      "execution_count": 11,
      "outputs": []
    },
    {
      "cell_type": "code",
      "metadata": {
        "id": "TaDrcJngaxJ6",
        "colab_type": "code",
        "colab": {}
      },
      "source": [
        "surviving = smf.ols(formula='babies_per_woman ~ -1 + region + age5_surviving', data=gdata).fit()"
      ],
      "execution_count": 12,
      "outputs": []
    },
    {
      "cell_type": "code",
      "metadata": {
        "id": "D5dE3n1BaxJ-",
        "colab_type": "code",
        "colab": {}
      },
      "source": [
        "surviving_byregion_population = smf.ols(\n",
        "    formula='babies_per_woman ~ -1 + region + age5_surviving'\n",
        "            '+ age5_surviving:region - age5_surviving + population',\n",
        "    data=gdata).fit()"
      ],
      "execution_count": 13,
      "outputs": []
    },
    {
      "cell_type": "code",
      "metadata": {
        "id": "wwn5GqvmaxKA",
        "colab_type": "code",
        "colab": {
          "base_uri": "https://localhost:8080/",
          "height": 280
        },
        "outputId": "5c39e00c-c42d-45d0-af19-765d002ee8fc"
      },
      "source": [
        "'''\n",
        "Surviving includes constant terms for every region plus a single main term, a\n",
        "slope, for age five survival.\n",
        "'''\n",
        "plotfit(surviving)"
      ],
      "execution_count": 16,
      "outputs": [
        {
          "output_type": "display_data",
          "data": {
            "image/png": "[encoded data removed]",
            "text/plain": [
              "<Figure size 432x288 with 1 Axes>"
            ]
          },
          "metadata": {
            "tags": [],
            "needs_background": "light"
          }
        }
      ]
    },
    {
      "cell_type": "code",
      "metadata": {
        "id": "79Lr1gegaxKC",
        "colab_type": "code",
        "colab": {
          "base_uri": "https://localhost:8080/",
          "height": 280
        },
        "outputId": "3842ab31-5bff-4c8a-ddb9-6cbfa72897d2"
      },
      "source": [
        "'''\n",
        "This one includes the constant terms, a different slope for every region, and a \n",
        "main term for the population.\n",
        "'''\n",
        "plotfit(surviving_byregion_population)"
      ],
      "execution_count": 17,
      "outputs": [
        {
          "output_type": "display_data",
          "data": {
            "image/png": "[encoded data removed]",
            "text/plain": [
              "<Figure size 432x288 with 1 Axes>"
            ]
          },
          "metadata": {
            "tags": [],
            "needs_background": "light"
          }
        }
      ]
    },
    {
      "cell_type": "code",
      "metadata": {
        "id": "Njov9aRfcaPg",
        "colab_type": "code",
        "colab": {}
      },
      "source": [
        "'''\n",
        "The question is how can we tell which model is better? \n",
        "\n",
        "In this unit, we will be looking at classical measure of goodness of fit, such \n",
        "as mean square residual, R**2, the F Statistics, and ANOVA tables. All of these,\n",
        "and many more, have been developed in the analytics-heavy pre-computer era, so\n",
        "they do require some mathematical development to be understood fully.\n",
        "'''"
      ],
      "execution_count": null,
      "outputs": []
    },
    {
      "cell_type": "code",
      "metadata": {
        "id": "UB0I-8bkaxKE",
        "colab_type": "code",
        "colab": {
          "base_uri": "https://localhost:8080/",
          "height": 282
        },
        "outputId": "3043c69c-3ce5-4d38-e88d-8b170614faff"
      },
      "source": [
        "'''\n",
        "The first thing we can do is plot the actual residuals. This is saved in the \n",
        "StatsModels fit results object. We're going to do a scatter plot of an explanatory \n",
        "variable against the residuals.\n",
        "\n",
        "We can see that our best model so far does better than the simple ones, but not\n",
        "by much.\n",
        "\n",
        "Is this because it would be better for our residuals to be closer to a straight \n",
        "line?\n",
        "\n",
        "'''\n",
        "plt.scatter(gdata.age5_surviving,groupmeans.resid)\n",
        "plt.scatter(gdata.age5_surviving,surviving.resid)\n",
        "plt.scatter(gdata.age5_surviving,surviving_byregion_population.resid)"
      ],
      "execution_count": 18,
      "outputs": [
        {
          "output_type": "execute_result",
          "data": {
            "text/plain": [
              "<matplotlib.collections.PathCollection at 0x7effb264e198>"
            ]
          },
          "metadata": {
            "tags": []
          },
          "execution_count": 18
        },
        {
          "output_type": "display_data",
          "data": {
            "image/png": "[encoded data removed]",
            "text/plain": [
              "<Figure size 432x288 with 1 Axes>"
            ]
          },
          "metadata": {
            "tags": [],
            "needs_background": "light"
          }
        }
      ]
    },
    {
      "cell_type": "code",
      "metadata": {
        "id": "0kkfHfIIaxKG",
        "colab_type": "code",
        "colab": {
          "base_uri": "https://localhost:8080/",
          "height": 67
        },
        "outputId": "3747afb1-798e-4a9a-a568-97ac5733cf73"
      },
      "source": [
        "'''\n",
        "The fit results object also contain the mean square residual, which gives us\n",
        "goodness of fit in a single number.\n",
        "\n",
        "Below, we're going to loop through the three different models, and just print\n",
        "mse_resid for mean squared error.\n",
        "\n",
        "He says that Mean Squared Error is the first thing and simplest thing he looks at.\n",
        "'''\n",
        "for model in [groupmeans,surviving,surviving_byregion_population]:\n",
        "    print(model.mse_resid)"
      ],
      "execution_count": 19,
      "outputs": [
        {
          "output_type": "stream",
          "text": [
            "1.4979520263709156\n",
            "0.9423025333008324\n",
            "0.8480227300570337\n"
          ],
          "name": "stdout"
        }
      ]
    },
    {
      "cell_type": "code",
      "metadata": {
        "id": "UXrTN3x6axKI",
        "colab_type": "code",
        "colab": {},
        "outputId": "8351fdcd-f0a6-4101-f2d6-835e31abef95"
      },
      "source": [
        "'''\n",
        "The R Squared is another statistic that gives us an idea of goodness of fit. It\n",
        "is R**2 = (Explained Variance)/(Total Variance). Explained Variance is the variance\n",
        "of the fitted model divided by the total variance of the data. It has a min,max\n",
        "of 0,1.\n",
        "'''\n",
        "for model in [groupmeans,surviving,surviving_byregion_population]:\n",
        "    print(model.rsquared)"
      ],
      "execution_count": null,
      "outputs": [
        {
          "output_type": "stream",
          "text": [
            "0.6364676965596588\n",
            "0.7726009080146058\n",
            "0.7999775707885213\n"
          ],
          "name": "stdout"
        }
      ]
    },
    {
      "cell_type": "code",
      "metadata": {
        "id": "VXUBbp4sfPpj",
        "colab_type": "code",
        "colab": {}
      },
      "source": [
        "'''\n",
        "In both cases for mean squared error and r squared, we see progress in going towards\n",
        "more complicated models.\n",
        "'''"
      ],
      "execution_count": null,
      "outputs": []
    },
    {
      "cell_type": "code",
      "metadata": {
        "id": "8B4-br2QaxKK",
        "colab_type": "code",
        "colab": {
          "base_uri": "https://localhost:8080/",
          "height": 67
        },
        "outputId": "c38c87dd-fdf8-486b-a464-1811f2de87ff"
      },
      "source": [
        "'''\n",
        "Another interesting number that is computed for us by StatsModels is the F-Statistic,\n",
        "which takes into account not only the explained and unexplained variance, but the\n",
        "number of model parameters. This shows that too many parameters will overfit the\n",
        "data, conforming to the vagaries of the observations, but losing predictive power.\n",
        "\n",
        "F statistic: explanatory power of fit parameters compared to \"random\" fit vectors.\n",
        "\n",
        "As John von Neumann famously said, \"With four parameters, I can fit an elephant, \n",
        "and with five, I can make him wiggle his trunk.\"\n",
        "\n",
        "In essence, the F-Statistic measures how much, on average, each parameter contributes\n",
        "to the growth of the R Squared, compared to a random model vector. That is, the\n",
        "hypothetical explanatory variable that has random values, and no link to the response\n",
        "variable at all.\n",
        "\n",
        "An F of 1 means that the parameter contributes the same as a random vector. A large\n",
        "F, that the parameters explains much more than that.\n",
        "\n",
        "We get the F-Statistic from the result objects.\n",
        "\n",
        "The below values tell us that the simple surviving model (the second one) seems\n",
        "to hit a sweet spot.\n",
        "\n",
        "'''\n",
        "for model in [groupmeans,surviving,surviving_byregion_population]:\n",
        "    print(model.fvalue)"
      ],
      "execution_count": 20,
      "outputs": [
        {
          "output_type": "stream",
          "text": [
            "103.88003937611684\n",
            "150.34180603430977\n",
            "86.48787556725169\n"
          ],
          "name": "stdout"
        }
      ]
    },
    {
      "cell_type": "code",
      "metadata": {
        "id": "WyLG6niZaxKM",
        "colab_type": "code",
        "colab": {
          "base_uri": "https://localhost:8080/",
          "height": 519
        },
        "outputId": "daaa6163-e815-4cb7-c2ef-5b4a33828558"
      },
      "source": [
        "'''\n",
        "StatsModels actually provides a lot more. Look at the below summary for a fit.\n",
        "Um, really cool but it looks like gibberish to me. I hope that changes.\n",
        "'''\n",
        "surviving.summary()"
      ],
      "execution_count": 21,
      "outputs": [
        {
          "output_type": "execute_result",
          "data": {
            "text/html": [
              "<table class=\"simpletable\">\n",
              "<caption>OLS Regression Results</caption>\n",
              "<tr>\n",
              "  <th>Dep. Variable:</th>    <td>babies_per_woman</td> <th>  R-squared:         </th> <td>   0.773</td>\n",
              "</tr>\n",
              "<tr>\n",
              "  <th>Model:</th>                   <td>OLS</td>       <th>  Adj. R-squared:    </th> <td>   0.767</td>\n",
              "</tr>\n",
              "<tr>\n",
              "  <th>Method:</th>             <td>Least Squares</td>  <th>  F-statistic:       </th> <td>   150.3</td>\n",
              "</tr>\n",
              "<tr>\n",
              "  <th>Date:</th>             <td>Mon, 20 Jul 2020</td> <th>  Prob (F-statistic):</th> <td>8.26e-56</td>\n",
              "</tr>\n",
              "<tr>\n",
              "  <th>Time:</th>                 <td>18:43:58</td>     <th>  Log-Likelihood:    </th> <td> -250.30</td>\n",
              "</tr>\n",
              "<tr>\n",
              "  <th>No. Observations:</th>      <td>   182</td>      <th>  AIC:               </th> <td>   510.6</td>\n",
              "</tr>\n",
              "<tr>\n",
              "  <th>Df Residuals:</th>          <td>   177</td>      <th>  BIC:               </th> <td>   526.6</td>\n",
              "</tr>\n",
              "<tr>\n",
              "  <th>Df Model:</th>              <td>     4</td>      <th>                     </th>     <td> </td>   \n",
              "</tr>\n",
              "<tr>\n",
              "  <th>Covariance Type:</th>      <td>nonrobust</td>    <th>                     </th>     <td> </td>   \n",
              "</tr>\n",
              "</table>\n",
              "<table class=\"simpletable\">\n",
              "<tr>\n",
              "         <td></td>            <th>coef</th>     <th>std err</th>      <th>t</th>      <th>P>|t|</th>  <th>[0.025</th>    <th>0.975]</th>  \n",
              "</tr>\n",
              "<tr>\n",
              "  <th>region[Africa]</th>  <td>   18.2658</td> <td>    1.168</td> <td>   15.639</td> <td> 0.000</td> <td>   15.961</td> <td>   20.571</td>\n",
              "</tr>\n",
              "<tr>\n",
              "  <th>region[America]</th> <td>   17.0859</td> <td>    1.315</td> <td>   12.990</td> <td> 0.000</td> <td>   14.490</td> <td>   19.682</td>\n",
              "</tr>\n",
              "<tr>\n",
              "  <th>region[Asia]</th>    <td>   17.8647</td> <td>    1.279</td> <td>   13.971</td> <td> 0.000</td> <td>   15.341</td> <td>   20.388</td>\n",
              "</tr>\n",
              "<tr>\n",
              "  <th>region[Europe]</th>  <td>   15.8722</td> <td>    1.352</td> <td>   11.739</td> <td> 0.000</td> <td>   13.204</td> <td>   18.541</td>\n",
              "</tr>\n",
              "<tr>\n",
              "  <th>age5_surviving</th>  <td>   -0.1419</td> <td>    0.014</td> <td>  -10.294</td> <td> 0.000</td> <td>   -0.169</td> <td>   -0.115</td>\n",
              "</tr>\n",
              "</table>\n",
              "<table class=\"simpletable\">\n",
              "<tr>\n",
              "  <th>Omnibus:</th>       <td>13.021</td> <th>  Durbin-Watson:     </th> <td>   1.947</td>\n",
              "</tr>\n",
              "<tr>\n",
              "  <th>Prob(Omnibus):</th> <td> 0.001</td> <th>  Jarque-Bera (JB):  </th> <td>  18.362</td>\n",
              "</tr>\n",
              "<tr>\n",
              "  <th>Skew:</th>          <td> 0.443</td> <th>  Prob(JB):          </th> <td>0.000103</td>\n",
              "</tr>\n",
              "<tr>\n",
              "  <th>Kurtosis:</th>      <td> 4.279</td> <th>  Cond. No.          </th> <td>3.25e+03</td>\n",
              "</tr>\n",
              "</table><br/><br/>Warnings:<br/>[1] Standard Errors assume that the covariance matrix of the errors is correctly specified.<br/>[2] The condition number is large, 3.25e+03. This might indicate that there are<br/>strong multicollinearity or other numerical problems."
            ],
            "text/plain": [
              "<class 'statsmodels.iolib.summary.Summary'>\n",
              "\"\"\"\n",
              "                            OLS Regression Results                            \n",
              "==============================================================================\n",
              "Dep. Variable:       babies_per_woman   R-squared:                       0.773\n",
              "Model:                            OLS   Adj. R-squared:                  0.767\n",
              "Method:                 Least Squares   F-statistic:                     150.3\n",
              "Date:                Mon, 20 Jul 2020   Prob (F-statistic):           8.26e-56\n",
              "Time:                        18:43:58   Log-Likelihood:                -250.30\n",
              "No. Observations:                 182   AIC:                             510.6\n",
              "Df Residuals:                     177   BIC:                             526.6\n",
              "Df Model:                           4                                         \n",
              "Covariance Type:            nonrobust                                         \n",
              "===================================================================================\n",
              "                      coef    std err          t      P>|t|      [0.025      0.975]\n",
              "-----------------------------------------------------------------------------------\n",
              "region[Africa]     18.2658      1.168     15.639      0.000      15.961      20.571\n",
              "region[America]    17.0859      1.315     12.990      0.000      14.490      19.682\n",
              "region[Asia]       17.8647      1.279     13.971      0.000      15.341      20.388\n",
              "region[Europe]     15.8722      1.352     11.739      0.000      13.204      18.541\n",
              "age5_surviving     -0.1419      0.014    -10.294      0.000      -0.169      -0.115\n",
              "==============================================================================\n",
              "Omnibus:                       13.021   Durbin-Watson:                   1.947\n",
              "Prob(Omnibus):                  0.001   Jarque-Bera (JB):               18.362\n",
              "Skew:                           0.443   Prob(JB):                     0.000103\n",
              "Kurtosis:                       4.279   Cond. No.                     3.25e+03\n",
              "==============================================================================\n",
              "\n",
              "Warnings:\n",
              "[1] Standard Errors assume that the covariance matrix of the errors is correctly specified.\n",
              "[2] The condition number is large, 3.25e+03. This might indicate that there are\n",
              "strong multicollinearity or other numerical problems.\n",
              "\"\"\""
            ]
          },
          "metadata": {
            "tags": []
          },
          "execution_count": 21
        }
      ]
    },
    {
      "cell_type": "code",
      "metadata": {
        "id": "3i8Jp2zBi-ev",
        "colab_type": "code",
        "colab": {}
      },
      "source": [
        "'''\n",
        "Certain key goodness of fit statistics are collected in what is known as an ANOVA\n",
        "table, where ANOVA stands for analysis of variance\n",
        "'''"
      ],
      "execution_count": null,
      "outputs": []
    },
    {
      "cell_type": "code",
      "metadata": {
        "id": "9KZ5ri8-axKP",
        "colab_type": "code",
        "colab": {
          "base_uri": "https://localhost:8080/",
          "height": 106
        },
        "outputId": "6876bb47-94c2-424f-8570-b1518b676dc5"
      },
      "source": [
        "'''\n",
        "The first column, df, shows the number of degrees of freedom, the number of parameters,\n",
        "and for the residual, the number of data points - minus the number of parameters.\n",
        "\n",
        "The sum squared and mean squared columns show the total and average explained and \n",
        "residual variance.\n",
        "\n",
        "The column F is the F-statistic.\n",
        "\n",
        "The last column is the P value for a known model with the same number of parameters\n",
        "as ours but where all the terms are random.\n",
        "\n",
        "He says that clearlythe groupmeans region explains a lot of the variance of the \n",
        "data, with a very high F-Statistic\n",
        "\n",
        "'''\n",
        "\n",
        "sm.stats.anova_lm(groupmeans)"
      ],
      "execution_count": 23,
      "outputs": [
        {
          "output_type": "execute_result",
          "data": {
            "text/html": [
              "<div>\n",
              "<style scoped>\n",
              "    .dataframe tbody tr th:only-of-type {\n",
              "        vertical-align: middle;\n",
              "    }\n",
              "\n",
              "    .dataframe tbody tr th {\n",
              "        vertical-align: top;\n",
              "    }\n",
              "\n",
              "    .dataframe thead th {\n",
              "        text-align: right;\n",
              "    }\n",
              "</style>\n",
              "<table border=\"1\" class=\"dataframe\">\n",
              "  <thead>\n",
              "    <tr style=\"text-align: right;\">\n",
              "      <th></th>\n",
              "      <th>df</th>\n",
              "      <th>sum_sq</th>\n",
              "      <th>mean_sq</th>\n",
              "      <th>F</th>\n",
              "      <th>PR(&gt;F)</th>\n",
              "    </tr>\n",
              "  </thead>\n",
              "  <tbody>\n",
              "    <tr>\n",
              "      <th>region</th>\n",
              "      <td>4.0</td>\n",
              "      <td>3927.702839</td>\n",
              "      <td>981.925710</td>\n",
              "      <td>655.512121</td>\n",
              "      <td>2.604302e-105</td>\n",
              "    </tr>\n",
              "    <tr>\n",
              "      <th>Residual</th>\n",
              "      <td>178.0</td>\n",
              "      <td>266.635461</td>\n",
              "      <td>1.497952</td>\n",
              "      <td>NaN</td>\n",
              "      <td>NaN</td>\n",
              "    </tr>\n",
              "  </tbody>\n",
              "</table>\n",
              "</div>"
            ],
            "text/plain": [
              "             df       sum_sq     mean_sq           F         PR(>F)\n",
              "region      4.0  3927.702839  981.925710  655.512121  2.604302e-105\n",
              "Residual  178.0   266.635461    1.497952         NaN            NaN"
            ]
          },
          "metadata": {
            "tags": []
          },
          "execution_count": 23
        }
      ]
    },
    {
      "cell_type": "code",
      "metadata": {
        "id": "sn-txsAlaxKQ",
        "colab_type": "code",
        "colab": {
          "base_uri": "https://localhost:8080/",
          "height": 136
        },
        "outputId": "bb796682-bff8-4933-866e-e550aef3a358"
      },
      "source": [
        "'''\n",
        "Adding the age 5 surviving variable explains a high reduction of the variance, but\n",
        "the F Statistic is still pretty high.\n",
        "'''\n",
        "\n",
        "sm.stats.anova_lm(surviving)"
      ],
      "execution_count": 24,
      "outputs": [
        {
          "output_type": "execute_result",
          "data": {
            "text/html": [
              "<div>\n",
              "<style scoped>\n",
              "    .dataframe tbody tr th:only-of-type {\n",
              "        vertical-align: middle;\n",
              "    }\n",
              "\n",
              "    .dataframe tbody tr th {\n",
              "        vertical-align: top;\n",
              "    }\n",
              "\n",
              "    .dataframe thead th {\n",
              "        text-align: right;\n",
              "    }\n",
              "</style>\n",
              "<table border=\"1\" class=\"dataframe\">\n",
              "  <thead>\n",
              "    <tr style=\"text-align: right;\">\n",
              "      <th></th>\n",
              "      <th>df</th>\n",
              "      <th>sum_sq</th>\n",
              "      <th>mean_sq</th>\n",
              "      <th>F</th>\n",
              "      <th>PR(&gt;F)</th>\n",
              "    </tr>\n",
              "  </thead>\n",
              "  <tbody>\n",
              "    <tr>\n",
              "      <th>region</th>\n",
              "      <td>4.0</td>\n",
              "      <td>3927.702839</td>\n",
              "      <td>981.925710</td>\n",
              "      <td>1042.049316</td>\n",
              "      <td>8.236854e-122</td>\n",
              "    </tr>\n",
              "    <tr>\n",
              "      <th>age5_surviving</th>\n",
              "      <td>1.0</td>\n",
              "      <td>99.847912</td>\n",
              "      <td>99.847912</td>\n",
              "      <td>105.961630</td>\n",
              "      <td>9.003514e-20</td>\n",
              "    </tr>\n",
              "    <tr>\n",
              "      <th>Residual</th>\n",
              "      <td>177.0</td>\n",
              "      <td>166.787548</td>\n",
              "      <td>0.942303</td>\n",
              "      <td>NaN</td>\n",
              "      <td>NaN</td>\n",
              "    </tr>\n",
              "  </tbody>\n",
              "</table>\n",
              "</div>"
            ],
            "text/plain": [
              "                   df       sum_sq     mean_sq            F         PR(>F)\n",
              "region            4.0  3927.702839  981.925710  1042.049316  8.236854e-122\n",
              "age5_surviving    1.0    99.847912   99.847912   105.961630   9.003514e-20\n",
              "Residual        177.0   166.787548    0.942303          NaN            NaN"
            ]
          },
          "metadata": {
            "tags": []
          },
          "execution_count": 24
        }
      ]
    },
    {
      "cell_type": "code",
      "metadata": {
        "id": "H6hwk6A3axKT",
        "colab_type": "code",
        "colab": {
          "base_uri": "https://localhost:8080/",
          "height": 166
        },
        "outputId": "c456b1e5-bcef-450b-a751-c4fdcf075577"
      },
      "source": [
        "'''\n",
        "For our most complicated model, we get even lower value for the F Statistic for\n",
        "the different parameters, because they are sharing in the interpretation of the\n",
        "data.\n",
        "'''\n",
        "sm.stats.anova_lm(surviving_byregion_population)"
      ],
      "execution_count": 25,
      "outputs": [
        {
          "output_type": "execute_result",
          "data": {
            "text/html": [
              "<div>\n",
              "<style scoped>\n",
              "    .dataframe tbody tr th:only-of-type {\n",
              "        vertical-align: middle;\n",
              "    }\n",
              "\n",
              "    .dataframe tbody tr th {\n",
              "        vertical-align: top;\n",
              "    }\n",
              "\n",
              "    .dataframe thead th {\n",
              "        text-align: right;\n",
              "    }\n",
              "</style>\n",
              "<table border=\"1\" class=\"dataframe\">\n",
              "  <thead>\n",
              "    <tr style=\"text-align: right;\">\n",
              "      <th></th>\n",
              "      <th>df</th>\n",
              "      <th>sum_sq</th>\n",
              "      <th>mean_sq</th>\n",
              "      <th>F</th>\n",
              "      <th>PR(&gt;F)</th>\n",
              "    </tr>\n",
              "  </thead>\n",
              "  <tbody>\n",
              "    <tr>\n",
              "      <th>region</th>\n",
              "      <td>4.0</td>\n",
              "      <td>3927.702839</td>\n",
              "      <td>981.925710</td>\n",
              "      <td>1157.900225</td>\n",
              "      <td>1.132132e-123</td>\n",
              "    </tr>\n",
              "    <tr>\n",
              "      <th>age5_surviving:region</th>\n",
              "      <td>4.0</td>\n",
              "      <td>110.113541</td>\n",
              "      <td>27.528385</td>\n",
              "      <td>32.461848</td>\n",
              "      <td>3.514845e-20</td>\n",
              "    </tr>\n",
              "    <tr>\n",
              "      <th>population</th>\n",
              "      <td>1.0</td>\n",
              "      <td>9.813987</td>\n",
              "      <td>9.813987</td>\n",
              "      <td>11.572788</td>\n",
              "      <td>8.313090e-04</td>\n",
              "    </tr>\n",
              "    <tr>\n",
              "      <th>Residual</th>\n",
              "      <td>173.0</td>\n",
              "      <td>146.707932</td>\n",
              "      <td>0.848023</td>\n",
              "      <td>NaN</td>\n",
              "      <td>NaN</td>\n",
              "    </tr>\n",
              "  </tbody>\n",
              "</table>\n",
              "</div>"
            ],
            "text/plain": [
              "                          df       sum_sq  ...            F         PR(>F)\n",
              "region                   4.0  3927.702839  ...  1157.900225  1.132132e-123\n",
              "age5_surviving:region    4.0   110.113541  ...    32.461848   3.514845e-20\n",
              "population               1.0     9.813987  ...    11.572788   8.313090e-04\n",
              "Residual               173.0   146.707932  ...          NaN            NaN\n",
              "\n",
              "[4 rows x 5 columns]"
            ]
          },
          "metadata": {
            "tags": []
          },
          "execution_count": 25
        }
      ]
    },
    {
      "cell_type": "code",
      "metadata": {
        "id": "l4-AHkCVaxKW",
        "colab_type": "code",
        "colab": {}
      },
      "source": [
        "'''\n",
        "In the next video, we see a much simpler technique for machine learning to compare\n",
        "different models.\n",
        "'''"
      ],
      "execution_count": null,
      "outputs": []
    }
  ]
}