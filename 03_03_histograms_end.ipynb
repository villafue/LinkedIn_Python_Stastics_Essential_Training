{
  "nbformat": 4,
  "nbformat_minor": 0,
  "metadata": {
    "kernelspec": {
      "display_name": "Python 3",
      "language": "python",
      "name": "python3"
    },
    "language_info": {
      "codemirror_mode": {
        "name": "ipython",
        "version": 3
      },
      "file_extension": ".py",
      "mimetype": "text/x-python",
      "name": "python",
      "nbconvert_exporter": "python",
      "pygments_lexer": "ipython3",
      "version": "3.6.4"
    },
    "toc": {
      "base_numbering": 1,
      "nav_menu": {},
      "number_sections": true,
      "sideBar": true,
      "skip_h1_title": false,
      "title_cell": "Table of Contents",
      "title_sidebar": "Contents",
      "toc_cell": false,
      "toc_position": {},
      "toc_section_display": true,
      "toc_window_display": false
    },
    "colab": {
      "name": "03_03_histograms_end.ipynb",
      "provenance": [],
      "toc_visible": true,
      "include_colab_link": true
    }
  },
  "cells": [
    {
      "cell_type": "markdown",
      "metadata": {
        "id": "view-in-github",
        "colab_type": "text"
      },
      "source": [
        "<a href=\"https://colab.research.google.com/github/villafue/LinkedIn_Python_Stastics_Essential_Training/blob/master/03_03_histograms_end.ipynb\" target=\"_parent\"><img src=\"https://colab.research.google.com/assets/colab-badge.svg\" alt=\"Open In Colab\"/></a>"
      ]
    },
    {
      "cell_type": "markdown",
      "metadata": {
        "id": "FD-nnpYNGPY8",
        "colab_type": "text"
      },
      "source": [
        "## Python statistics essential training - 03_03_histograms"
      ]
    },
    {
      "cell_type": "markdown",
      "metadata": {
        "id": "zx7cqLuQGPZC",
        "colab_type": "text"
      },
      "source": [
        "Standard imports"
      ]
    },
    {
      "cell_type": "code",
      "metadata": {
        "id": "SruG3CqMGPZF",
        "colab_type": "code",
        "colab": {}
      },
      "source": [
        "import numpy as np\n",
        "import os\n",
        "import scipy.stats\n",
        "import pandas as pd"
      ],
      "execution_count": 1,
      "outputs": []
    },
    {
      "cell_type": "code",
      "metadata": {
        "id": "s1qox9T6GPZb",
        "colab_type": "code",
        "colab": {}
      },
      "source": [
        "import matplotlib\n",
        "import matplotlib.pyplot as plt\n",
        "\n",
        "from IPython import display\n",
        "from ipywidgets import interact, widgets\n",
        "\n",
        "%matplotlib inline"
      ],
      "execution_count": 18,
      "outputs": []
    },
    {
      "cell_type": "code",
      "metadata": {
        "id": "KyTk1k4zGPZv",
        "colab_type": "code",
        "colab": {}
      },
      "source": [
        "import re\n",
        "import mailbox\n",
        "import csv"
      ],
      "execution_count": 4,
      "outputs": []
    },
    {
      "cell_type": "code",
      "metadata": {
        "id": "K65RFD-wI_H4",
        "colab_type": "code",
        "colab": {
          "base_uri": "https://localhost:8080/",
          "height": 164
        },
        "outputId": "652eed3d-02f4-48cd-d729-82e88a68770a"
      },
      "source": [
        "os.chdir('sample_data')"
      ],
      "execution_count": 8,
      "outputs": [
        {
          "output_type": "error",
          "ename": "FileNotFoundError",
          "evalue": "ignored",
          "traceback": [
            "\u001b[0;31m---------------------------------------------------------------------------\u001b[0m",
            "\u001b[0;31mFileNotFoundError\u001b[0m                         Traceback (most recent call last)",
            "\u001b[0;32m<ipython-input-8-1e8f15fe5145>\u001b[0m in \u001b[0;36m<module>\u001b[0;34m()\u001b[0m\n\u001b[0;32m----> 1\u001b[0;31m \u001b[0mos\u001b[0m\u001b[0;34m.\u001b[0m\u001b[0mchdir\u001b[0m\u001b[0;34m(\u001b[0m\u001b[0;34m'sample_data'\u001b[0m\u001b[0;34m)\u001b[0m\u001b[0;34m\u001b[0m\u001b[0;34m\u001b[0m\u001b[0m\n\u001b[0m",
            "\u001b[0;31mFileNotFoundError\u001b[0m: [Errno 2] No such file or directory: 'sample_data'"
          ]
        }
      ]
    },
    {
      "cell_type": "code",
      "metadata": {
        "id": "AvoOX0aMGPaI",
        "colab_type": "code",
        "colab": {}
      },
      "source": [
        "china1965 = pd.read_csv('income-1965-china.csv')\n",
        "china2015 = pd.read_csv('income-2015-china.csv')\n",
        "usa1965 = pd.read_csv('income-1965-usa.csv')\n",
        "usa2015 = pd.read_csv('income-2015-usa.csv')"
      ],
      "execution_count": 10,
      "outputs": []
    },
    {
      "cell_type": "code",
      "metadata": {
        "id": "8ZJeLB2AGPaX",
        "colab_type": "code",
        "colab": {
          "base_uri": "https://localhost:8080/",
          "height": 282
        },
        "outputId": "b6534d0c-468f-4c85-83f3-8d8da66e9dc4"
      },
      "source": [
        "china1965.income.plot(kind='box')\n",
        "china1965.income.plot(kind='box')"
      ],
      "execution_count": 11,
      "outputs": [
        {
          "output_type": "execute_result",
          "data": {
            "text/plain": [
              "<matplotlib.axes._subplots.AxesSubplot at 0x7fad18e8b390>"
            ]
          },
          "metadata": {
            "tags": []
          },
          "execution_count": 11
        },
        {
          "output_type": "display_data",
          "data": {
            "image/png": "[encoded data removed]",
            "text/plain": [
              "<Figure size 432x288 with 1 Axes>"
            ]
          },
          "metadata": {
            "tags": [],
            "needs_background": "light"
          }
        }
      ]
    },
    {
      "cell_type": "code",
      "metadata": {
        "id": "VbsKHe8hOMvq",
        "colab_type": "code",
        "colab": {
          "base_uri": "https://localhost:8080/",
          "height": 282
        },
        "outputId": "e712652b-230b-42de-cf03-0553ced086ae"
      },
      "source": [
        "pd.DataFrame({'usa': usa1965.income, 'china': china1965.income}).boxplot()"
      ],
      "execution_count": 12,
      "outputs": [
        {
          "output_type": "execute_result",
          "data": {
            "text/plain": [
              "<matplotlib.axes._subplots.AxesSubplot at 0x7fad16b9b208>"
            ]
          },
          "metadata": {
            "tags": []
          },
          "execution_count": 12
        },
        {
          "output_type": "display_data",
          "data": {
            "image/png": "[encoded data removed]",
            "text/plain": [
              "<Figure size 432x288 with 1 Axes>"
            ]
          },
          "metadata": {
            "tags": [],
            "needs_background": "light"
          }
        }
      ]
    },
    {
      "cell_type": "code",
      "metadata": {
        "id": "iE1tPhv-GPa-",
        "colab_type": "code",
        "colab": {
          "base_uri": "https://localhost:8080/",
          "height": 282
        },
        "outputId": "6a2e4231-10aa-49db-8904-7d831deb6b53"
      },
      "source": [
        "pd.DataFrame({'usa': usa1965.log10_income, 'china': china1965.log10_income}).boxplot()\n",
        "pd.DataFrame({'usa': usa1965.log10_income, 'china': china1965.log10_income}).boxplot()"
      ],
      "execution_count": 14,
      "outputs": [
        {
          "output_type": "execute_result",
          "data": {
            "text/plain": [
              "<matplotlib.axes._subplots.AxesSubplot at 0x7fad16abd518>"
            ]
          },
          "metadata": {
            "tags": []
          },
          "execution_count": 14
        },
        {
          "output_type": "display_data",
          "data": {
            "image/png": "[encoded data removed]",
            "text/plain": [
              "<Figure size 432x288 with 1 Axes>"
            ]
          },
          "metadata": {
            "tags": [],
            "needs_background": "light"
          }
        }
      ]
    },
    {
      "cell_type": "code",
      "metadata": {
        "id": "3BRv3ffeGPbU",
        "colab_type": "code",
        "colab": {}
      },
      "source": [
        "china1965.income.plot(kind='hist',histtype='step',bins=30)\n",
        "\n",
        "pp.axvline(china1965.income.mean(),c='C1')\n",
        "pp.axvline(china1965.income.median(),c='C1',linestyle='--')\n",
        "pp.axvline(china1965.income.quantile(0.25),c='C1',linestyle=':')\n",
        "pp.axvline(china1965.income.quantile(0.75),c='C1',linestyle=':')"
      ],
      "execution_count": null,
      "outputs": []
    },
    {
      "cell_type": "code",
      "metadata": {
        "id": "K6azKHd2O8qV",
        "colab_type": "code",
        "colab": {
          "base_uri": "https://localhost:8080/",
          "height": 609
        },
        "outputId": "1bf755cb-a75a-465f-907a-622b1e7e438b"
      },
      "source": [
        "china1965.income.plot(kind='hist',histtype='step',bins=30,figsize=(10,10))\n",
        "\n",
        "plt.axvline(china1965.income.mean(),c='C1')\n",
        "plt.axvline(china1965.income.median(),c='C1',linestyle='--')\n",
        "plt.axvline(china1965.income.quantile(0.25),c='C1',linestyle=':')\n",
        "plt.axvline(china1965`.income.quantile(0.75),c='C1',linestyle=':')"
      ],
      "execution_count": 20,
      "outputs": [
        {
          "output_type": "execute_result",
          "data": {
            "text/plain": [
              "<matplotlib.lines.Line2D at 0x7fad167a6be0>"
            ]
          },
          "metadata": {
            "tags": []
          },
          "execution_count": 20
        },
        {
          "output_type": "display_data",
          "data": {
            "image/png": "[encoded data removed]",
            "text/plain": [
              "<Figure size 720x720 with 1 Axes>"
            ]
          },
          "metadata": {
            "tags": [],
            "needs_background": "light"
          }
        }
      ]
    },
    {
      "cell_type": "code",
      "metadata": {
        "id": "7viI7T4eGPb4",
        "colab_type": "code",
        "colab": {},
        "outputId": "d3366952-5e35-4a22-dc6a-fc17e253d23c"
      },
      "source": [
        "china1965.income.plot(kind='hist',histtype='step',bins=30,density=True)\n",
        "china1965.income.plot.density(bw_method=0.5)\n",
        "\n",
        "pp.axis(xmin=0,xmax=3)"
      ],
      "execution_count": null,
      "outputs": [
        {
          "output_type": "execute_result",
          "data": {
            "text/plain": [
              "(0, 3, 0.0, 1.2342999882944066)"
            ]
          },
          "metadata": {
            "tags": []
          },
          "execution_count": 13
        },
        {
          "output_type": "display_data",
          "data": {
            "image/png": "[encoded data removed]",
            "text/plain": [
              "<matplotlib.figure.Figure at 0x1a1cb22080>"
            ]
          },
          "metadata": {
            "tags": []
          }
        }
      ]
    },
    {
      "cell_type": "code",
      "metadata": {
        "id": "f2gh7j80RgLO",
        "colab_type": "code",
        "colab": {
          "base_uri": "https://localhost:8080/",
          "height": 282
        },
        "outputId": "cb695b60-8d0b-4b4f-da3b-2fa76cac1805"
      },
      "source": [
        "china1965.income.plot(kind='hist',histtype='step',bins=30,density=True)\n",
        "china1965.income.plot.density(bw_method=0.5)\n",
        "\n",
        "plt.axis(xmin=0,xmax=3)"
      ],
      "execution_count": 25,
      "outputs": [
        {
          "output_type": "execute_result",
          "data": {
            "text/plain": [
              "(0.0, 3.0, 0.0, 1.2342999882944066)"
            ]
          },
          "metadata": {
            "tags": []
          },
          "execution_count": 25
        },
        {
          "output_type": "display_data",
          "data": {
            "image/png": "[encoded data removed]",
            "text/plain": [
              "<Figure size 432x288 with 1 Axes>"
            ]
          },
          "metadata": {
            "tags": [],
            "needs_background": "light"
          }
        }
      ]
    },
    {
      "cell_type": "code",
      "metadata": {
        "id": "zYyGrtl5GPcY",
        "colab_type": "code",
        "colab": {},
        "outputId": "5a9c9cc1-6689-47c2-9fde-15a1add67da5"
      },
      "source": [
        "china1965.log10_income.plot.hist(histtype='step',bins=20)\n",
        "usa1965.log10_income.plot.hist(histtype='step',bins=20)\n",
        "\n",
        "levels = [0.25,0.5,1,2,4,8,16,32,64]\n",
        "pp.xticks(np.log10(levels),levels);"
      ],
      "execution_count": null,
      "outputs": [
        {
          "output_type": "display_data",
          "data": {
            "image/png": "[encoded data removed]",
            "text/plain": [
              "<matplotlib.figure.Figure at 0x1a1457ec50>"
            ]
          },
          "metadata": {
            "tags": []
          }
        }
      ]
    },
    {
      "cell_type": "code",
      "metadata": {
        "id": "hxsSl_IkSx5O",
        "colab_type": "code",
        "colab": {
          "base_uri": "https://localhost:8080/",
          "height": 265
        },
        "outputId": "f8120f1d-32c3-452e-86c8-e23e289445ea"
      },
      "source": [
        "china1965.log10_income.plot.hist(histtype='step',bins=20)\n",
        "usa1965.log10_income.plot.hist(histtype='step',bins=20)\n",
        "levels = [0.25,0.5,1,2,4,8,16,32,64]\n",
        "pp.xticks(np.log10(levels),levels);"
      ],
      "execution_count": 27,
      "outputs": [
        {
          "output_type": "display_data",
          "data": {
            "image/png": "[encoded data removed]",
            "text/plain": [
              "<Figure size 432x288 with 1 Axes>"
            ]
          },
          "metadata": {
            "tags": [],
            "needs_background": "light"
          }
        }
      ]
    },
    {
      "cell_type": "code",
      "metadata": {
        "id": "6AB85nmqGPcv",
        "colab_type": "code",
        "colab": {
          "base_uri": "https://localhost:8080/",
          "height": 265
        },
        "outputId": "c8ae49cc-31fe-4461-ec87-d39a4ac04f50"
      },
      "source": [
        "china2015.log10_income.plot.hist(histtype='step',bins=20)\n",
        "usa2015.log10_income.plot.hist(histtype='step',bins=20)\n",
        "\n",
        "levels = [0.25,0.5,1,2,4,8,16,32,64]\n",
        "pp.xticks(np.log10(levels),levels);"
      ],
      "execution_count": 28,
      "outputs": [
        {
          "output_type": "display_data",
          "data": {
            "image/png": "[encoded data removed]",
            "text/plain": [
              "<Figure size 432x288 with 1 Axes>"
            ]
          },
          "metadata": {
            "tags": [],
            "needs_background": "light"
          }
        }
      ]
    },
    {
      "cell_type": "code",
      "metadata": {
        "id": "pTa4s3rbGPdJ",
        "colab_type": "code",
        "colab": {}
      },
      "source": [
        "gapminder = pd.read_csv('gapminder.csv')\n",
        "gapminder = pd.read_csv('gapminder.csv')"
      ],
      "execution_count": 29,
      "outputs": []
    },
    {
      "cell_type": "code",
      "metadata": {
        "id": "r8knkVJKGPdd",
        "colab_type": "code",
        "colab": {}
      },
      "source": [
        "china_pop2015 = float(gapminder.query('country == \"China\" and year == 2015').population)\n",
        "china_pop2015 = float(gapminder.query('country == \"China\" and year == 2015').population)"
      ],
      "execution_count": 31,
      "outputs": []
    },
    {
      "cell_type": "code",
      "metadata": {
        "id": "74JEi4dvGPdp",
        "colab_type": "code",
        "colab": {}
      },
      "source": [
        "usa_pop2015 = float(gapminder.query('country == \"United States\" and year == 2015').population)\n",
        "usa_pop2015 = float(gapminder.query('country == \"United States\" and year == 2015').population)"
      ],
      "execution_count": 32,
      "outputs": []
    },
    {
      "cell_type": "code",
      "metadata": {
        "id": "ObTgadUbGPd4",
        "colab_type": "code",
        "colab": {
          "base_uri": "https://localhost:8080/",
          "height": 34
        },
        "outputId": "89e1c78d-51a3-4914-dfad-bc42326622f4"
      },
      "source": [
        "china_pop2015, usa_pop2015"
      ],
      "execution_count": 33,
      "outputs": [
        {
          "output_type": "execute_result",
          "data": {
            "text/plain": [
              "(1376048943.0, 321773631.0)"
            ]
          },
          "metadata": {
            "tags": []
          },
          "execution_count": 33
        }
      ]
    },
    {
      "cell_type": "code",
      "metadata": {
        "id": "kkcIKkWQGPeX",
        "colab_type": "code",
        "colab": {}
      },
      "source": [
        "china2015['weight'] = china_pop2015 / len(china2015)\n",
        "usa2015['weight'] = usa_pop2015 / len(usa2015)"
      ],
      "execution_count": null,
      "outputs": []
    },
    {
      "cell_type": "code",
      "metadata": {
        "id": "aA414gLGXCqI",
        "colab_type": "code",
        "colab": {}
      },
      "source": [
        "china2015['weight'] = china_pop2015 / len(china2015)\n",
        "usa2015['weight'] = usa_pop2015 / len(usa2015)"
      ],
      "execution_count": 34,
      "outputs": []
    },
    {
      "cell_type": "code",
      "metadata": {
        "id": "pruSKIAiYriO",
        "colab_type": "code",
        "colab": {
          "base_uri": "https://localhost:8080/",
          "height": 204
        },
        "outputId": "5b7a45bd-25a2-4fa8-fc4d-0202bfcb8adc"
      },
      "source": [
        "china2015.head()"
      ],
      "execution_count": 35,
      "outputs": [
        {
          "output_type": "execute_result",
          "data": {
            "text/html": [
              "<div>\n",
              "<style scoped>\n",
              "    .dataframe tbody tr th:only-of-type {\n",
              "        vertical-align: middle;\n",
              "    }\n",
              "\n",
              "    .dataframe tbody tr th {\n",
              "        vertical-align: top;\n",
              "    }\n",
              "\n",
              "    .dataframe thead th {\n",
              "        text-align: right;\n",
              "    }\n",
              "</style>\n",
              "<table border=\"1\" class=\"dataframe\">\n",
              "  <thead>\n",
              "    <tr style=\"text-align: right;\">\n",
              "      <th></th>\n",
              "      <th>income</th>\n",
              "      <th>log10_income</th>\n",
              "      <th>weight</th>\n",
              "    </tr>\n",
              "  </thead>\n",
              "  <tbody>\n",
              "    <tr>\n",
              "      <th>0</th>\n",
              "      <td>4.499303</td>\n",
              "      <td>0.653145</td>\n",
              "      <td>1376048.943</td>\n",
              "    </tr>\n",
              "    <tr>\n",
              "      <th>1</th>\n",
              "      <td>13.727408</td>\n",
              "      <td>1.137589</td>\n",
              "      <td>1376048.943</td>\n",
              "    </tr>\n",
              "    <tr>\n",
              "      <th>2</th>\n",
              "      <td>7.075421</td>\n",
              "      <td>0.849752</td>\n",
              "      <td>1376048.943</td>\n",
              "    </tr>\n",
              "    <tr>\n",
              "      <th>3</th>\n",
              "      <td>4.667088</td>\n",
              "      <td>0.669046</td>\n",
              "      <td>1376048.943</td>\n",
              "    </tr>\n",
              "    <tr>\n",
              "      <th>4</th>\n",
              "      <td>6.456985</td>\n",
              "      <td>0.810030</td>\n",
              "      <td>1376048.943</td>\n",
              "    </tr>\n",
              "  </tbody>\n",
              "</table>\n",
              "</div>"
            ],
            "text/plain": [
              "      income  log10_income       weight\n",
              "0   4.499303      0.653145  1376048.943\n",
              "1  13.727408      1.137589  1376048.943\n",
              "2   7.075421      0.849752  1376048.943\n",
              "3   4.667088      0.669046  1376048.943\n",
              "4   6.456985      0.810030  1376048.943"
            ]
          },
          "metadata": {
            "tags": []
          },
          "execution_count": 35
        }
      ]
    },
    {
      "cell_type": "code",
      "metadata": {
        "id": "ATpre7RMGPfJ",
        "colab_type": "code",
        "colab": {
          "base_uri": "https://localhost:8080/",
          "height": 276
        },
        "outputId": "f16ab4f2-35a0-4e04-a708-1c4ca43a1b92"
      },
      "source": [
        "china2015.log10_income.plot.hist(histtype='step',bins=20,weights=china2015.weight)\n",
        "usa2015.log10_income.plot.hist(histtype='step',bins=20,weights=usa2015.weight)\n",
        "\n",
        "levels = [0.25,0.5,1,2,4,8,16,32,64]\n",
        "pp.xticks(np.log10(levels),levels);"
      ],
      "execution_count": 37,
      "outputs": [
        {
          "output_type": "display_data",
          "data": {
            "image/png": "[encoded data removed]",
            "text/plain": [
              "<Figure size 432x288 with 1 Axes>"
            ]
          },
          "metadata": {
            "tags": [],
            "needs_background": "light"
          }
        }
      ]
    },
    {
      "cell_type": "code",
      "metadata": {
        "id": "slx0YBsRGPfd",
        "colab_type": "code",
        "colab": {}
      },
      "source": [
        ""
      ],
      "execution_count": null,
      "outputs": []
    }
  ]
}