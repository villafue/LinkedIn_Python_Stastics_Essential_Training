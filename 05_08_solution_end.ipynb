{
  "nbformat": 4,
  "nbformat_minor": 0,
  "metadata": {
    "kernelspec": {
      "display_name": "Python 3",
      "language": "python",
      "name": "python3"
    },
    "language_info": {
      "codemirror_mode": {
        "name": "ipython",
        "version": 3
      },
      "file_extension": ".py",
      "mimetype": "text/x-python",
      "name": "python",
      "nbconvert_exporter": "python",
      "pygments_lexer": "ipython3",
      "version": "3.6.4"
    },
    "toc": {
      "base_numbering": 1,
      "nav_menu": {},
      "number_sections": true,
      "sideBar": true,
      "skip_h1_title": false,
      "title_cell": "Table of Contents",
      "title_sidebar": "Contents",
      "toc_cell": false,
      "toc_position": {},
      "toc_section_display": true,
      "toc_window_display": false
    },
    "colab": {
      "name": "05_08_solution_end.ipynb",
      "provenance": [],
      "toc_visible": true,
      "include_colab_link": true
    }
  },
  "cells": [
    {
      "cell_type": "markdown",
      "metadata": {
        "id": "view-in-github",
        "colab_type": "text"
      },
      "source": [
        "<a href=\"https://colab.research.google.com/github/villafue/LinkedIn_Python_Stastics_Essential_Training/blob/master/05_08_solution_end.ipynb\" target=\"_parent\"><img src=\"https://colab.research.google.com/assets/colab-badge.svg\" alt=\"Open In Colab\"/></a>"
      ]
    },
    {
      "cell_type": "markdown",
      "metadata": {
        "id": "wU3V4WnHy-8P",
        "colab_type": "text"
      },
      "source": [
        "## Python statistics essential training - 05_07_solution"
      ]
    },
    {
      "cell_type": "markdown",
      "metadata": {
        "id": "Jjs85FIqy-8Q",
        "colab_type": "text"
      },
      "source": [
        "Standard imports"
      ]
    },
    {
      "cell_type": "code",
      "metadata": {
        "id": "Wl-KJMPbzGLO",
        "colab_type": "code",
        "colab": {}
      },
      "source": [
        "'''\n",
        "The challenge is to find a model that fits the gapminder 1985 babies per woman data\n",
        "better than our best model so far, region plus survival at age 5, as judged using\n",
        "our cross validation criteria. So the cross validation that we need to beat is a\n",
        "little more than one.\n",
        "\n",
        "Hint: Think about adding not just explanatory variables, but functions of explanatory\n",
        "variables. The easiest way to do so is to add a new column to the data.\n",
        "'''"
      ],
      "execution_count": null,
      "outputs": []
    },
    {
      "cell_type": "code",
      "metadata": {
        "id": "9Kokt-y8y-8R",
        "colab_type": "code",
        "colab": {}
      },
      "source": [
        "import math\n",
        "import os"
      ],
      "execution_count": 1,
      "outputs": []
    },
    {
      "cell_type": "code",
      "metadata": {
        "id": "PZz6DtUxzxdE",
        "colab_type": "code",
        "colab": {}
      },
      "source": [
        "os.chdir('sample_data')"
      ],
      "execution_count": 2,
      "outputs": []
    },
    {
      "cell_type": "code",
      "metadata": {
        "id": "xTcSvoqRy-8U",
        "colab_type": "code",
        "colab": {}
      },
      "source": [
        "import numpy as np\n",
        "import pandas as pd"
      ],
      "execution_count": 3,
      "outputs": []
    },
    {
      "cell_type": "code",
      "metadata": {
        "id": "6RV1SZRRy-8X",
        "colab_type": "code",
        "colab": {}
      },
      "source": [
        "import matplotlib\n",
        "import matplotlib.pyplot as plt"
      ],
      "execution_count": 4,
      "outputs": []
    },
    {
      "cell_type": "code",
      "metadata": {
        "id": "R_8VI1pty-8Z",
        "colab_type": "code",
        "colab": {}
      },
      "source": [
        "%matplotlib inline"
      ],
      "execution_count": 5,
      "outputs": []
    },
    {
      "cell_type": "code",
      "metadata": {
        "id": "9uwd5y98y-8c",
        "colab_type": "code",
        "colab": {
          "base_uri": "https://localhost:8080/",
          "height": 70
        },
        "outputId": "c5ca1cce-2679-44c0-c565-a71e0add510c"
      },
      "source": [
        "import statsmodels\n",
        "import statsmodels.api as sm\n",
        "import statsmodels.formula.api as smf"
      ],
      "execution_count": 6,
      "outputs": [
        {
          "output_type": "stream",
          "text": [
            "/usr/local/lib/python3.6/dist-packages/statsmodels/tools/_testing.py:19: FutureWarning: pandas.util.testing is deprecated. Use the functions in the public API at pandas.testing instead.\n",
            "  import pandas.util.testing as tm\n"
          ],
          "name": "stderr"
        }
      ]
    },
    {
      "cell_type": "markdown",
      "metadata": {
        "id": "4NIC2f50y-8g",
        "colab_type": "text"
      },
      "source": [
        "Loading gapminder data for year 1985 (Live Aid!)."
      ]
    },
    {
      "cell_type": "code",
      "metadata": {
        "id": "Pcvetwz3y-8g",
        "colab_type": "code",
        "colab": {}
      },
      "source": [
        "gapminder = pd.read_csv('gapminder.csv')"
      ],
      "execution_count": 7,
      "outputs": []
    },
    {
      "cell_type": "code",
      "metadata": {
        "id": "VIjAIcX4y-8i",
        "colab_type": "code",
        "colab": {}
      },
      "source": [
        "gdata = gapminder.query('year == 1985')"
      ],
      "execution_count": 8,
      "outputs": []
    },
    {
      "cell_type": "markdown",
      "metadata": {
        "id": "Lzjp7-EJy-8l",
        "colab_type": "text"
      },
      "source": [
        "Refactored plotting so that it works on arbitrary datasets."
      ]
    },
    {
      "cell_type": "code",
      "metadata": {
        "id": "zNRZJw74y-8m",
        "colab_type": "code",
        "colab": {}
      },
      "source": [
        "def sc(data):\n",
        "    return 1e-6 * data.population, data.region.map({'Africa': 'skyblue', 'Europe': 'gold',\n",
        "                                                   'America': 'palegreen', 'Asia': 'coral'})\n",
        "\n",
        "def plotdata(data=gdata):\n",
        "    size, colors = sc(data)\n",
        "    data.plot.scatter('age5_surviving','babies_per_woman',\n",
        "                      c=colors,s=size,linewidths=0.5,edgecolor='k',alpha=0.5)\n",
        "                      \n",
        "def plotfit(fit,data=gdata):\n",
        "    plotdata(data)\n",
        "\n",
        "    size, colors = sc(data)\n",
        "    plt.scatter(data.age5_surviving,fit.predict(data),\n",
        "               c=colors,s=30,linewidths=0.5,edgecolor='k',marker='D')"
      ],
      "execution_count": 13,
      "outputs": []
    },
    {
      "cell_type": "markdown",
      "metadata": {
        "id": "I61Aq6Tay-8o",
        "colab_type": "text"
      },
      "source": [
        "Our cross-validation function"
      ]
    },
    {
      "cell_type": "code",
      "metadata": {
        "id": "_o-861Dcy-8p",
        "colab_type": "code",
        "colab": {}
      },
      "source": [
        "# we'll make a function that is generic in terms of formula and response variable\n",
        "def cross_validate(data,formula,response,n=100):\n",
        "    ret = []\n",
        "    \n",
        "    for i in range(n):\n",
        "        shuffled = data.sample(len(data))\n",
        "        \n",
        "        training = shuffled.iloc[:len(data)//2]\n",
        "        testing = shuffled.iloc[len(data)//2:]\n",
        "        \n",
        "        trained = smf.ols(formula,data=training).fit()\n",
        "        \n",
        "        resid = trained.predict(testing) - testing[response]\n",
        "        df = len(testing) - trained.df_model - 1\n",
        "        mse = np.sum(resid**2) / df\n",
        "    \n",
        "        ret.append(mse)\n",
        "    \n",
        "    return np.mean(ret)"
      ],
      "execution_count": 10,
      "outputs": []
    },
    {
      "cell_type": "markdown",
      "metadata": {
        "id": "7M8_Mm68y-8r",
        "colab_type": "text"
      },
      "source": [
        "The best model formula we've found"
      ]
    },
    {
      "cell_type": "code",
      "metadata": {
        "id": "CVHJsS6ly-8s",
        "colab_type": "code",
        "colab": {}
      },
      "source": [
        "f_surviving = 'babies_per_woman ~ -1 + region + age5_surviving'"
      ],
      "execution_count": 11,
      "outputs": []
    },
    {
      "cell_type": "code",
      "metadata": {
        "id": "fuin6sE7y-8u",
        "colab_type": "code",
        "colab": {
          "base_uri": "https://localhost:8080/",
          "height": 297
        },
        "outputId": "9fc4c961-3247-4c84-acd1-c18c396ec1c2"
      },
      "source": [
        "fit = smf.ols(f_surviving,gdata).fit()\n",
        "plotfit(fit,gdata)\n",
        "cross_validate(gdata,f_surviving,'babies_per_woman')"
      ],
      "execution_count": 14,
      "outputs": [
        {
          "output_type": "execute_result",
          "data": {
            "text/plain": [
              "1.0851442163891987"
            ]
          },
          "metadata": {
            "tags": []
          },
          "execution_count": 14
        },
        {
          "output_type": "display_data",
          "data": {
            "image/png": "[encoded data removed]",
            "text/plain": [
              "<Figure size 432x288 with 1 Axes>"
            ]
          },
          "metadata": {
            "tags": [],
            "needs_background": "light"
          }
        }
      ]
    },
    {
      "cell_type": "code",
      "metadata": {
        "id": "PLKFbq6_y-8x",
        "colab_type": "code",
        "colab": {
          "base_uri": "https://localhost:8080/",
          "height": 297
        },
        "outputId": "4f94f967-07f2-46ce-c6d7-2f73fab317ab"
      },
      "source": [
        "'''\n",
        "His solution was to go beyond the linear dependence on age 5 surviving and adding\n",
        "a quadratic term (pow...). \n",
        "\n",
        "The cross-validation means that Quintero is about 0.94 (whatever that means).\n",
        "'''\n",
        "formula = 'babies_per_woman ~ -1 + region + age5_surviving + pow(age5_surviving,2)'\n",
        "fit = smf.ols(formula,gdata).fit()\n",
        "plotfit(fit,gdata)\n",
        "cross_validate(gdata,formula,'babies_per_woman')"
      ],
      "execution_count": 15,
      "outputs": [
        {
          "output_type": "execute_result",
          "data": {
            "text/plain": [
              "0.9551777322703913"
            ]
          },
          "metadata": {
            "tags": []
          },
          "execution_count": 15
        },
        {
          "output_type": "display_data",
          "data": {
            "image/png": "[encoded data removed]",
            "text/plain": [
              "<Figure size 432x288 with 1 Axes>"
            ]
          },
          "metadata": {
            "tags": [],
            "needs_background": "light"
          }
        }
      ]
    },
    {
      "cell_type": "code",
      "metadata": {
        "id": "0vZ3qXbwy-8z",
        "colab_type": "code",
        "colab": {
          "base_uri": "https://localhost:8080/",
          "height": 118
        },
        "outputId": "94bf65a5-ec8b-4789-8b3d-7f03af6507a9"
      },
      "source": [
        "'''\n",
        "This code her just states that if we were not able to input the (pow) code above,\n",
        "we could have just done it by adding a new column as written below.\n",
        "'''\n",
        "gdata['age5_surviving2'] = gdata.age5_surviving**2"
      ],
      "execution_count": 16,
      "outputs": [
        {
          "output_type": "stream",
          "text": [
            "/usr/local/lib/python3.6/dist-packages/ipykernel_launcher.py:1: SettingWithCopyWarning: \n",
            "A value is trying to be set on a copy of a slice from a DataFrame.\n",
            "Try using .loc[row_indexer,col_indexer] = value instead\n",
            "\n",
            "See the caveats in the documentation: https://pandas.pydata.org/pandas-docs/stable/user_guide/indexing.html#returning-a-view-versus-a-copy\n",
            "  \"\"\"Entry point for launching an IPython kernel.\n"
          ],
          "name": "stderr"
        }
      ]
    },
    {
      "cell_type": "code",
      "metadata": {
        "id": "xi11rKYry-81",
        "colab_type": "code",
        "colab": {}
      },
      "source": [
        ""
      ],
      "execution_count": null,
      "outputs": []
    }
  ]
}