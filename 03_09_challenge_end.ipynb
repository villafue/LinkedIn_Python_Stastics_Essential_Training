{
  "nbformat": 4,
  "nbformat_minor": 0,
  "metadata": {
    "kernelspec": {
      "display_name": "Python 3",
      "language": "python",
      "name": "python3"
    },
    "language_info": {
      "codemirror_mode": {
        "name": "ipython",
        "version": 3
      },
      "file_extension": ".py",
      "mimetype": "text/x-python",
      "name": "python",
      "nbconvert_exporter": "python",
      "pygments_lexer": "ipython3",
      "version": "3.6.4"
    },
    "toc": {
      "base_numbering": 1,
      "nav_menu": {},
      "number_sections": true,
      "sideBar": true,
      "skip_h1_title": false,
      "title_cell": "Table of Contents",
      "title_sidebar": "Contents",
      "toc_cell": false,
      "toc_position": {},
      "toc_section_display": true,
      "toc_window_display": false
    },
    "colab": {
      "name": "03_09_challenge_end.ipynb",
      "provenance": [],
      "include_colab_link": true
    }
  },
  "cells": [
    {
      "cell_type": "markdown",
      "metadata": {
        "id": "view-in-github",
        "colab_type": "text"
      },
      "source": [
        "<a href=\"https://colab.research.google.com/github/villafue/LinkedIn_Python_Stastics_Essential_Training/blob/master/03_09_challenge_end.ipynb\" target=\"_parent\"><img src=\"https://colab.research.google.com/assets/colab-badge.svg\" alt=\"Open In Colab\"/></a>"
      ]
    },
    {
      "cell_type": "markdown",
      "metadata": {
        "id": "ysHWJx-fMTQ-",
        "colab_type": "text"
      },
      "source": [
        "## Python statistics essential training - 03_09_challenge"
      ]
    },
    {
      "cell_type": "markdown",
      "metadata": {
        "id": "ZzMS0GaGMTQ_",
        "colab_type": "text"
      },
      "source": [
        "Standard imports"
      ]
    },
    {
      "cell_type": "code",
      "metadata": {
        "id": "7WFA644gMTRA",
        "colab_type": "code",
        "colab": {}
      },
      "source": [
        "import numpy as np\n",
        "import scipy.stats\n",
        "import pandas as pd\n",
        "import os"
      ],
      "execution_count": 1,
      "outputs": []
    },
    {
      "cell_type": "code",
      "metadata": {
        "id": "g4AMQQRKMTRE",
        "colab_type": "code",
        "colab": {}
      },
      "source": [
        "import matplotlib\n",
        "import matplotlib.pyplot as plt\n",
        "\n",
        "import pandas.plotting\n",
        "\n",
        "from IPython import display\n",
        "from ipywidgets import interact, widgets\n",
        "# os.chdir('sample_data')\n",
        "\n",
        "%matplotlib inline"
      ],
      "execution_count": 12,
      "outputs": []
    },
    {
      "cell_type": "code",
      "metadata": {
        "id": "0_Eu-c-iMTRH",
        "colab_type": "code",
        "colab": {}
      },
      "source": [
        "import re\n",
        "import mailbox\n",
        "import csv"
      ],
      "execution_count": 3,
      "outputs": []
    },
    {
      "cell_type": "code",
      "metadata": {
        "id": "GwdIsba7kuLL",
        "colab_type": "code",
        "colab": {}
      },
      "source": [
        "'''\n",
        "Challenge is to plot distribution, by hour, for sent messages separately for each \n",
        "day and then overlay the plots for each day.\n",
        "'''"
      ],
      "execution_count": null,
      "outputs": []
    },
    {
      "cell_type": "code",
      "metadata": {
        "id": "WrUEpjShMTRK",
        "colab_type": "code",
        "colab": {}
      },
      "source": [
        "messages = pd.read_csv('mbox-cleaned.csv')"
      ],
      "execution_count": 4,
      "outputs": []
    },
    {
      "cell_type": "code",
      "metadata": {
        "id": "3-oIV-DNjbNE",
        "colab_type": "code",
        "colab": {
          "base_uri": "https://localhost:8080/",
          "height": 279
        },
        "outputId": "34bd78d4-3c39-47a4-cb3c-333d0bca9d36"
      },
      "source": [
        "messages.head()"
      ],
      "execution_count": 5,
      "outputs": [
        {
          "output_type": "execute_result",
          "data": {
            "text/html": [
              "<div>\n",
              "<style scoped>\n",
              "    .dataframe tbody tr th:only-of-type {\n",
              "        vertical-align: middle;\n",
              "    }\n",
              "\n",
              "    .dataframe tbody tr th {\n",
              "        vertical-align: top;\n",
              "    }\n",
              "\n",
              "    .dataframe thead th {\n",
              "        text-align: right;\n",
              "    }\n",
              "</style>\n",
              "<table border=\"1\" class=\"dataframe\">\n",
              "  <thead>\n",
              "    <tr style=\"text-align: right;\">\n",
              "      <th></th>\n",
              "      <th>subject</th>\n",
              "      <th>from</th>\n",
              "      <th>to</th>\n",
              "      <th>date</th>\n",
              "      <th>dayofweek</th>\n",
              "      <th>timeofday</th>\n",
              "      <th>nyear</th>\n",
              "    </tr>\n",
              "  </thead>\n",
              "  <tbody>\n",
              "    <tr>\n",
              "      <th>0</th>\n",
              "      <td>Why control quickly exactly capital.</td>\n",
              "      <td>\"Vallisneri, Michele (335S)\" &lt;Michele.Vallisne...</td>\n",
              "      <td>\"Trevor Charles\" &lt;zrodriguez@hotmail.com&gt;</td>\n",
              "      <td>2017-11-27 14:18:46-08:00</td>\n",
              "      <td>Monday</td>\n",
              "      <td>14.300000</td>\n",
              "      <td>2017.907860</td>\n",
              "    </tr>\n",
              "    <tr>\n",
              "      <th>1</th>\n",
              "      <td>Work evidence from really threat sign store see.</td>\n",
              "      <td>Michele Vallisneri &lt;Michele.Vallisneri@jpl.nas...</td>\n",
              "      <td>\"Heather Hernandez\" &lt;patriciagarcia@garcia-car...</td>\n",
              "      <td>2018-03-26 18:38:16-07:00</td>\n",
              "      <td>Monday</td>\n",
              "      <td>18.633333</td>\n",
              "      <td>2018.234843</td>\n",
              "    </tr>\n",
              "    <tr>\n",
              "      <th>2</th>\n",
              "      <td>Lot where answer the law person.</td>\n",
              "      <td>\"Vallisneri, Michele (335S)\" &lt;michele.vallisne...</td>\n",
              "      <td>Bryce Dudley &lt;hailey63@frazier.com&gt;</td>\n",
              "      <td>2018-02-13 14:54:50-08:00</td>\n",
              "      <td>Tuesday</td>\n",
              "      <td>14.900000</td>\n",
              "      <td>2018.122165</td>\n",
              "    </tr>\n",
              "    <tr>\n",
              "      <th>3</th>\n",
              "      <td>Difference hotel yard.</td>\n",
              "      <td>\"Vallisneri, Michele (335S)\" &lt;Michele.Vallisne...</td>\n",
              "      <td>Kathryn Mathis &lt;josephrebecca@grimes.com&gt;</td>\n",
              "      <td>2018-01-26 11:40:04-08:00</td>\n",
              "      <td>Friday</td>\n",
              "      <td>11.666667</td>\n",
              "      <td>2018.072515</td>\n",
              "    </tr>\n",
              "    <tr>\n",
              "      <th>4</th>\n",
              "      <td>Long level mission energy candidate.</td>\n",
              "      <td>\"Vallisneri, Michele (335S)\" &lt;michele.vallisne...</td>\n",
              "      <td>\"Angela Mendoza\" &lt;rkhan@yahoo.com&gt;</td>\n",
              "      <td>2017-10-30 17:13:00-07:00</td>\n",
              "      <td>Monday</td>\n",
              "      <td>17.216667</td>\n",
              "      <td>2017.831533</td>\n",
              "    </tr>\n",
              "  </tbody>\n",
              "</table>\n",
              "</div>"
            ],
            "text/plain": [
              "                                            subject  ...        nyear\n",
              "0              Why control quickly exactly capital.  ...  2017.907860\n",
              "1  Work evidence from really threat sign store see.  ...  2018.234843\n",
              "2                  Lot where answer the law person.  ...  2018.122165\n",
              "3                            Difference hotel yard.  ...  2018.072515\n",
              "4              Long level mission energy candidate.  ...  2017.831533\n",
              "\n",
              "[5 rows x 7 columns]"
            ]
          },
          "metadata": {
            "tags": []
          },
          "execution_count": 5
        }
      ]
    },
    {
      "cell_type": "code",
      "metadata": {
        "id": "rVeZbf4LMTRM",
        "colab_type": "code",
        "colab": {
          "base_uri": "https://localhost:8080/",
          "height": 279
        },
        "outputId": "86132f90-f912-448d-c98e-8beaaec4e0a0"
      },
      "source": [
        "messages['date'] = messages['date'].apply(lambda s: pd.to_datetime(s).tz_convert('America/Los_Angeles'))\n",
        "messages.head()"
      ],
      "execution_count": 7,
      "outputs": [
        {
          "output_type": "execute_result",
          "data": {
            "text/html": [
              "<div>\n",
              "<style scoped>\n",
              "    .dataframe tbody tr th:only-of-type {\n",
              "        vertical-align: middle;\n",
              "    }\n",
              "\n",
              "    .dataframe tbody tr th {\n",
              "        vertical-align: top;\n",
              "    }\n",
              "\n",
              "    .dataframe thead th {\n",
              "        text-align: right;\n",
              "    }\n",
              "</style>\n",
              "<table border=\"1\" class=\"dataframe\">\n",
              "  <thead>\n",
              "    <tr style=\"text-align: right;\">\n",
              "      <th></th>\n",
              "      <th>subject</th>\n",
              "      <th>from</th>\n",
              "      <th>to</th>\n",
              "      <th>date</th>\n",
              "      <th>dayofweek</th>\n",
              "      <th>timeofday</th>\n",
              "      <th>nyear</th>\n",
              "    </tr>\n",
              "  </thead>\n",
              "  <tbody>\n",
              "    <tr>\n",
              "      <th>0</th>\n",
              "      <td>Why control quickly exactly capital.</td>\n",
              "      <td>\"Vallisneri, Michele (335S)\" &lt;Michele.Vallisne...</td>\n",
              "      <td>\"Trevor Charles\" &lt;zrodriguez@hotmail.com&gt;</td>\n",
              "      <td>2017-11-27 14:18:46-08:00</td>\n",
              "      <td>Monday</td>\n",
              "      <td>14.300000</td>\n",
              "      <td>2017.907860</td>\n",
              "    </tr>\n",
              "    <tr>\n",
              "      <th>1</th>\n",
              "      <td>Work evidence from really threat sign store see.</td>\n",
              "      <td>Michele Vallisneri &lt;Michele.Vallisneri@jpl.nas...</td>\n",
              "      <td>\"Heather Hernandez\" &lt;patriciagarcia@garcia-car...</td>\n",
              "      <td>2018-03-26 18:38:16-07:00</td>\n",
              "      <td>Monday</td>\n",
              "      <td>18.633333</td>\n",
              "      <td>2018.234843</td>\n",
              "    </tr>\n",
              "    <tr>\n",
              "      <th>2</th>\n",
              "      <td>Lot where answer the law person.</td>\n",
              "      <td>\"Vallisneri, Michele (335S)\" &lt;michele.vallisne...</td>\n",
              "      <td>Bryce Dudley &lt;hailey63@frazier.com&gt;</td>\n",
              "      <td>2018-02-13 14:54:50-08:00</td>\n",
              "      <td>Tuesday</td>\n",
              "      <td>14.900000</td>\n",
              "      <td>2018.122165</td>\n",
              "    </tr>\n",
              "    <tr>\n",
              "      <th>3</th>\n",
              "      <td>Difference hotel yard.</td>\n",
              "      <td>\"Vallisneri, Michele (335S)\" &lt;Michele.Vallisne...</td>\n",
              "      <td>Kathryn Mathis &lt;josephrebecca@grimes.com&gt;</td>\n",
              "      <td>2018-01-26 11:40:04-08:00</td>\n",
              "      <td>Friday</td>\n",
              "      <td>11.666667</td>\n",
              "      <td>2018.072515</td>\n",
              "    </tr>\n",
              "    <tr>\n",
              "      <th>4</th>\n",
              "      <td>Long level mission energy candidate.</td>\n",
              "      <td>\"Vallisneri, Michele (335S)\" &lt;michele.vallisne...</td>\n",
              "      <td>\"Angela Mendoza\" &lt;rkhan@yahoo.com&gt;</td>\n",
              "      <td>2017-10-30 17:13:00-07:00</td>\n",
              "      <td>Monday</td>\n",
              "      <td>17.216667</td>\n",
              "      <td>2017.831533</td>\n",
              "    </tr>\n",
              "  </tbody>\n",
              "</table>\n",
              "</div>"
            ],
            "text/plain": [
              "                                            subject  ...        nyear\n",
              "0              Why control quickly exactly capital.  ...  2017.907860\n",
              "1  Work evidence from really threat sign store see.  ...  2018.234843\n",
              "2                  Lot where answer the law person.  ...  2018.122165\n",
              "3                            Difference hotel yard.  ...  2018.072515\n",
              "4              Long level mission energy candidate.  ...  2017.831533\n",
              "\n",
              "[5 rows x 7 columns]"
            ]
          },
          "metadata": {
            "tags": []
          },
          "execution_count": 7
        }
      ]
    },
    {
      "cell_type": "code",
      "metadata": {
        "id": "o7s5gquAMTRP",
        "colab_type": "code",
        "colab": {}
      },
      "source": [
        "messages['dayofweek'] = pd.Categorical(messages['dayofweek'],\n",
        "                                       ordered = True,\n",
        "                                       categories = [\"Monday\",\"Tuesday\",\"Wednesday\",\"Thursday\",\"Friday\",\"Saturday\",\"Sunday\"])"
      ],
      "execution_count": 8,
      "outputs": []
    },
    {
      "cell_type": "code",
      "metadata": {
        "id": "qEO1lrLMjtM_",
        "colab_type": "code",
        "colab": {
          "base_uri": "https://localhost:8080/",
          "height": 67
        },
        "outputId": "daa9fcc5-8fb2-4e55-bf16-991cc8698f79"
      },
      "source": [
        "days = messages.dayofweek.cat.categories\n",
        "days"
      ],
      "execution_count": 16,
      "outputs": [
        {
          "output_type": "execute_result",
          "data": {
            "text/plain": [
              "Index(['Monday', 'Tuesday', 'Wednesday', 'Thursday', 'Friday', 'Saturday',\n",
              "       'Sunday'],\n",
              "      dtype='object')"
            ]
          },
          "metadata": {
            "tags": []
          },
          "execution_count": 16
        }
      ]
    },
    {
      "cell_type": "code",
      "metadata": {
        "id": "MlSZAfQVjzu1",
        "colab_type": "code",
        "colab": {
          "base_uri": "https://localhost:8080/",
          "height": 282
        },
        "outputId": "166bae46-f704-4b1c-da96-d2913472cb73"
      },
      "source": [
        "'''\n",
        "1 of 2 possible solutions:\n",
        "assign days into an array and loop over them.\n",
        "We pick the messages dataframe, subset itself and the dayofweek column AND\n",
        "specify the variable \"day.\" After, we subset the timeofday column and \n",
        "plot it. It will loop over every day of the week.\n",
        "'''\n",
        "\n",
        "for day in days:\n",
        "  messages[messages.dayofweek == day].timeofday.plot(kind='density')\n",
        "  \n",
        "plt.legend(days)"
      ],
      "execution_count": 13,
      "outputs": [
        {
          "output_type": "execute_result",
          "data": {
            "text/plain": [
              "<matplotlib.legend.Legend at 0x7f8e7c378320>"
            ]
          },
          "metadata": {
            "tags": []
          },
          "execution_count": 13
        },
        {
          "output_type": "display_data",
          "data": {
            "image/png": "[encoded data removed]",
            "text/plain": [
              "<Figure size 432x288 with 1 Axes>"
            ]
          },
          "metadata": {
            "tags": [],
            "needs_background": "light"
          }
        }
      ]
    },
    {
      "cell_type": "code",
      "metadata": {
        "id": "cPbUrP_7kZSu",
        "colab_type": "code",
        "colab": {
          "base_uri": "https://localhost:8080/",
          "height": 282
        },
        "outputId": "e70826f5-a0a8-46d4-c75e-e54f5cb8207c"
      },
      "source": [
        "'''\n",
        "2 of 2 possible solutions:\n",
        "Groupby does the same thing.\n",
        "'''\n",
        "messages.groupby('dayofweek').timeofday.plot(kind='density')\n",
        "plt.legend(days)"
      ],
      "execution_count": 15,
      "outputs": [
        {
          "output_type": "execute_result",
          "data": {
            "text/plain": [
              "<matplotlib.legend.Legend at 0x7f8e7bb36f98>"
            ]
          },
          "metadata": {
            "tags": []
          },
          "execution_count": 15
        },
        {
          "output_type": "display_data",
          "data": {
            "image/png": "[encoded data removed]",
            "text/plain": [
              "<Figure size 432x288 with 1 Axes>"
            ]
          },
          "metadata": {
            "tags": [],
            "needs_background": "light"
          }
        }
      ]
    }
  ]
}