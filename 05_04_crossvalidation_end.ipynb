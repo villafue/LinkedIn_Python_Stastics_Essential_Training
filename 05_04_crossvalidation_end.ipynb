{
  "nbformat": 4,
  "nbformat_minor": 0,
  "metadata": {
    "kernelspec": {
      "display_name": "Python 3",
      "language": "python",
      "name": "python3"
    },
    "language_info": {
      "codemirror_mode": {
        "name": "ipython",
        "version": 3
      },
      "file_extension": ".py",
      "mimetype": "text/x-python",
      "name": "python",
      "nbconvert_exporter": "python",
      "pygments_lexer": "ipython3",
      "version": "3.6.4"
    },
    "toc": {
      "base_numbering": 1,
      "nav_menu": {},
      "number_sections": true,
      "sideBar": true,
      "skip_h1_title": false,
      "title_cell": "Table of Contents",
      "title_sidebar": "Contents",
      "toc_cell": false,
      "toc_position": {},
      "toc_section_display": true,
      "toc_window_display": false
    },
    "colab": {
      "name": "05_04_crossvalidation_end.ipynb",
      "provenance": [],
      "toc_visible": true,
      "include_colab_link": true
    }
  },
  "cells": [
    {
      "cell_type": "markdown",
      "metadata": {
        "id": "view-in-github",
        "colab_type": "text"
      },
      "source": [
        "<a href=\"https://colab.research.google.com/github/villafue/LinkedIn_Python_Stastics_Essential_Training/blob/master/05_04_crossvalidation_end.ipynb\" target=\"_parent\"><img src=\"https://colab.research.google.com/assets/colab-badge.svg\" alt=\"Open In Colab\"/></a>"
      ]
    },
    {
      "cell_type": "markdown",
      "metadata": {
        "id": "YpG19x04tw1m",
        "colab_type": "text"
      },
      "source": [
        "## Python statistics essential training - 05_04_crossvalidation"
      ]
    },
    {
      "cell_type": "markdown",
      "metadata": {
        "id": "g_zkiPAntw1n",
        "colab_type": "text"
      },
      "source": [
        "Standard imports"
      ]
    },
    {
      "cell_type": "code",
      "metadata": {
        "id": "3ZiVNozruM9P",
        "colab_type": "code",
        "colab": {}
      },
      "source": [
        "'''\n",
        "In this unit, he's going to show us how to implement a much simpler strategy known\n",
        "as Cross Validation which is used in Machine Learning to compare models.\n",
        "\n",
        "We divide the data into a training set which we use to feed the model, and a\n",
        "testing set which we use to evaluate the models prediction error.\n",
        "\n",
        "So instead of concentrating on in-sample error as we do with classical techniques,\n",
        "we will look at out of (or how to?) sample prediction error. Models then can't\n",
        "look better by over fitting the data they're trained on. Instead, they need to,\n",
        "in some sense, understand something about the world.  \n",
        "'''"
      ],
      "execution_count": null,
      "outputs": []
    },
    {
      "cell_type": "code",
      "metadata": {
        "id": "EbX8LBhbtw1o",
        "colab_type": "code",
        "colab": {}
      },
      "source": [
        "import math\n",
        "import os"
      ],
      "execution_count": null,
      "outputs": []
    },
    {
      "cell_type": "code",
      "metadata": {
        "id": "-XAFGU4QtzN2",
        "colab_type": "code",
        "colab": {}
      },
      "source": [
        "os.chdir('sample_data')"
      ],
      "execution_count": null,
      "outputs": []
    },
    {
      "cell_type": "code",
      "metadata": {
        "id": "NF-zrroctw1s",
        "colab_type": "code",
        "colab": {}
      },
      "source": [
        "import numpy as np\n",
        "import pandas as pd"
      ],
      "execution_count": null,
      "outputs": []
    },
    {
      "cell_type": "code",
      "metadata": {
        "id": "gI2uCPEQtw1w",
        "colab_type": "code",
        "colab": {}
      },
      "source": [
        "import matplotlib\n",
        "import matplotlib.pyplot as plt"
      ],
      "execution_count": null,
      "outputs": []
    },
    {
      "cell_type": "code",
      "metadata": {
        "id": "LjmqBmgGtw1y",
        "colab_type": "code",
        "colab": {}
      },
      "source": [
        "%matplotlib inline"
      ],
      "execution_count": null,
      "outputs": []
    },
    {
      "cell_type": "code",
      "metadata": {
        "id": "4BpuKkcFtw11",
        "colab_type": "code",
        "colab": {
          "base_uri": "https://localhost:8080/",
          "height": 70
        },
        "outputId": "d66c6109-8109-45f6-be2b-4a0b638093ef"
      },
      "source": [
        "import statsmodels\n",
        "import statsmodels.api as sm\n",
        "import statsmodels.formula.api as smf"
      ],
      "execution_count": null,
      "outputs": [
        {
          "output_type": "stream",
          "text": [
            "/usr/local/lib/python3.6/dist-packages/statsmodels/tools/_testing.py:19: FutureWarning: pandas.util.testing is deprecated. Use the functions in the public API at pandas.testing instead.\n",
            "  import pandas.util.testing as tm\n"
          ],
          "name": "stderr"
        }
      ]
    },
    {
      "cell_type": "markdown",
      "metadata": {
        "id": "sTp6eoZ2tw14",
        "colab_type": "text"
      },
      "source": [
        "Loading gapminder data for year 1985 (Live Aid!)."
      ]
    },
    {
      "cell_type": "code",
      "metadata": {
        "id": "ufFkDRJvtw14",
        "colab_type": "code",
        "colab": {}
      },
      "source": [
        "gapminder = pd.read_csv('gapminder.csv')"
      ],
      "execution_count": null,
      "outputs": []
    },
    {
      "cell_type": "code",
      "metadata": {
        "id": "qRaH4XNntw17",
        "colab_type": "code",
        "colab": {}
      },
      "source": [
        "gdata = gapminder.query('year == 1985')"
      ],
      "execution_count": null,
      "outputs": []
    },
    {
      "cell_type": "markdown",
      "metadata": {
        "id": "v8Z_FX9ptw1-",
        "colab_type": "text"
      },
      "source": [
        "Refactored plotting so that it works on arbitrary datasets."
      ]
    },
    {
      "cell_type": "code",
      "metadata": {
        "id": "JhayCsYBtw1_",
        "colab_type": "code",
        "colab": {}
      },
      "source": [
        "'''\n",
        "The following code is because we will be splitting our data.\n",
        "'''\n",
        "def sc(data):\n",
        "    return 1e-6 * data.population, data.region.map({'Africa': 'skyblue', 'Europe': 'gold',\n",
        "                                                   'America': 'palegreen', 'Asia': 'coral'})\n",
        "\n",
        "def plotdata(data=gdata):\n",
        "    size, colors = sc(data)\n",
        "    data.plot.scatter('age5_surviving','babies_per_woman',\n",
        "                      c=colors,s=size,linewidths=0.5,edgecolor='k',alpha=0.5)\n",
        "                      \n",
        "def plotfit(fit,data=gdata):\n",
        "    plotdata(data)\n",
        "\n",
        "    size, colors = sc(data)\n",
        "    plt.scatter(data.age5_surviving,fit.predict(data),\n",
        "               c=colors,s=30,linewidths=0.5,edgecolor='k',marker='D')"
      ],
      "execution_count": null,
      "outputs": []
    },
    {
      "cell_type": "markdown",
      "metadata": {
        "id": "cuXhYheWtw2B",
        "colab_type": "text"
      },
      "source": [
        "Model formulas from the last two videos"
      ]
    },
    {
      "cell_type": "code",
      "metadata": {
        "id": "WmRWGfORtw2B",
        "colab_type": "code",
        "colab": {}
      },
      "source": [
        "f_groupmeans = 'babies_per_woman ~ -1 + region'\n",
        "f_surviving = 'babies_per_woman ~ -1 + region + age5_surviving'\n",
        "f_srp = ('babies_per_woman ~ -1 + region + age5_surviving'\n",
        "         '+ age5_surviving:region - age5_surviving + population')"
      ],
      "execution_count": null,
      "outputs": []
    },
    {
      "cell_type": "code",
      "metadata": {
        "id": "hzmSecDBtw2D",
        "colab_type": "code",
        "colab": {
          "base_uri": "https://localhost:8080/",
          "height": 195
        },
        "outputId": "74f10bbc-52d2-40e7-9a35-5a00253eb417"
      },
      "source": [
        "'''\n",
        "To divide our data, we're first going to shuffle it using pandas method .sample.\n",
        "The resulting dataset should be the same length as the original. Also, there is\n",
        "no replacement.\n",
        "'''\n",
        "shuffled = gdata.sample(len(gdata))\n",
        "display(shuffled.head())"
      ],
      "execution_count": null,
      "outputs": [
        {
          "output_type": "display_data",
          "data": {
            "text/html": [
              "<div>\n",
              "<style scoped>\n",
              "    .dataframe tbody tr th:only-of-type {\n",
              "        vertical-align: middle;\n",
              "    }\n",
              "\n",
              "    .dataframe tbody tr th {\n",
              "        vertical-align: top;\n",
              "    }\n",
              "\n",
              "    .dataframe thead th {\n",
              "        text-align: right;\n",
              "    }\n",
              "</style>\n",
              "<table border=\"1\" class=\"dataframe\">\n",
              "  <thead>\n",
              "    <tr style=\"text-align: right;\">\n",
              "      <th></th>\n",
              "      <th>country</th>\n",
              "      <th>year</th>\n",
              "      <th>region</th>\n",
              "      <th>population</th>\n",
              "      <th>life_expectancy</th>\n",
              "      <th>age5_surviving</th>\n",
              "      <th>babies_per_woman</th>\n",
              "      <th>gdp_per_capita</th>\n",
              "      <th>gdp_per_day</th>\n",
              "    </tr>\n",
              "  </thead>\n",
              "  <tbody>\n",
              "    <tr>\n",
              "      <th>6933</th>\n",
              "      <td>Kiribati</td>\n",
              "      <td>1985</td>\n",
              "      <td>Asia</td>\n",
              "      <td>64006.0</td>\n",
              "      <td>56.04</td>\n",
              "      <td>88.51</td>\n",
              "      <td>4.86</td>\n",
              "      <td>1531.0</td>\n",
              "      <td>4.191650</td>\n",
              "    </tr>\n",
              "    <tr>\n",
              "      <th>9687</th>\n",
              "      <td>Nicaragua</td>\n",
              "      <td>1985</td>\n",
              "      <td>America</td>\n",
              "      <td>3709091.0</td>\n",
              "      <td>68.89</td>\n",
              "      <td>91.73</td>\n",
              "      <td>5.43</td>\n",
              "      <td>4112.0</td>\n",
              "      <td>11.258042</td>\n",
              "    </tr>\n",
              "    <tr>\n",
              "      <th>7743</th>\n",
              "      <td>Libya</td>\n",
              "      <td>1985</td>\n",
              "      <td>Africa</td>\n",
              "      <td>3840635.0</td>\n",
              "      <td>71.09</td>\n",
              "      <td>94.56</td>\n",
              "      <td>6.58</td>\n",
              "      <td>35825.0</td>\n",
              "      <td>98.083504</td>\n",
              "    </tr>\n",
              "    <tr>\n",
              "      <th>2885</th>\n",
              "      <td>Colombia</td>\n",
              "      <td>1985</td>\n",
              "      <td>America</td>\n",
              "      <td>31011686.0</td>\n",
              "      <td>70.48</td>\n",
              "      <td>95.77</td>\n",
              "      <td>3.43</td>\n",
              "      <td>6613.0</td>\n",
              "      <td>18.105407</td>\n",
              "    </tr>\n",
              "    <tr>\n",
              "      <th>7419</th>\n",
              "      <td>Latvia</td>\n",
              "      <td>1985</td>\n",
              "      <td>Europe</td>\n",
              "      <td>2582079.0</td>\n",
              "      <td>69.72</td>\n",
              "      <td>97.90</td>\n",
              "      <td>2.13</td>\n",
              "      <td>12448.0</td>\n",
              "      <td>34.080767</td>\n",
              "    </tr>\n",
              "  </tbody>\n",
              "</table>\n",
              "</div>"
            ],
            "text/plain": [
              "        country  year   region  ...  babies_per_woman  gdp_per_capita  gdp_per_day\n",
              "6933   Kiribati  1985     Asia  ...              4.86          1531.0     4.191650\n",
              "9687  Nicaragua  1985  America  ...              5.43          4112.0    11.258042\n",
              "7743      Libya  1985   Africa  ...              6.58         35825.0    98.083504\n",
              "2885   Colombia  1985  America  ...              3.43          6613.0    18.105407\n",
              "7419     Latvia  1985   Europe  ...              2.13         12448.0    34.080767\n",
              "\n",
              "[5 rows x 9 columns]"
            ]
          },
          "metadata": {
            "tags": []
          }
        }
      ]
    },
    {
      "cell_type": "code",
      "metadata": {
        "id": "5eMcyVeNtw2F",
        "colab_type": "code",
        "colab": {}
      },
      "source": [
        "'''\n",
        "Then we use the pandas iloc, which goes by row number, to divide the rows in two.\n",
        "Integer division \"//\" ensures I have a proper index.\n",
        "'''\n",
        "training, testing = shuffled.iloc[:len(gdata)//2], shuffled.iloc[len(gdata)//2:]"
      ],
      "execution_count": null,
      "outputs": []
    },
    {
      "cell_type": "code",
      "metadata": {
        "id": "3PFZt5Vh139s",
        "colab_type": "code",
        "colab": {
          "base_uri": "https://localhost:8080/",
          "height": 374
        },
        "outputId": "3de27b25-2040-4957-83f5-1ae616a86087"
      },
      "source": [
        "display(training.head())\n",
        "testing.head()"
      ],
      "execution_count": null,
      "outputs": [
        {
          "output_type": "display_data",
          "data": {
            "text/html": [
              "<div>\n",
              "<style scoped>\n",
              "    .dataframe tbody tr th:only-of-type {\n",
              "        vertical-align: middle;\n",
              "    }\n",
              "\n",
              "    .dataframe tbody tr th {\n",
              "        vertical-align: top;\n",
              "    }\n",
              "\n",
              "    .dataframe thead th {\n",
              "        text-align: right;\n",
              "    }\n",
              "</style>\n",
              "<table border=\"1\" class=\"dataframe\">\n",
              "  <thead>\n",
              "    <tr style=\"text-align: right;\">\n",
              "      <th></th>\n",
              "      <th>country</th>\n",
              "      <th>year</th>\n",
              "      <th>region</th>\n",
              "      <th>population</th>\n",
              "      <th>life_expectancy</th>\n",
              "      <th>age5_surviving</th>\n",
              "      <th>babies_per_woman</th>\n",
              "      <th>gdp_per_capita</th>\n",
              "      <th>gdp_per_day</th>\n",
              "    </tr>\n",
              "  </thead>\n",
              "  <tbody>\n",
              "    <tr>\n",
              "      <th>6933</th>\n",
              "      <td>Kiribati</td>\n",
              "      <td>1985</td>\n",
              "      <td>Asia</td>\n",
              "      <td>64006.0</td>\n",
              "      <td>56.04</td>\n",
              "      <td>88.51</td>\n",
              "      <td>4.86</td>\n",
              "      <td>1531.0</td>\n",
              "      <td>4.191650</td>\n",
              "    </tr>\n",
              "    <tr>\n",
              "      <th>9687</th>\n",
              "      <td>Nicaragua</td>\n",
              "      <td>1985</td>\n",
              "      <td>America</td>\n",
              "      <td>3709091.0</td>\n",
              "      <td>68.89</td>\n",
              "      <td>91.73</td>\n",
              "      <td>5.43</td>\n",
              "      <td>4112.0</td>\n",
              "      <td>11.258042</td>\n",
              "    </tr>\n",
              "    <tr>\n",
              "      <th>7743</th>\n",
              "      <td>Libya</td>\n",
              "      <td>1985</td>\n",
              "      <td>Africa</td>\n",
              "      <td>3840635.0</td>\n",
              "      <td>71.09</td>\n",
              "      <td>94.56</td>\n",
              "      <td>6.58</td>\n",
              "      <td>35825.0</td>\n",
              "      <td>98.083504</td>\n",
              "    </tr>\n",
              "    <tr>\n",
              "      <th>2885</th>\n",
              "      <td>Colombia</td>\n",
              "      <td>1985</td>\n",
              "      <td>America</td>\n",
              "      <td>31011686.0</td>\n",
              "      <td>70.48</td>\n",
              "      <td>95.77</td>\n",
              "      <td>3.43</td>\n",
              "      <td>6613.0</td>\n",
              "      <td>18.105407</td>\n",
              "    </tr>\n",
              "    <tr>\n",
              "      <th>7419</th>\n",
              "      <td>Latvia</td>\n",
              "      <td>1985</td>\n",
              "      <td>Europe</td>\n",
              "      <td>2582079.0</td>\n",
              "      <td>69.72</td>\n",
              "      <td>97.90</td>\n",
              "      <td>2.13</td>\n",
              "      <td>12448.0</td>\n",
              "      <td>34.080767</td>\n",
              "    </tr>\n",
              "  </tbody>\n",
              "</table>\n",
              "</div>"
            ],
            "text/plain": [
              "        country  year   region  ...  babies_per_woman  gdp_per_capita  gdp_per_day\n",
              "6933   Kiribati  1985     Asia  ...              4.86          1531.0     4.191650\n",
              "9687  Nicaragua  1985  America  ...              5.43          4112.0    11.258042\n",
              "7743      Libya  1985   Africa  ...              6.58         35825.0    98.083504\n",
              "2885   Colombia  1985  America  ...              3.43          6613.0    18.105407\n",
              "7419     Latvia  1985   Europe  ...              2.13         12448.0    34.080767\n",
              "\n",
              "[5 rows x 9 columns]"
            ]
          },
          "metadata": {
            "tags": []
          }
        },
        {
          "output_type": "execute_result",
          "data": {
            "text/html": [
              "<div>\n",
              "<style scoped>\n",
              "    .dataframe tbody tr th:only-of-type {\n",
              "        vertical-align: middle;\n",
              "    }\n",
              "\n",
              "    .dataframe tbody tr th {\n",
              "        vertical-align: top;\n",
              "    }\n",
              "\n",
              "    .dataframe thead th {\n",
              "        text-align: right;\n",
              "    }\n",
              "</style>\n",
              "<table border=\"1\" class=\"dataframe\">\n",
              "  <thead>\n",
              "    <tr style=\"text-align: right;\">\n",
              "      <th></th>\n",
              "      <th>country</th>\n",
              "      <th>year</th>\n",
              "      <th>region</th>\n",
              "      <th>population</th>\n",
              "      <th>life_expectancy</th>\n",
              "      <th>age5_surviving</th>\n",
              "      <th>babies_per_woman</th>\n",
              "      <th>gdp_per_capita</th>\n",
              "      <th>gdp_per_day</th>\n",
              "    </tr>\n",
              "  </thead>\n",
              "  <tbody>\n",
              "    <tr>\n",
              "      <th>2480</th>\n",
              "      <td>Cape Verde</td>\n",
              "      <td>1985</td>\n",
              "      <td>Africa</td>\n",
              "      <td>313976.0</td>\n",
              "      <td>66.12</td>\n",
              "      <td>92.20</td>\n",
              "      <td>5.88</td>\n",
              "      <td>1469.0</td>\n",
              "      <td>4.021903</td>\n",
              "    </tr>\n",
              "    <tr>\n",
              "      <th>7824</th>\n",
              "      <td>Lithuania</td>\n",
              "      <td>1985</td>\n",
              "      <td>Europe</td>\n",
              "      <td>3563741.0</td>\n",
              "      <td>70.78</td>\n",
              "      <td>98.09</td>\n",
              "      <td>2.06</td>\n",
              "      <td>16510.0</td>\n",
              "      <td>45.201916</td>\n",
              "    </tr>\n",
              "    <tr>\n",
              "      <th>10578</th>\n",
              "      <td>Poland</td>\n",
              "      <td>1985</td>\n",
              "      <td>Europe</td>\n",
              "      <td>37486105.0</td>\n",
              "      <td>70.78</td>\n",
              "      <td>97.97</td>\n",
              "      <td>2.27</td>\n",
              "      <td>11159.0</td>\n",
              "      <td>30.551677</td>\n",
              "    </tr>\n",
              "    <tr>\n",
              "      <th>7338</th>\n",
              "      <td>Lao</td>\n",
              "      <td>1985</td>\n",
              "      <td>Asia</td>\n",
              "      <td>3680145.0</td>\n",
              "      <td>48.54</td>\n",
              "      <td>81.82</td>\n",
              "      <td>6.36</td>\n",
              "      <td>1616.0</td>\n",
              "      <td>4.424367</td>\n",
              "    </tr>\n",
              "    <tr>\n",
              "      <th>5394</th>\n",
              "      <td>Guinea</td>\n",
              "      <td>1985</td>\n",
              "      <td>Africa</td>\n",
              "      <td>5078689.0</td>\n",
              "      <td>47.33</td>\n",
              "      <td>73.69</td>\n",
              "      <td>6.64</td>\n",
              "      <td>1085.0</td>\n",
              "      <td>2.970568</td>\n",
              "    </tr>\n",
              "  </tbody>\n",
              "</table>\n",
              "</div>"
            ],
            "text/plain": [
              "          country  year  region  ...  babies_per_woman  gdp_per_capita  gdp_per_day\n",
              "2480   Cape Verde  1985  Africa  ...              5.88          1469.0     4.021903\n",
              "7824    Lithuania  1985  Europe  ...              2.06         16510.0    45.201916\n",
              "10578      Poland  1985  Europe  ...              2.27         11159.0    30.551677\n",
              "7338          Lao  1985    Asia  ...              6.36          1616.0     4.424367\n",
              "5394       Guinea  1985  Africa  ...              6.64          1085.0     2.970568\n",
              "\n",
              "[5 rows x 9 columns]"
            ]
          },
          "metadata": {
            "tags": []
          },
          "execution_count": 16
        }
      ]
    },
    {
      "cell_type": "code",
      "metadata": {
        "id": "vTErayDCtw2H",
        "colab_type": "code",
        "colab": {}
      },
      "source": [
        "'''\n",
        "We now fit a model to the training data using one of our formulas.\n",
        "'''\n",
        "surviving = smf.ols(f_surviving, data=training).fit()"
      ],
      "execution_count": null,
      "outputs": []
    },
    {
      "cell_type": "code",
      "metadata": {
        "id": "6k-7Kmmjtw2L",
        "colab_type": "code",
        "colab": {
          "base_uri": "https://localhost:8080/",
          "height": 280
        },
        "outputId": "d2770c09-b213-4364-936f-0cfce64f4483"
      },
      "source": [
        "'''\n",
        "We plot the result.\n",
        "'''\n",
        "plotfit(surviving,training)"
      ],
      "execution_count": null,
      "outputs": [
        {
          "output_type": "display_data",
          "data": {
            "image/png": "[encoded data removed]",
            "text/plain": [
              "<Figure size 432x288 with 1 Axes>"
            ]
          },
          "metadata": {
            "tags": [],
            "needs_background": "light"
          }
        }
      ]
    },
    {
      "cell_type": "code",
      "metadata": {
        "id": "N9vxa-6Atw2O",
        "colab_type": "code",
        "colab": {
          "base_uri": "https://localhost:8080/",
          "height": 34
        },
        "outputId": "58b2f658-623d-46d4-9a3d-2812bcb3309e"
      },
      "source": [
        "'''\n",
        "The in-sample mean squared error is .95\n",
        "'''\n",
        "surviving.mse_resid"
      ],
      "execution_count": null,
      "outputs": [
        {
          "output_type": "execute_result",
          "data": {
            "text/plain": [
              "0.9558127329559172"
            ]
          },
          "metadata": {
            "tags": []
          },
          "execution_count": 22
        }
      ]
    },
    {
      "cell_type": "code",
      "metadata": {
        "id": "MEvyqU00tw2Q",
        "colab_type": "code",
        "colab": {
          "base_uri": "https://localhost:8080/",
          "height": 280
        },
        "outputId": "0b4808a3-c9d3-415b-b364-1a5b894f4edd"
      },
      "source": [
        "'''\n",
        "We now try out the model on the testing data. Plotfit contains a call to stats\n",
        "model predict which generates a moderate response for this particular data set.\n",
        "We see the datapoints are different but the fit is comparable to the one above.\n",
        "'''\n",
        "plotfit(surviving,testing)"
      ],
      "execution_count": null,
      "outputs": [
        {
          "output_type": "display_data",
          "data": {
            "image/png": "[encoded data removed]",
            "text/plain": [
              "<Figure size 432x288 with 1 Axes>"
            ]
          },
          "metadata": {
            "tags": [],
            "needs_background": "light"
          }
        }
      ]
    },
    {
      "cell_type": "code",
      "metadata": {
        "id": "XogKXYkItw2S",
        "colab_type": "code",
        "colab": {
          "base_uri": "https://localhost:8080/",
          "height": 34
        },
        "outputId": "98106172-5f05-4c50-ddc4-bd7ccaf66c20"
      },
      "source": [
        "'''\n",
        "To obtain the Mean Squared Error, we have to do a little work. We first compute\n",
        "the residuals by applying modern prediction to the testing data set. We then subtract\n",
        "the observed data.\n",
        "\n",
        "The second line of code computes the number of degrees of freedom which is the\n",
        "length of the data minus the number of parameters in the model minus 1 since the\n",
        "number of parameters doesn't count the constant, but we should.\n",
        "\n",
        "Finally, we square the residuals, sum them, and divide by the number of degrees\n",
        "of freedom.\n",
        "\n",
        "The Mean Squared Error on the testing data is a little higher since now there's\n",
        "no overfitting.\n",
        "'''\n",
        "resid = surviving.predict(testing) - testing.babies_per_woman\n",
        "df = len(testing) - surviving.df_model - 1\n",
        "np.sum(resid**2) / df"
      ],
      "execution_count": null,
      "outputs": [
        {
          "output_type": "execute_result",
          "data": {
            "text/plain": [
              "1.0513806295689143"
            ]
          },
          "metadata": {
            "tags": []
          },
          "execution_count": 24
        }
      ]
    },
    {
      "cell_type": "code",
      "metadata": {
        "id": "hI3x5AEXtw2U",
        "colab_type": "code",
        "colab": {}
      },
      "source": [
        "'''\n",
        "Now we're going to automate this procedure and use it on the three models. Since\n",
        "the results depend on the shuffling and are rather noisy, we'll repeat a few times\n",
        "and take the average.\n",
        "\n",
        "The function is generic in terms of the formula, response variable we're looking\n",
        "at, and the number of repetitions. We also add a spot for data.\n",
        "\n",
        "In essence, we shuffle, divide in 2, we train, and we compute MeanSquaredError.\n",
        "We grab an arbitrary response variable column, and finally, collect all the response\n",
        "variable columns in a Python list. Last, we return its average.\n",
        "'''\n",
        "\n",
        "def cross_validate(data,formula,response,n=100):\n",
        "    ret = []\n",
        "    \n",
        "    for i in range(n):\n",
        "        shuffled = data.sample(len(data))\n",
        "        \n",
        "        training, testing = shuffled.iloc[:len(data)//2], shuffled.iloc[len(data)//2:]\n",
        "        \n",
        "        trained = smf.ols(formula, data=training).fit()\n",
        "        \n",
        "        resid = trained.predict(testing) - testing[response]\n",
        "        df = len(testing) - trained.df_model - 1\n",
        "        mse = np.sum(resid**2) / df\n",
        "        \n",
        "        ret.append(mse)\n",
        "    \n",
        "    return np.mean(ret)"
      ],
      "execution_count": null,
      "outputs": []
    },
    {
      "cell_type": "code",
      "metadata": {
        "id": "4Y3aodn8tw2W",
        "colab_type": "code",
        "colab": {
          "base_uri": "https://localhost:8080/",
          "height": 34
        },
        "outputId": "646172a2-8bf5-4971-f6b1-58c3a22f3ac6"
      },
      "source": [
        "'''\n",
        "Now we're going to try this out on our models. The response variable is always\n",
        "babies per woman.\n",
        "'''\n",
        "cross_validate(gdata,f_groupmeans,'babies_per_woman')"
      ],
      "execution_count": null,
      "outputs": [
        {
          "output_type": "execute_result",
          "data": {
            "text/plain": [
              "1.6301501574871873"
            ]
          },
          "metadata": {
            "tags": []
          },
          "execution_count": 26
        }
      ]
    },
    {
      "cell_type": "code",
      "metadata": {
        "id": "dpW3wHactw2Y",
        "colab_type": "code",
        "colab": {
          "base_uri": "https://localhost:8080/",
          "height": 34
        },
        "outputId": "5f3d7457-9034-4215-df5e-14278cc746eb"
      },
      "source": [
        "cross_validate(gdata,f_surviving,'babies_per_woman')"
      ],
      "execution_count": null,
      "outputs": [
        {
          "output_type": "execute_result",
          "data": {
            "text/plain": [
              "1.041360665285817"
            ]
          },
          "metadata": {
            "tags": []
          },
          "execution_count": 27
        }
      ]
    },
    {
      "cell_type": "code",
      "metadata": {
        "id": "740kev7ytw2b",
        "colab_type": "code",
        "colab": {
          "base_uri": "https://localhost:8080/",
          "height": 34
        },
        "outputId": "f00c2b33-3455-4f39-d596-21e2e5973c36"
      },
      "source": [
        "cross_validate(gdata,f_srp,'babies_per_woman')"
      ],
      "execution_count": null,
      "outputs": [
        {
          "output_type": "execute_result",
          "data": {
            "text/plain": [
              "1.2139253615712926"
            ]
          },
          "metadata": {
            "tags": []
          },
          "execution_count": 28
        }
      ]
    },
    {
      "cell_type": "code",
      "metadata": {
        "id": "HiAcViygtw2e",
        "colab_type": "code",
        "colab": {}
      },
      "source": [
        "'''\n",
        "Cross validation confirms the verdict of analytical goodness of fit measures. The\n",
        "model of intermediate complexity (f_surviving which is the 2nd one), seems to hit\n",
        "the sweet spot in terms of explanatory power.\n",
        "\n",
        "In the real world, Data Analysts use k-fold cross validation. Instead of dividing\n",
        "the data in two, we divide it in k-subsets, and then k-successive trials, we hold\n",
        "out one of the subsets for testing and trains on all the rest. Finally, the k-resulting\n",
        "models are averaged. K-fold cross validation is supported in Scikit-learn.\n",
        "'''"
      ],
      "execution_count": null,
      "outputs": []
    }
  ]
}