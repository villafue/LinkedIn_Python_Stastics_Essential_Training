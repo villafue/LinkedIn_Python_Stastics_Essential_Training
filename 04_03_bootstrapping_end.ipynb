{
  "nbformat": 4,
  "nbformat_minor": 0,
  "metadata": {
    "kernelspec": {
      "display_name": "Python 3",
      "language": "python",
      "name": "python3"
    },
    "language_info": {
      "codemirror_mode": {
        "name": "ipython",
        "version": 3
      },
      "file_extension": ".py",
      "mimetype": "text/x-python",
      "name": "python",
      "nbconvert_exporter": "python",
      "pygments_lexer": "ipython3",
      "version": "3.6.4"
    },
    "toc": {
      "base_numbering": 1,
      "nav_menu": {},
      "number_sections": true,
      "sideBar": true,
      "skip_h1_title": false,
      "title_cell": "Table of Contents",
      "title_sidebar": "Contents",
      "toc_cell": false,
      "toc_position": {},
      "toc_section_display": true,
      "toc_window_display": false
    },
    "colab": {
      "name": "04_03_bootstrapping_end.ipynb",
      "provenance": [],
      "include_colab_link": true
    }
  },
  "cells": [
    {
      "cell_type": "markdown",
      "metadata": {
        "id": "view-in-github",
        "colab_type": "text"
      },
      "source": [
        "<a href=\"https://colab.research.google.com/github/villafue/LinkedIn_Python_Stastics_Essential_Training/blob/master/04_03_bootstrapping_end.ipynb\" target=\"_parent\"><img src=\"https://colab.research.google.com/assets/colab-badge.svg\" alt=\"Open In Colab\"/></a>"
      ]
    },
    {
      "cell_type": "markdown",
      "metadata": {
        "id": "t34nRJUqRx2V",
        "colab_type": "text"
      },
      "source": [
        "## Python statistics essential training - 04_03_bootstrapping"
      ]
    },
    {
      "cell_type": "markdown",
      "metadata": {
        "id": "otsTd_CWRx2W",
        "colab_type": "text"
      },
      "source": [
        "Standard imports"
      ]
    },
    {
      "cell_type": "code",
      "metadata": {
        "id": "XIc0fMwIVOYU",
        "colab_type": "code",
        "colab": {}
      },
      "source": [
        "'''\n",
        "It's been a year after Ms. Green was elected mayor. Because of her contentious\n",
        "reforms, I poll citizens and ask them to grade her on a scale from 0 - 10.\n",
        "Because I'm lazy, I take only 100 samples.\n",
        "\n",
        "(When I use \"he,\" especially in quotations, it means the presenter on the video)\n",
        "'''"
      ],
      "execution_count": null,
      "outputs": []
    },
    {
      "cell_type": "code",
      "metadata": {
        "id": "c9DZ5rRmRx2X",
        "colab_type": "code",
        "colab": {}
      },
      "source": [
        "import math\n",
        "import io\n",
        "import os"
      ],
      "execution_count": 1,
      "outputs": []
    },
    {
      "cell_type": "code",
      "metadata": {
        "id": "wEB7U6Y-R3Vm",
        "colab_type": "code",
        "colab": {}
      },
      "source": [
        "os.chdir('sample_data')"
      ],
      "execution_count": 2,
      "outputs": []
    },
    {
      "cell_type": "code",
      "metadata": {
        "id": "YSMHZiLKRx2a",
        "colab_type": "code",
        "colab": {}
      },
      "source": [
        "import numpy as np\n",
        "import pandas as pd\n",
        "\n",
        "import matplotlib\n",
        "import matplotlib.pyplot as plt\n",
        "\n",
        "%matplotlib inline"
      ],
      "execution_count": 3,
      "outputs": []
    },
    {
      "cell_type": "code",
      "metadata": {
        "id": "L3o26xRVRx2d",
        "colab_type": "code",
        "colab": {}
      },
      "source": [
        "import scipy.stats\n",
        "import scipy.optimize\n",
        "import scipy.spatial"
      ],
      "execution_count": 4,
      "outputs": []
    },
    {
      "cell_type": "code",
      "metadata": {
        "id": "TrXkgI3CRx2f",
        "colab_type": "code",
        "colab": {}
      },
      "source": [
        "pop = pd.read_csv('grades.csv')"
      ],
      "execution_count": 6,
      "outputs": []
    },
    {
      "cell_type": "code",
      "metadata": {
        "id": "UHWE32naRx2i",
        "colab_type": "code",
        "colab": {
          "base_uri": "https://localhost:8080/",
          "height": 195
        },
        "outputId": "1e1cd2a6-a26e-4174-bdd9-94935dfdc1b0"
      },
      "source": [
        "pop.head()"
      ],
      "execution_count": 7,
      "outputs": [
        {
          "output_type": "execute_result",
          "data": {
            "text/html": [
              "<div>\n",
              "<style scoped>\n",
              "    .dataframe tbody tr th:only-of-type {\n",
              "        vertical-align: middle;\n",
              "    }\n",
              "\n",
              "    .dataframe tbody tr th {\n",
              "        vertical-align: top;\n",
              "    }\n",
              "\n",
              "    .dataframe thead th {\n",
              "        text-align: right;\n",
              "    }\n",
              "</style>\n",
              "<table border=\"1\" class=\"dataframe\">\n",
              "  <thead>\n",
              "    <tr style=\"text-align: right;\">\n",
              "      <th></th>\n",
              "      <th>grade</th>\n",
              "    </tr>\n",
              "  </thead>\n",
              "  <tbody>\n",
              "    <tr>\n",
              "      <th>0</th>\n",
              "      <td>3.648651</td>\n",
              "    </tr>\n",
              "    <tr>\n",
              "      <th>1</th>\n",
              "      <td>5.959915</td>\n",
              "    </tr>\n",
              "    <tr>\n",
              "      <th>2</th>\n",
              "      <td>7.387370</td>\n",
              "    </tr>\n",
              "    <tr>\n",
              "      <th>3</th>\n",
              "      <td>4.047515</td>\n",
              "    </tr>\n",
              "    <tr>\n",
              "      <th>4</th>\n",
              "      <td>2.846912</td>\n",
              "    </tr>\n",
              "  </tbody>\n",
              "</table>\n",
              "</div>"
            ],
            "text/plain": [
              "      grade\n",
              "0  3.648651\n",
              "1  5.959915\n",
              "2  7.387370\n",
              "3  4.047515\n",
              "4  2.846912"
            ]
          },
          "metadata": {
            "tags": []
          },
          "execution_count": 7
        }
      ]
    },
    {
      "cell_type": "code",
      "metadata": {
        "id": "FXit3_MRRx2n",
        "colab_type": "code",
        "colab": {
          "base_uri": "https://localhost:8080/",
          "height": 282
        },
        "outputId": "d97b6ac1-b09c-4e26-fed1-5c2efacf1c5c"
      },
      "source": [
        "'''\n",
        "The histogram doesn't have a recognizable form.\n",
        "'''\n",
        "pop.grade.hist(histtype='step')"
      ],
      "execution_count": 8,
      "outputs": [
        {
          "output_type": "execute_result",
          "data": {
            "text/plain": [
              "<matplotlib.axes._subplots.AxesSubplot at 0x7f0ba9c0ab00>"
            ]
          },
          "metadata": {
            "tags": []
          },
          "execution_count": 8
        },
        {
          "output_type": "display_data",
          "data": {
            "image/png": "[encoded data removed]",
            "text/plain": [
              "<Figure size 432x288 with 1 Axes>"
            ]
          },
          "metadata": {
            "tags": [],
            "needs_background": "light"
          }
        }
      ]
    },
    {
      "cell_type": "code",
      "metadata": {
        "id": "kyjA2zlaRx2q",
        "colab_type": "code",
        "colab": {
          "base_uri": "https://localhost:8080/",
          "height": 284
        },
        "outputId": "1a15ad78-f9fe-4d25-f7ee-4852f8320cb3"
      },
      "source": [
        "'''\n",
        "What is the \"true\" mean value? We cannot build a confidence interval because we\n",
        "do not know how to describe it. For example, it is not a normal distribution.\n",
        "We can see this by the shape of the histogram.\n",
        "'''\n",
        "pop.describe()"
      ],
      "execution_count": 9,
      "outputs": [
        {
          "output_type": "execute_result",
          "data": {
            "text/html": [
              "<div>\n",
              "<style scoped>\n",
              "    .dataframe tbody tr th:only-of-type {\n",
              "        vertical-align: middle;\n",
              "    }\n",
              "\n",
              "    .dataframe tbody tr th {\n",
              "        vertical-align: top;\n",
              "    }\n",
              "\n",
              "    .dataframe thead th {\n",
              "        text-align: right;\n",
              "    }\n",
              "</style>\n",
              "<table border=\"1\" class=\"dataframe\">\n",
              "  <thead>\n",
              "    <tr style=\"text-align: right;\">\n",
              "      <th></th>\n",
              "      <th>grade</th>\n",
              "    </tr>\n",
              "  </thead>\n",
              "  <tbody>\n",
              "    <tr>\n",
              "      <th>count</th>\n",
              "      <td>100.000000</td>\n",
              "    </tr>\n",
              "    <tr>\n",
              "      <th>mean</th>\n",
              "      <td>5.508561</td>\n",
              "    </tr>\n",
              "    <tr>\n",
              "      <th>std</th>\n",
              "      <td>1.984988</td>\n",
              "    </tr>\n",
              "    <tr>\n",
              "      <th>min</th>\n",
              "      <td>1.160899</td>\n",
              "    </tr>\n",
              "    <tr>\n",
              "      <th>25%</th>\n",
              "      <td>3.921372</td>\n",
              "    </tr>\n",
              "    <tr>\n",
              "      <th>50%</th>\n",
              "      <td>5.688527</td>\n",
              "    </tr>\n",
              "    <tr>\n",
              "      <th>75%</th>\n",
              "      <td>7.272162</td>\n",
              "    </tr>\n",
              "    <tr>\n",
              "      <th>max</th>\n",
              "      <td>9.120705</td>\n",
              "    </tr>\n",
              "  </tbody>\n",
              "</table>\n",
              "</div>"
            ],
            "text/plain": [
              "            grade\n",
              "count  100.000000\n",
              "mean     5.508561\n",
              "std      1.984988\n",
              "min      1.160899\n",
              "25%      3.921372\n",
              "50%      5.688527\n",
              "75%      7.272162\n",
              "max      9.120705"
            ]
          },
          "metadata": {
            "tags": []
          },
          "execution_count": 9
        }
      ]
    },
    {
      "cell_type": "code",
      "metadata": {
        "id": "RweS1zdvRx2t",
        "colab_type": "code",
        "colab": {},
        "outputId": "b069b321-e359-4d81-bac5-5e9a54a1dc16"
      },
      "source": [
        "'''\n",
        "We're going to bootstrap as it will give us an idea of the shape of the\n",
        "distribution.\n",
        "\n",
        "We're going to, \"estimate the uncertainty of our statistic, the mean, by generating\n",
        "a large family of samples from the one we have. And then, characterize the\n",
        "distribution of the mean, of this family (of samples).\"\n",
        "\n",
        "We're going to sample with replacement.\n",
        "\n",
        "As you can see, the mean is a little different in this sample.\n",
        "'''\n",
        "pop.sample(100,replace=True).describe()"
      ],
      "execution_count": null,
      "outputs": [
        {
          "output_type": "execute_result",
          "data": {
            "text/html": [
              "<div>\n",
              "<style scoped>\n",
              "    .dataframe tbody tr th:only-of-type {\n",
              "        vertical-align: middle;\n",
              "    }\n",
              "\n",
              "    .dataframe tbody tr th {\n",
              "        vertical-align: top;\n",
              "    }\n",
              "\n",
              "    .dataframe thead th {\n",
              "        text-align: right;\n",
              "    }\n",
              "</style>\n",
              "<table border=\"1\" class=\"dataframe\">\n",
              "  <thead>\n",
              "    <tr style=\"text-align: right;\">\n",
              "      <th></th>\n",
              "      <th>grade</th>\n",
              "    </tr>\n",
              "  </thead>\n",
              "  <tbody>\n",
              "    <tr>\n",
              "      <th>count</th>\n",
              "      <td>100.000000</td>\n",
              "    </tr>\n",
              "    <tr>\n",
              "      <th>mean</th>\n",
              "      <td>5.436984</td>\n",
              "    </tr>\n",
              "    <tr>\n",
              "      <th>std</th>\n",
              "      <td>2.043781</td>\n",
              "    </tr>\n",
              "    <tr>\n",
              "      <th>min</th>\n",
              "      <td>1.160899</td>\n",
              "    </tr>\n",
              "    <tr>\n",
              "      <th>25%</th>\n",
              "      <td>3.620426</td>\n",
              "    </tr>\n",
              "    <tr>\n",
              "      <th>50%</th>\n",
              "      <td>5.860997</td>\n",
              "    </tr>\n",
              "    <tr>\n",
              "      <th>75%</th>\n",
              "      <td>7.132170</td>\n",
              "    </tr>\n",
              "    <tr>\n",
              "      <th>max</th>\n",
              "      <td>9.120705</td>\n",
              "    </tr>\n",
              "  </tbody>\n",
              "</table>\n",
              "</div>"
            ],
            "text/plain": [
              "            grade\n",
              "count  100.000000\n",
              "mean     5.436984\n",
              "std      2.043781\n",
              "min      1.160899\n",
              "25%      3.620426\n",
              "50%      5.860997\n",
              "75%      7.132170\n",
              "max      9.120705"
            ]
          },
          "metadata": {
            "tags": []
          },
          "execution_count": 8
        }
      ]
    },
    {
      "cell_type": "code",
      "metadata": {
        "id": "bR-wcOtBRx2v",
        "colab_type": "code",
        "colab": {}
      },
      "source": [
        "'''\n",
        "Above, the code was just a sample done once. Below, the sample is rewritten so \n",
        "it can be ran 1000 times. We're going to aggregate the mean and save it under\n",
        "the column 'meangrade'. All this is wrapped in a dataframe.\n",
        "'''\n",
        "\n",
        "bootstrap = pd.DataFrame({'meangrade': [pop.sample(100,replace=True).grade.mean() for i in range(1000)]})"
      ],
      "execution_count": 11,
      "outputs": []
    },
    {
      "cell_type": "code",
      "metadata": {
        "id": "gzZnuun8cjpa",
        "colab_type": "code",
        "colab": {
          "base_uri": "https://localhost:8080/",
          "height": 195
        },
        "outputId": "94eac2d6-eef6-4603-873c-c0ec66315cab"
      },
      "source": [
        "'''\n",
        "Remember, that these are not grades, but means of grades.\n",
        "'''\n",
        "bootstrap.head()"
      ],
      "execution_count": 12,
      "outputs": [
        {
          "output_type": "execute_result",
          "data": {
            "text/html": [
              "<div>\n",
              "<style scoped>\n",
              "    .dataframe tbody tr th:only-of-type {\n",
              "        vertical-align: middle;\n",
              "    }\n",
              "\n",
              "    .dataframe tbody tr th {\n",
              "        vertical-align: top;\n",
              "    }\n",
              "\n",
              "    .dataframe thead th {\n",
              "        text-align: right;\n",
              "    }\n",
              "</style>\n",
              "<table border=\"1\" class=\"dataframe\">\n",
              "  <thead>\n",
              "    <tr style=\"text-align: right;\">\n",
              "      <th></th>\n",
              "      <th>meangrade</th>\n",
              "    </tr>\n",
              "  </thead>\n",
              "  <tbody>\n",
              "    <tr>\n",
              "      <th>0</th>\n",
              "      <td>5.820092</td>\n",
              "    </tr>\n",
              "    <tr>\n",
              "      <th>1</th>\n",
              "      <td>5.313492</td>\n",
              "    </tr>\n",
              "    <tr>\n",
              "      <th>2</th>\n",
              "      <td>5.613600</td>\n",
              "    </tr>\n",
              "    <tr>\n",
              "      <th>3</th>\n",
              "      <td>5.495966</td>\n",
              "    </tr>\n",
              "    <tr>\n",
              "      <th>4</th>\n",
              "      <td>5.448785</td>\n",
              "    </tr>\n",
              "  </tbody>\n",
              "</table>\n",
              "</div>"
            ],
            "text/plain": [
              "   meangrade\n",
              "0   5.820092\n",
              "1   5.313492\n",
              "2   5.613600\n",
              "3   5.495966\n",
              "4   5.448785"
            ]
          },
          "metadata": {
            "tags": []
          },
          "execution_count": 12
        }
      ]
    },
    {
      "cell_type": "code",
      "metadata": {
        "id": "25OE4A9fRx2x",
        "colab_type": "code",
        "colab": {
          "base_uri": "https://localhost:8080/",
          "height": 282
        },
        "outputId": "6d7d19ce-dbe9-41cf-c8a6-3912a8311825"
      },
      "source": [
        "'''\n",
        "We're going to draw a histogram. Furthermore, we're going to add a vertical line\n",
        "to show the original mean of our dataframe pop. This can be seen with the code\n",
        "axvline.\n",
        "\n",
        "The mean is about the same as our original sample, but there is significant\n",
        "spread around it. Because of this, we're going to extract the quantiles.\n",
        "'''\n",
        "bootstrap.meangrade.hist(histtype='step')\n",
        "plt.axvline(pop.grade.mean(),color='C1')"
      ],
      "execution_count": 13,
      "outputs": [
        {
          "output_type": "execute_result",
          "data": {
            "text/plain": [
              "<matplotlib.lines.Line2D at 0x7f0ba95ddd68>"
            ]
          },
          "metadata": {
            "tags": []
          },
          "execution_count": 13
        },
        {
          "output_type": "display_data",
          "data": {
            "image/png": "[encoded data removed]",
            "text/plain": [
              "<Figure size 432x288 with 1 Axes>"
            ]
          },
          "metadata": {
            "tags": [],
            "needs_background": "light"
          }
        }
      ]
    },
    {
      "cell_type": "code",
      "metadata": {
        "id": "4c7-71ZcRx20",
        "colab_type": "code",
        "colab": {
          "base_uri": "https://localhost:8080/",
          "height": 34
        },
        "outputId": "006c3524-ac35-4335-d32a-61cea3efa2b2"
      },
      "source": [
        "'''\n",
        "What this code does it rank, in order, the entire column of means and show\n",
        "the lower-rank of 2.5% (5.117) and the higher-rank of 97.5% (5.895). This gives\n",
        "our confidence interval of 95% with our lower and higher ranges.\n",
        "\n",
        "He says that, \"The \"mean grade\" is likely to be a passing one. The bootstrap\n",
        "procedure requires that the sample you have is representative. And the procedure\n",
        "is justified by rather complex mathematics under rather general assumptions.\n",
        "For this case, I will show you that this guess is acceptable by showing you how\n",
        "I really generated the data set.\"\n",
        "\n",
        "Um, I believe that's all the scipy stats below.\n",
        "'''\n",
        "bootstrap.meangrade.quantile(0.025), bootstrap.meangrade.quantile(0.975)"
      ],
      "execution_count": 14,
      "outputs": [
        {
          "output_type": "execute_result",
          "data": {
            "text/plain": [
              "(5.116680890531368, 5.895153301818647)"
            ]
          },
          "metadata": {
            "tags": []
          },
          "execution_count": 14
        }
      ]
    },
    {
      "cell_type": "code",
      "metadata": {
        "id": "NnxNcLvlRx22",
        "colab_type": "code",
        "colab": {
          "base_uri": "https://localhost:8080/",
          "height": 282
        },
        "outputId": "6a992ad1-3833-4d30-fdcf-489fab1c3411"
      },
      "source": [
        "'''\n",
        "He says, \"The distribution I used was actually a sum of two normal distributions\n",
        "with equal weights. We can use scipi stats to handle and play with distributions.\"\n",
        "\n",
        "Below, ...norm(7.5,1) means that we're plotting a normal distribution with a mean\n",
        "of 7.5 and a std of 1. We're plotting another normal distribution (n2) on the same\n",
        "plot. np.linespace is a command for spacing. The arguments say this from left to right:\n",
        "start at 0, end at 10, and have equal spacing of 100 inbetween the start and stop.\n",
        "\n",
        "For the plot, x is the horizontal parameters as explained above with np.linespace.\n",
        "I don't understand .5*n1 but it does have a probability density function using\n",
        "the x spacing parameters. Adding together both pdfs equals the graph below.\n",
        "\n",
        "It is called a bimodal distribution. It is also truncated because our grades\n",
        "can only go from range 0-10\n",
        "\n",
        "'''\n",
        "n1 = scipy.stats.norm(7.5,1)\n",
        "n2 = scipy.stats.norm(4,1)\n",
        "\n",
        "x = np.linspace(0,10,100)\n",
        "plt.plot(x,0.5*n1.pdf(x) + 0.5*n2.pdf(x))"
      ],
      "execution_count": 15,
      "outputs": [
        {
          "output_type": "execute_result",
          "data": {
            "text/plain": [
              "[<matplotlib.lines.Line2D at 0x7f0ba6d5b630>]"
            ]
          },
          "metadata": {
            "tags": []
          },
          "execution_count": 15
        },
        {
          "output_type": "display_data",
          "data": {
            "image/png": "[encoded data removed]",
            "text/plain": [
              "<Figure size 432x288 with 1 Axes>"
            ]
          },
          "metadata": {
            "tags": [],
            "needs_background": "light"
          }
        }
      ]
    },
    {
      "cell_type": "code",
      "metadata": {
        "id": "XhlWWqUYRx25",
        "colab_type": "code",
        "colab": {}
      },
      "source": [
        "'''\n",
        "He's creating a function to draw a single grade. \".rvs\" means it takes a random\n",
        "sample from that distribution (n1).\n",
        "In essence, while having a 50% chance of chance of choosing either n1 or n2 \n",
        "(code is np.random.rand <.5), take a random sample from n1 if np.random.rand is\n",
        "less than .5 Otherwise, if np.random.rand equates to .5 or higher, \n",
        "take a random sample from n2. The range is 0 to 10.\n",
        "'''\n",
        "\n",
        "def draw():\n",
        "    while True:\n",
        "        v = n1.rvs() if np.random.rand() < 0.5 else n2.rvs()\n",
        "        if 0 <= v <= 10:\n",
        "            return v"
      ],
      "execution_count": 16,
      "outputs": []
    },
    {
      "cell_type": "code",
      "metadata": {
        "id": "3CRm70m0Rx27",
        "colab_type": "code",
        "colab": {
          "base_uri": "https://localhost:8080/",
          "height": 34
        },
        "outputId": "d045da8b-b6f1-4936-cc22-ce49db78ab0d"
      },
      "source": [
        "draw()"
      ],
      "execution_count": 17,
      "outputs": [
        {
          "output_type": "execute_result",
          "data": {
            "text/plain": [
              "7.677978073090242"
            ]
          },
          "metadata": {
            "tags": []
          },
          "execution_count": 17
        }
      ]
    },
    {
      "cell_type": "code",
      "metadata": {
        "id": "sAbigSooRx29",
        "colab_type": "code",
        "colab": {}
      },
      "source": [
        "'''\n",
        "He says we're going to keep taking samples until we find one that's acceptable.\n",
        "'''\n",
        "def dataset(n=100):\n",
        "    return pd.DataFrame({'grade': [draw() for i in range(n)]})"
      ],
      "execution_count": 18,
      "outputs": []
    },
    {
      "cell_type": "code",
      "metadata": {
        "id": "SJtOwl0WpXmY",
        "colab_type": "code",
        "colab": {
          "base_uri": "https://localhost:8080/",
          "height": 195
        },
        "outputId": "daf2b631-e586-43fa-fd41-35275456ea55"
      },
      "source": [
        "test = dataset(100)\n",
        "test.head()"
      ],
      "execution_count": 22,
      "outputs": [
        {
          "output_type": "execute_result",
          "data": {
            "text/html": [
              "<div>\n",
              "<style scoped>\n",
              "    .dataframe tbody tr th:only-of-type {\n",
              "        vertical-align: middle;\n",
              "    }\n",
              "\n",
              "    .dataframe tbody tr th {\n",
              "        vertical-align: top;\n",
              "    }\n",
              "\n",
              "    .dataframe thead th {\n",
              "        text-align: right;\n",
              "    }\n",
              "</style>\n",
              "<table border=\"1\" class=\"dataframe\">\n",
              "  <thead>\n",
              "    <tr style=\"text-align: right;\">\n",
              "      <th></th>\n",
              "      <th>grade</th>\n",
              "    </tr>\n",
              "  </thead>\n",
              "  <tbody>\n",
              "    <tr>\n",
              "      <th>0</th>\n",
              "      <td>3.618138</td>\n",
              "    </tr>\n",
              "    <tr>\n",
              "      <th>1</th>\n",
              "      <td>5.855357</td>\n",
              "    </tr>\n",
              "    <tr>\n",
              "      <th>2</th>\n",
              "      <td>7.746127</td>\n",
              "    </tr>\n",
              "    <tr>\n",
              "      <th>3</th>\n",
              "      <td>3.534423</td>\n",
              "    </tr>\n",
              "    <tr>\n",
              "      <th>4</th>\n",
              "      <td>8.303874</td>\n",
              "    </tr>\n",
              "  </tbody>\n",
              "</table>\n",
              "</div>"
            ],
            "text/plain": [
              "      grade\n",
              "0  3.618138\n",
              "1  5.855357\n",
              "2  7.746127\n",
              "3  3.534423\n",
              "4  8.303874"
            ]
          },
          "metadata": {
            "tags": []
          },
          "execution_count": 22
        }
      ]
    },
    {
      "cell_type": "code",
      "metadata": {
        "id": "ZdzQLsNURx2_",
        "colab_type": "code",
        "colab": {
          "base_uri": "https://localhost:8080/",
          "height": 265
        },
        "outputId": "d8b20f68-df4e-46e9-c1ed-bd9f55f95247"
      },
      "source": [
        "'''\n",
        "We're going to plot a few of these samples. \n",
        "'''\n",
        "\n",
        "for i in range(5):\n",
        "    dataset(100).grade.hist(histtype='step',density=True)"
      ],
      "execution_count": 19,
      "outputs": [
        {
          "output_type": "display_data",
          "data": {
            "image/png": "[encoded data removed]",
            "text/plain": [
              "<Figure size 432x288 with 1 Axes>"
            ]
          },
          "metadata": {
            "tags": [],
            "needs_background": "light"
          }
        }
      ]
    },
    {
      "cell_type": "code",
      "metadata": {
        "id": "iZvG4IlcRx3D",
        "colab_type": "code",
        "colab": {}
      },
      "source": [
        "'''\n",
        "Same as above but in a bigger way and saving it to a variable.\n",
        "'''\n",
        "means = pd.DataFrame({'meangrade': [dataset(100).grade.mean() for i in range(1000)]})"
      ],
      "execution_count": 23,
      "outputs": []
    },
    {
      "cell_type": "code",
      "metadata": {
        "id": "gyEtWsHCRx3F",
        "colab_type": "code",
        "colab": {
          "base_uri": "https://localhost:8080/",
          "height": 282
        },
        "outputId": "bd4d7ef8-2588-4d9d-92b3-31ae5b67b7c0"
      },
      "source": [
        "'''\n",
        "We're comparing the means vs the bootstrap.\n",
        "\n",
        "He says, \"We can see that the two sampling distributions are displaced, bit the\n",
        "spreads are comparable which justifies are approximated confidence interval.\n",
        "'''\n",
        "means.meangrade.hist(histtype='step')\n",
        "bootstrap.meangrade.hist(histtype='step')"
      ],
      "execution_count": 24,
      "outputs": [
        {
          "output_type": "execute_result",
          "data": {
            "text/plain": [
              "<matplotlib.axes._subplots.AxesSubplot at 0x7f0ba6ad4390>"
            ]
          },
          "metadata": {
            "tags": []
          },
          "execution_count": 24
        },
        {
          "output_type": "display_data",
          "data": {
            "image/png": "[encoded data removed]",
            "text/plain": [
              "<Figure size 432x288 with 1 Axes>"
            ]
          },
          "metadata": {
            "tags": [],
            "needs_background": "light"
          }
        }
      ]
    },
    {
      "cell_type": "code",
      "metadata": {
        "id": "PD6IJnqARx3I",
        "colab_type": "code",
        "colab": {}
      },
      "source": [
        "'''\n",
        "Questions:\n",
        "\n",
        "1. Why did he pick n1 and n2 of a mean of 7.5 and 4?\n",
        "2. I don't understand his conclusions and his proof. I don't understand how\n",
        "this relates back to our original exercise of bootstrapping.\n",
        "'''"
      ],
      "execution_count": null,
      "outputs": []
    },
    {
      "cell_type": "code",
      "metadata": {
        "id": "NYPyQHE6R2GG",
        "colab_type": "code",
        "colab": {}
      },
      "source": [
        ""
      ],
      "execution_count": null,
      "outputs": []
    }
  ]
}