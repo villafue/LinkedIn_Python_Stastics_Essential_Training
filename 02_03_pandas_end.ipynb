{
  "nbformat": 4,
  "nbformat_minor": 0,
  "metadata": {
    "kernelspec": {
      "display_name": "Python 3",
      "language": "python",
      "name": "python3"
    },
    "language_info": {
      "codemirror_mode": {
        "name": "ipython",
        "version": 3
      },
      "file_extension": ".py",
      "mimetype": "text/x-python",
      "name": "python",
      "nbconvert_exporter": "python",
      "pygments_lexer": "ipython3",
      "version": "3.6.4"
    },
    "toc": {
      "base_numbering": 1,
      "nav_menu": {},
      "number_sections": true,
      "sideBar": true,
      "skip_h1_title": false,
      "title_cell": "Table of Contents",
      "title_sidebar": "Contents",
      "toc_cell": false,
      "toc_position": {},
      "toc_section_display": true,
      "toc_window_display": false
    },
    "colab": {
      "name": "02_03_pandas_end.ipynb",
      "provenance": [],
      "include_colab_link": true
    }
  },
  "cells": [
    {
      "cell_type": "markdown",
      "metadata": {
        "id": "view-in-github",
        "colab_type": "text"
      },
      "source": [
        "<a href=\"https://colab.research.google.com/github/villafue/LinkedIn_Python_Stastics_Essential_Training/blob/master/02_03_pandas_end.ipynb\" target=\"_parent\"><img src=\"https://colab.research.google.com/assets/colab-badge.svg\" alt=\"Open In Colab\"/></a>"
      ]
    },
    {
      "cell_type": "markdown",
      "metadata": {
        "id": "HUAMY-YRxOI5",
        "colab_type": "text"
      },
      "source": [
        "## Python statistics essential training - 02_03_pandas"
      ]
    },
    {
      "cell_type": "markdown",
      "metadata": {
        "id": "fQiOkwmkxOI6",
        "colab_type": "text"
      },
      "source": [
        "Standard imports"
      ]
    },
    {
      "cell_type": "code",
      "metadata": {
        "id": "vjxiKaGOxOI6",
        "colab_type": "code",
        "colab": {}
      },
      "source": [
        "import numpy as np\n",
        "import pandas as pd\n",
        "\n",
        "import matplotlib\n",
        "import matplotlib.pyplot as pp\n",
        "\n",
        "%matplotlib inline"
      ],
      "execution_count": null,
      "outputs": []
    },
    {
      "cell_type": "code",
      "metadata": {
        "id": "Dbh9IpvCxOI-",
        "colab_type": "code",
        "colab": {}
      },
      "source": [
        "planets = pd.read_csv('Planets.csv')"
      ],
      "execution_count": null,
      "outputs": []
    },
    {
      "cell_type": "code",
      "metadata": {
        "id": "0ZMJJ-8zxOJA",
        "colab_type": "code",
        "colab": {},
        "outputId": "ad20e1f7-d405-43a1-d9b6-e906a8bb0f43"
      },
      "source": [
        "planets"
      ],
      "execution_count": null,
      "outputs": [
        {
          "output_type": "execute_result",
          "data": {
            "text/html": [
              "<div>\n",
              "<style scoped>\n",
              "    .dataframe tbody tr th:only-of-type {\n",
              "        vertical-align: middle;\n",
              "    }\n",
              "\n",
              "    .dataframe tbody tr th {\n",
              "        vertical-align: top;\n",
              "    }\n",
              "\n",
              "    .dataframe thead th {\n",
              "        text-align: right;\n",
              "    }\n",
              "</style>\n",
              "<table border=\"1\" class=\"dataframe\">\n",
              "  <thead>\n",
              "    <tr style=\"text-align: right;\">\n",
              "      <th></th>\n",
              "      <th>Planet</th>\n",
              "      <th>Mass</th>\n",
              "      <th>Diameter</th>\n",
              "      <th>DayLength</th>\n",
              "      <th>SunDistance</th>\n",
              "      <th>OrbitPeriod</th>\n",
              "      <th>OrbitVelocity</th>\n",
              "      <th>MeanTemperature</th>\n",
              "      <th>SurfacePressure</th>\n",
              "      <th>Moons</th>\n",
              "      <th>Rings</th>\n",
              "      <th>MagneticField</th>\n",
              "      <th>FirstVisited</th>\n",
              "      <th>FirstMission</th>\n",
              "    </tr>\n",
              "  </thead>\n",
              "  <tbody>\n",
              "    <tr>\n",
              "      <th>0</th>\n",
              "      <td>MERCURY</td>\n",
              "      <td>0.3300</td>\n",
              "      <td>4879</td>\n",
              "      <td>4222.6</td>\n",
              "      <td>57.9</td>\n",
              "      <td>88</td>\n",
              "      <td>47.4</td>\n",
              "      <td>167</td>\n",
              "      <td>0.00000</td>\n",
              "      <td>0</td>\n",
              "      <td>No</td>\n",
              "      <td>Yes</td>\n",
              "      <td>1974-03-29</td>\n",
              "      <td>Mariner 10</td>\n",
              "    </tr>\n",
              "    <tr>\n",
              "      <th>1</th>\n",
              "      <td>VENUS</td>\n",
              "      <td>4.8700</td>\n",
              "      <td>12,104</td>\n",
              "      <td>2802.0</td>\n",
              "      <td>108.2</td>\n",
              "      <td>224.7</td>\n",
              "      <td>35.0</td>\n",
              "      <td>464</td>\n",
              "      <td>92.00000</td>\n",
              "      <td>0</td>\n",
              "      <td>No</td>\n",
              "      <td>No</td>\n",
              "      <td>1962-08-27</td>\n",
              "      <td>Mariner 2</td>\n",
              "    </tr>\n",
              "    <tr>\n",
              "      <th>2</th>\n",
              "      <td>EARTH</td>\n",
              "      <td>5.9700</td>\n",
              "      <td>12,756</td>\n",
              "      <td>24.0</td>\n",
              "      <td>149.6</td>\n",
              "      <td>365.2</td>\n",
              "      <td>29.8</td>\n",
              "      <td>15</td>\n",
              "      <td>1.00000</td>\n",
              "      <td>1</td>\n",
              "      <td>No</td>\n",
              "      <td>Yes</td>\n",
              "      <td>NaN</td>\n",
              "      <td>NaN</td>\n",
              "    </tr>\n",
              "    <tr>\n",
              "      <th>3</th>\n",
              "      <td>MOON</td>\n",
              "      <td>0.0730</td>\n",
              "      <td>3475</td>\n",
              "      <td>708.7</td>\n",
              "      <td>NaN</td>\n",
              "      <td>27.3</td>\n",
              "      <td>1.0</td>\n",
              "      <td>-20</td>\n",
              "      <td>0.00000</td>\n",
              "      <td>0</td>\n",
              "      <td>No</td>\n",
              "      <td>No</td>\n",
              "      <td>1959-09-12</td>\n",
              "      <td>Luna 2</td>\n",
              "    </tr>\n",
              "    <tr>\n",
              "      <th>4</th>\n",
              "      <td>MARS</td>\n",
              "      <td>0.6420</td>\n",
              "      <td>6792</td>\n",
              "      <td>24.7</td>\n",
              "      <td>227.9</td>\n",
              "      <td>687</td>\n",
              "      <td>24.1</td>\n",
              "      <td>-65</td>\n",
              "      <td>0.01000</td>\n",
              "      <td>2</td>\n",
              "      <td>No</td>\n",
              "      <td>No</td>\n",
              "      <td>1965-07-15</td>\n",
              "      <td>Mariner 4</td>\n",
              "    </tr>\n",
              "    <tr>\n",
              "      <th>5</th>\n",
              "      <td>JUPITER</td>\n",
              "      <td>1898.0000</td>\n",
              "      <td>142,984</td>\n",
              "      <td>9.9</td>\n",
              "      <td>778.6</td>\n",
              "      <td>4331</td>\n",
              "      <td>13.1</td>\n",
              "      <td>-110</td>\n",
              "      <td>NaN</td>\n",
              "      <td>67</td>\n",
              "      <td>Yes</td>\n",
              "      <td>Yes</td>\n",
              "      <td>1973-12-04</td>\n",
              "      <td>Pioneer 10</td>\n",
              "    </tr>\n",
              "    <tr>\n",
              "      <th>6</th>\n",
              "      <td>SATURN</td>\n",
              "      <td>568.0000</td>\n",
              "      <td>120,536</td>\n",
              "      <td>10.7</td>\n",
              "      <td>1433.5</td>\n",
              "      <td>10,747</td>\n",
              "      <td>9.7</td>\n",
              "      <td>-140</td>\n",
              "      <td>NaN</td>\n",
              "      <td>62</td>\n",
              "      <td>Yes</td>\n",
              "      <td>Yes</td>\n",
              "      <td>1979-09-01</td>\n",
              "      <td>Pioneer 11</td>\n",
              "    </tr>\n",
              "    <tr>\n",
              "      <th>7</th>\n",
              "      <td>URANUS</td>\n",
              "      <td>86.8000</td>\n",
              "      <td>51,118</td>\n",
              "      <td>17.2</td>\n",
              "      <td>2872.5</td>\n",
              "      <td>30,589</td>\n",
              "      <td>6.8</td>\n",
              "      <td>-195</td>\n",
              "      <td>NaN</td>\n",
              "      <td>27</td>\n",
              "      <td>Yes</td>\n",
              "      <td>Yes</td>\n",
              "      <td>1986-01-24</td>\n",
              "      <td>Voyager 2</td>\n",
              "    </tr>\n",
              "    <tr>\n",
              "      <th>8</th>\n",
              "      <td>NEPTUNE</td>\n",
              "      <td>102.0000</td>\n",
              "      <td>49,528</td>\n",
              "      <td>16.1</td>\n",
              "      <td>4495.1</td>\n",
              "      <td>59,800</td>\n",
              "      <td>5.4</td>\n",
              "      <td>-200</td>\n",
              "      <td>NaN</td>\n",
              "      <td>14</td>\n",
              "      <td>Yes</td>\n",
              "      <td>Yes</td>\n",
              "      <td>1989-08-25</td>\n",
              "      <td>Voyager 2</td>\n",
              "    </tr>\n",
              "    <tr>\n",
              "      <th>9</th>\n",
              "      <td>PLUTO</td>\n",
              "      <td>0.0146</td>\n",
              "      <td>2370</td>\n",
              "      <td>153.3</td>\n",
              "      <td>5906.4</td>\n",
              "      <td>90,560</td>\n",
              "      <td>4.7</td>\n",
              "      <td>-225</td>\n",
              "      <td>0.00001</td>\n",
              "      <td>5</td>\n",
              "      <td>No</td>\n",
              "      <td>NaN</td>\n",
              "      <td>2015-07-14</td>\n",
              "      <td>New Horizons</td>\n",
              "    </tr>\n",
              "  </tbody>\n",
              "</table>\n",
              "</div>"
            ],
            "text/plain": [
              "    Planet       Mass Diameter  DayLength  SunDistance OrbitPeriod  \\\n",
              "0  MERCURY     0.3300     4879     4222.6         57.9          88   \n",
              "1    VENUS     4.8700   12,104     2802.0        108.2       224.7   \n",
              "2    EARTH     5.9700   12,756       24.0        149.6       365.2   \n",
              "3     MOON     0.0730     3475      708.7          NaN        27.3   \n",
              "4     MARS     0.6420     6792       24.7        227.9         687   \n",
              "5  JUPITER  1898.0000  142,984        9.9        778.6        4331   \n",
              "6   SATURN   568.0000  120,536       10.7       1433.5      10,747   \n",
              "7   URANUS    86.8000   51,118       17.2       2872.5      30,589   \n",
              "8  NEPTUNE   102.0000   49,528       16.1       4495.1      59,800   \n",
              "9    PLUTO     0.0146     2370      153.3       5906.4      90,560   \n",
              "\n",
              "   OrbitVelocity  MeanTemperature  SurfacePressure  Moons Rings MagneticField  \\\n",
              "0           47.4              167          0.00000      0    No           Yes   \n",
              "1           35.0              464         92.00000      0    No            No   \n",
              "2           29.8               15          1.00000      1    No           Yes   \n",
              "3            1.0              -20          0.00000      0    No            No   \n",
              "4           24.1              -65          0.01000      2    No            No   \n",
              "5           13.1             -110              NaN     67   Yes           Yes   \n",
              "6            9.7             -140              NaN     62   Yes           Yes   \n",
              "7            6.8             -195              NaN     27   Yes           Yes   \n",
              "8            5.4             -200              NaN     14   Yes           Yes   \n",
              "9            4.7             -225          0.00001      5    No           NaN   \n",
              "\n",
              "  FirstVisited  FirstMission  \n",
              "0   1974-03-29    Mariner 10  \n",
              "1   1962-08-27     Mariner 2  \n",
              "2          NaN           NaN  \n",
              "3   1959-09-12        Luna 2  \n",
              "4   1965-07-15     Mariner 4  \n",
              "5   1973-12-04    Pioneer 10  \n",
              "6   1979-09-01    Pioneer 11  \n",
              "7   1986-01-24     Voyager 2  \n",
              "8   1989-08-25     Voyager 2  \n",
              "9   2015-07-14  New Horizons  "
            ]
          },
          "metadata": {
            "tags": []
          },
          "execution_count": 3
        }
      ]
    },
    {
      "cell_type": "code",
      "metadata": {
        "id": "apJHF-rkxOJF",
        "colab_type": "code",
        "colab": {}
      },
      "source": [
        "planets = pd.read_csv('Planets.csv',usecols=[0,1,2,3])"
      ],
      "execution_count": null,
      "outputs": []
    },
    {
      "cell_type": "code",
      "metadata": {
        "id": "kP8wAlpBxOJI",
        "colab_type": "code",
        "colab": {},
        "outputId": "412b656c-155b-4329-bc6c-f8e0115c8082"
      },
      "source": [
        "planets"
      ],
      "execution_count": null,
      "outputs": [
        {
          "output_type": "execute_result",
          "data": {
            "text/html": [
              "<div>\n",
              "<style scoped>\n",
              "    .dataframe tbody tr th:only-of-type {\n",
              "        vertical-align: middle;\n",
              "    }\n",
              "\n",
              "    .dataframe tbody tr th {\n",
              "        vertical-align: top;\n",
              "    }\n",
              "\n",
              "    .dataframe thead th {\n",
              "        text-align: right;\n",
              "    }\n",
              "</style>\n",
              "<table border=\"1\" class=\"dataframe\">\n",
              "  <thead>\n",
              "    <tr style=\"text-align: right;\">\n",
              "      <th></th>\n",
              "      <th>Planet</th>\n",
              "      <th>Mass</th>\n",
              "      <th>Diameter</th>\n",
              "      <th>DayLength</th>\n",
              "    </tr>\n",
              "  </thead>\n",
              "  <tbody>\n",
              "    <tr>\n",
              "      <th>0</th>\n",
              "      <td>MERCURY</td>\n",
              "      <td>0.3300</td>\n",
              "      <td>4879</td>\n",
              "      <td>4222.6</td>\n",
              "    </tr>\n",
              "    <tr>\n",
              "      <th>1</th>\n",
              "      <td>VENUS</td>\n",
              "      <td>4.8700</td>\n",
              "      <td>12,104</td>\n",
              "      <td>2802.0</td>\n",
              "    </tr>\n",
              "    <tr>\n",
              "      <th>2</th>\n",
              "      <td>EARTH</td>\n",
              "      <td>5.9700</td>\n",
              "      <td>12,756</td>\n",
              "      <td>24.0</td>\n",
              "    </tr>\n",
              "    <tr>\n",
              "      <th>3</th>\n",
              "      <td>MOON</td>\n",
              "      <td>0.0730</td>\n",
              "      <td>3475</td>\n",
              "      <td>708.7</td>\n",
              "    </tr>\n",
              "    <tr>\n",
              "      <th>4</th>\n",
              "      <td>MARS</td>\n",
              "      <td>0.6420</td>\n",
              "      <td>6792</td>\n",
              "      <td>24.7</td>\n",
              "    </tr>\n",
              "    <tr>\n",
              "      <th>5</th>\n",
              "      <td>JUPITER</td>\n",
              "      <td>1898.0000</td>\n",
              "      <td>142,984</td>\n",
              "      <td>9.9</td>\n",
              "    </tr>\n",
              "    <tr>\n",
              "      <th>6</th>\n",
              "      <td>SATURN</td>\n",
              "      <td>568.0000</td>\n",
              "      <td>120,536</td>\n",
              "      <td>10.7</td>\n",
              "    </tr>\n",
              "    <tr>\n",
              "      <th>7</th>\n",
              "      <td>URANUS</td>\n",
              "      <td>86.8000</td>\n",
              "      <td>51,118</td>\n",
              "      <td>17.2</td>\n",
              "    </tr>\n",
              "    <tr>\n",
              "      <th>8</th>\n",
              "      <td>NEPTUNE</td>\n",
              "      <td>102.0000</td>\n",
              "      <td>49,528</td>\n",
              "      <td>16.1</td>\n",
              "    </tr>\n",
              "    <tr>\n",
              "      <th>9</th>\n",
              "      <td>PLUTO</td>\n",
              "      <td>0.0146</td>\n",
              "      <td>2370</td>\n",
              "      <td>153.3</td>\n",
              "    </tr>\n",
              "  </tbody>\n",
              "</table>\n",
              "</div>"
            ],
            "text/plain": [
              "    Planet       Mass Diameter  DayLength\n",
              "0  MERCURY     0.3300     4879     4222.6\n",
              "1    VENUS     4.8700   12,104     2802.0\n",
              "2    EARTH     5.9700   12,756       24.0\n",
              "3     MOON     0.0730     3475      708.7\n",
              "4     MARS     0.6420     6792       24.7\n",
              "5  JUPITER  1898.0000  142,984        9.9\n",
              "6   SATURN   568.0000  120,536       10.7\n",
              "7   URANUS    86.8000   51,118       17.2\n",
              "8  NEPTUNE   102.0000   49,528       16.1\n",
              "9    PLUTO     0.0146     2370      153.3"
            ]
          },
          "metadata": {
            "tags": []
          },
          "execution_count": 5
        }
      ]
    },
    {
      "cell_type": "code",
      "metadata": {
        "id": "OEwtjeMPxOJL",
        "colab_type": "code",
        "colab": {},
        "outputId": "a2b5e06b-2665-4f2a-9c0f-19c168b31fa6"
      },
      "source": [
        "planets['Mass']"
      ],
      "execution_count": null,
      "outputs": [
        {
          "output_type": "execute_result",
          "data": {
            "text/plain": [
              "0       0.3300\n",
              "1       4.8700\n",
              "2       5.9700\n",
              "3       0.0730\n",
              "4       0.6420\n",
              "5    1898.0000\n",
              "6     568.0000\n",
              "7      86.8000\n",
              "8     102.0000\n",
              "9       0.0146\n",
              "Name: Mass, dtype: float64"
            ]
          },
          "metadata": {
            "tags": []
          },
          "execution_count": 6
        }
      ]
    },
    {
      "cell_type": "code",
      "metadata": {
        "id": "-cl00eEpxOJN",
        "colab_type": "code",
        "colab": {},
        "outputId": "f63a9d88-f6ca-489b-c0d1-841325541158"
      },
      "source": [
        "planets.Mass"
      ],
      "execution_count": null,
      "outputs": [
        {
          "output_type": "execute_result",
          "data": {
            "text/plain": [
              "0       0.3300\n",
              "1       4.8700\n",
              "2       5.9700\n",
              "3       0.0730\n",
              "4       0.6420\n",
              "5    1898.0000\n",
              "6     568.0000\n",
              "7      86.8000\n",
              "8     102.0000\n",
              "9       0.0146\n",
              "Name: Mass, dtype: float64"
            ]
          },
          "metadata": {
            "tags": []
          },
          "execution_count": 7
        }
      ]
    },
    {
      "cell_type": "code",
      "metadata": {
        "id": "Zcl07E68xOJQ",
        "colab_type": "code",
        "colab": {},
        "outputId": "06b2cdc5-fb2e-4dd3-98c5-7d27fad094f2"
      },
      "source": [
        "planets.index"
      ],
      "execution_count": null,
      "outputs": [
        {
          "output_type": "execute_result",
          "data": {
            "text/plain": [
              "RangeIndex(start=0, stop=10, step=1)"
            ]
          },
          "metadata": {
            "tags": []
          },
          "execution_count": 8
        }
      ]
    },
    {
      "cell_type": "code",
      "metadata": {
        "id": "BRZIYQRjxOJW",
        "colab_type": "code",
        "colab": {},
        "outputId": "1a8adc23-96d3-4e67-f7dc-4045c4ac6207"
      },
      "source": [
        "planets.loc[0]"
      ],
      "execution_count": null,
      "outputs": [
        {
          "output_type": "execute_result",
          "data": {
            "text/plain": [
              "Planet       MERCURY\n",
              "Mass            0.33\n",
              "Diameter        4879\n",
              "DayLength     4222.6\n",
              "Name: 0, dtype: object"
            ]
          },
          "metadata": {
            "tags": []
          },
          "execution_count": 9
        }
      ]
    },
    {
      "cell_type": "code",
      "metadata": {
        "id": "9vAWSNCWxOJZ",
        "colab_type": "code",
        "colab": {}
      },
      "source": [
        "planets.set_index('Planet',inplace=True)"
      ],
      "execution_count": null,
      "outputs": []
    },
    {
      "cell_type": "code",
      "metadata": {
        "id": "i7d-bl20xOJb",
        "colab_type": "code",
        "colab": {},
        "outputId": "68e18354-2e29-40b6-c117-fbd4e7cbe097"
      },
      "source": [
        "planets"
      ],
      "execution_count": null,
      "outputs": [
        {
          "output_type": "execute_result",
          "data": {
            "text/html": [
              "<div>\n",
              "<style scoped>\n",
              "    .dataframe tbody tr th:only-of-type {\n",
              "        vertical-align: middle;\n",
              "    }\n",
              "\n",
              "    .dataframe tbody tr th {\n",
              "        vertical-align: top;\n",
              "    }\n",
              "\n",
              "    .dataframe thead th {\n",
              "        text-align: right;\n",
              "    }\n",
              "</style>\n",
              "<table border=\"1\" class=\"dataframe\">\n",
              "  <thead>\n",
              "    <tr style=\"text-align: right;\">\n",
              "      <th></th>\n",
              "      <th>Mass</th>\n",
              "      <th>Diameter</th>\n",
              "      <th>DayLength</th>\n",
              "    </tr>\n",
              "    <tr>\n",
              "      <th>Planet</th>\n",
              "      <th></th>\n",
              "      <th></th>\n",
              "      <th></th>\n",
              "    </tr>\n",
              "  </thead>\n",
              "  <tbody>\n",
              "    <tr>\n",
              "      <th>MERCURY</th>\n",
              "      <td>0.3300</td>\n",
              "      <td>4879</td>\n",
              "      <td>4222.6</td>\n",
              "    </tr>\n",
              "    <tr>\n",
              "      <th>VENUS</th>\n",
              "      <td>4.8700</td>\n",
              "      <td>12,104</td>\n",
              "      <td>2802.0</td>\n",
              "    </tr>\n",
              "    <tr>\n",
              "      <th>EARTH</th>\n",
              "      <td>5.9700</td>\n",
              "      <td>12,756</td>\n",
              "      <td>24.0</td>\n",
              "    </tr>\n",
              "    <tr>\n",
              "      <th>MOON</th>\n",
              "      <td>0.0730</td>\n",
              "      <td>3475</td>\n",
              "      <td>708.7</td>\n",
              "    </tr>\n",
              "    <tr>\n",
              "      <th>MARS</th>\n",
              "      <td>0.6420</td>\n",
              "      <td>6792</td>\n",
              "      <td>24.7</td>\n",
              "    </tr>\n",
              "    <tr>\n",
              "      <th>JUPITER</th>\n",
              "      <td>1898.0000</td>\n",
              "      <td>142,984</td>\n",
              "      <td>9.9</td>\n",
              "    </tr>\n",
              "    <tr>\n",
              "      <th>SATURN</th>\n",
              "      <td>568.0000</td>\n",
              "      <td>120,536</td>\n",
              "      <td>10.7</td>\n",
              "    </tr>\n",
              "    <tr>\n",
              "      <th>URANUS</th>\n",
              "      <td>86.8000</td>\n",
              "      <td>51,118</td>\n",
              "      <td>17.2</td>\n",
              "    </tr>\n",
              "    <tr>\n",
              "      <th>NEPTUNE</th>\n",
              "      <td>102.0000</td>\n",
              "      <td>49,528</td>\n",
              "      <td>16.1</td>\n",
              "    </tr>\n",
              "    <tr>\n",
              "      <th>PLUTO</th>\n",
              "      <td>0.0146</td>\n",
              "      <td>2370</td>\n",
              "      <td>153.3</td>\n",
              "    </tr>\n",
              "  </tbody>\n",
              "</table>\n",
              "</div>"
            ],
            "text/plain": [
              "              Mass Diameter  DayLength\n",
              "Planet                                \n",
              "MERCURY     0.3300     4879     4222.6\n",
              "VENUS       4.8700   12,104     2802.0\n",
              "EARTH       5.9700   12,756       24.0\n",
              "MOON        0.0730     3475      708.7\n",
              "MARS        0.6420     6792       24.7\n",
              "JUPITER  1898.0000  142,984        9.9\n",
              "SATURN    568.0000  120,536       10.7\n",
              "URANUS     86.8000   51,118       17.2\n",
              "NEPTUNE   102.0000   49,528       16.1\n",
              "PLUTO       0.0146     2370      153.3"
            ]
          },
          "metadata": {
            "tags": []
          },
          "execution_count": 12
        }
      ]
    },
    {
      "cell_type": "code",
      "metadata": {
        "id": "9LzVaJgbxOJe",
        "colab_type": "code",
        "colab": {},
        "outputId": "4329f5f6-482b-4865-e760-eae6aebefcb0"
      },
      "source": [
        "planets.info()"
      ],
      "execution_count": null,
      "outputs": [
        {
          "output_type": "stream",
          "text": [
            "<class 'pandas.core.frame.DataFrame'>\n",
            "Index: 10 entries, MERCURY to PLUTO\n",
            "Data columns (total 3 columns):\n",
            "Mass         10 non-null float64\n",
            "Diameter     10 non-null object\n",
            "DayLength    10 non-null float64\n",
            "dtypes: float64(2), object(1)\n",
            "memory usage: 320.0+ bytes\n"
          ],
          "name": "stdout"
        }
      ]
    },
    {
      "cell_type": "code",
      "metadata": {
        "id": "WWUCSwuAxOJh",
        "colab_type": "code",
        "colab": {},
        "outputId": "d85edd5b-c400-434c-957c-2b293e3fdefa"
      },
      "source": [
        "len(planets)"
      ],
      "execution_count": null,
      "outputs": [
        {
          "output_type": "execute_result",
          "data": {
            "text/plain": [
              "10"
            ]
          },
          "metadata": {
            "tags": []
          },
          "execution_count": 14
        }
      ]
    },
    {
      "cell_type": "code",
      "metadata": {
        "id": "dTqfLoQ3xOJl",
        "colab_type": "code",
        "colab": {},
        "outputId": "357e7d6a-60de-4430-f883-9ed09f36b0ae"
      },
      "source": [
        "planets.loc['MERCURY']"
      ],
      "execution_count": null,
      "outputs": [
        {
          "output_type": "execute_result",
          "data": {
            "text/plain": [
              "Mass           0.33\n",
              "Diameter       4879\n",
              "DayLength    4222.6\n",
              "Name: MERCURY, dtype: object"
            ]
          },
          "metadata": {
            "tags": []
          },
          "execution_count": 15
        }
      ]
    },
    {
      "cell_type": "code",
      "metadata": {
        "id": "MUPU03VxxOJn",
        "colab_type": "code",
        "colab": {},
        "outputId": "13e3d77c-95bf-436f-8054-aebcd5551770"
      },
      "source": [
        "planets.loc['MERCURY':'EARTH']"
      ],
      "execution_count": null,
      "outputs": [
        {
          "output_type": "execute_result",
          "data": {
            "text/html": [
              "<div>\n",
              "<style scoped>\n",
              "    .dataframe tbody tr th:only-of-type {\n",
              "        vertical-align: middle;\n",
              "    }\n",
              "\n",
              "    .dataframe tbody tr th {\n",
              "        vertical-align: top;\n",
              "    }\n",
              "\n",
              "    .dataframe thead th {\n",
              "        text-align: right;\n",
              "    }\n",
              "</style>\n",
              "<table border=\"1\" class=\"dataframe\">\n",
              "  <thead>\n",
              "    <tr style=\"text-align: right;\">\n",
              "      <th></th>\n",
              "      <th>Mass</th>\n",
              "      <th>Diameter</th>\n",
              "      <th>DayLength</th>\n",
              "    </tr>\n",
              "    <tr>\n",
              "      <th>Planet</th>\n",
              "      <th></th>\n",
              "      <th></th>\n",
              "      <th></th>\n",
              "    </tr>\n",
              "  </thead>\n",
              "  <tbody>\n",
              "    <tr>\n",
              "      <th>MERCURY</th>\n",
              "      <td>0.33</td>\n",
              "      <td>4879</td>\n",
              "      <td>4222.6</td>\n",
              "    </tr>\n",
              "    <tr>\n",
              "      <th>VENUS</th>\n",
              "      <td>4.87</td>\n",
              "      <td>12,104</td>\n",
              "      <td>2802.0</td>\n",
              "    </tr>\n",
              "    <tr>\n",
              "      <th>EARTH</th>\n",
              "      <td>5.97</td>\n",
              "      <td>12,756</td>\n",
              "      <td>24.0</td>\n",
              "    </tr>\n",
              "  </tbody>\n",
              "</table>\n",
              "</div>"
            ],
            "text/plain": [
              "         Mass Diameter  DayLength\n",
              "Planet                           \n",
              "MERCURY  0.33     4879     4222.6\n",
              "VENUS    4.87   12,104     2802.0\n",
              "EARTH    5.97   12,756       24.0"
            ]
          },
          "metadata": {
            "tags": []
          },
          "execution_count": 16
        }
      ]
    },
    {
      "cell_type": "code",
      "metadata": {
        "id": "tAaErLydxOJp",
        "colab_type": "code",
        "colab": {},
        "outputId": "e8a4082d-a337-4ac1-e909-ec670cecd8f6"
      },
      "source": [
        "planets.columns"
      ],
      "execution_count": null,
      "outputs": [
        {
          "output_type": "execute_result",
          "data": {
            "text/plain": [
              "Index(['Mass', 'Diameter', 'DayLength'], dtype='object')"
            ]
          },
          "metadata": {
            "tags": []
          },
          "execution_count": 17
        }
      ]
    },
    {
      "cell_type": "code",
      "metadata": {
        "id": "Os24_CL8xOJs",
        "colab_type": "code",
        "colab": {}
      },
      "source": [
        "planets = pd.read_csv('Planets.csv')"
      ],
      "execution_count": null,
      "outputs": []
    },
    {
      "cell_type": "code",
      "metadata": {
        "id": "fo9U2nJzxOJu",
        "colab_type": "code",
        "colab": {}
      },
      "source": [
        "planets.set_index('Planet',inplace=True)"
      ],
      "execution_count": null,
      "outputs": []
    },
    {
      "cell_type": "code",
      "metadata": {
        "id": "PiP_NjpdxOJw",
        "colab_type": "code",
        "colab": {},
        "outputId": "8bc3544f-d39b-48ef-a17b-0aeb3851ee10"
      },
      "source": [
        "planets.FirstVisited['MERCURY']"
      ],
      "execution_count": null,
      "outputs": [
        {
          "output_type": "execute_result",
          "data": {
            "text/plain": [
              "'1974-03-29'"
            ]
          },
          "metadata": {
            "tags": []
          },
          "execution_count": 20
        }
      ]
    },
    {
      "cell_type": "code",
      "metadata": {
        "id": "1wY0F2XZxOJz",
        "colab_type": "code",
        "colab": {},
        "outputId": "f88a9cf7-c8ee-4d47-be30-daf42a4947b2"
      },
      "source": [
        "planets.loc['MERCURY'].FirstVisited"
      ],
      "execution_count": null,
      "outputs": [
        {
          "output_type": "execute_result",
          "data": {
            "text/plain": [
              "'1974-03-29'"
            ]
          },
          "metadata": {
            "tags": []
          },
          "execution_count": 21
        }
      ]
    },
    {
      "cell_type": "code",
      "metadata": {
        "id": "hXzOWsYdxOJ2",
        "colab_type": "code",
        "colab": {},
        "outputId": "6a7d93c2-4da7-4b70-ae5f-59e327fb0934"
      },
      "source": [
        "planets.loc['MERCURY','FirstVisited']"
      ],
      "execution_count": null,
      "outputs": [
        {
          "output_type": "execute_result",
          "data": {
            "text/plain": [
              "'1974-03-29'"
            ]
          },
          "metadata": {
            "tags": []
          },
          "execution_count": 22
        }
      ]
    },
    {
      "cell_type": "code",
      "metadata": {
        "id": "PCmTarECxOJ5",
        "colab_type": "code",
        "colab": {},
        "outputId": "a783ab48-7b11-4aae-851b-a186e464b21a"
      },
      "source": [
        "type(planets.loc['MERCURY','FirstVisited'])"
      ],
      "execution_count": null,
      "outputs": [
        {
          "output_type": "execute_result",
          "data": {
            "text/plain": [
              "str"
            ]
          },
          "metadata": {
            "tags": []
          },
          "execution_count": 23
        }
      ]
    },
    {
      "cell_type": "code",
      "metadata": {
        "id": "8UqRPWZHxOJ7",
        "colab_type": "code",
        "colab": {},
        "outputId": "f1714a4c-b53c-4258-dfe9-70fb95f2cbce"
      },
      "source": [
        "pd.to_datetime(planets.FirstVisited)"
      ],
      "execution_count": null,
      "outputs": [
        {
          "output_type": "execute_result",
          "data": {
            "text/plain": [
              "Planet\n",
              "MERCURY   1974-03-29\n",
              "VENUS     1962-08-27\n",
              "EARTH            NaT\n",
              "MOON      1959-09-12\n",
              "MARS      1965-07-15\n",
              "JUPITER   1973-12-04\n",
              "SATURN    1979-09-01\n",
              "URANUS    1986-01-24\n",
              "NEPTUNE   1989-08-25\n",
              "PLUTO     2015-07-14\n",
              "Name: FirstVisited, dtype: datetime64[ns]"
            ]
          },
          "metadata": {
            "tags": []
          },
          "execution_count": 24
        }
      ]
    },
    {
      "cell_type": "code",
      "metadata": {
        "id": "pRFnYSE3xOJ9",
        "colab_type": "code",
        "colab": {}
      },
      "source": [
        "planets.FirstVisited = pd.to_datetime(planets.FirstVisited)"
      ],
      "execution_count": null,
      "outputs": []
    },
    {
      "cell_type": "code",
      "metadata": {
        "id": "0enMQqdqxOJ_",
        "colab_type": "code",
        "colab": {},
        "outputId": "6867ee09-632a-4cf7-96d6-ff3aad6d3752"
      },
      "source": [
        "planets.FirstVisited.dt.year"
      ],
      "execution_count": null,
      "outputs": [
        {
          "output_type": "execute_result",
          "data": {
            "text/plain": [
              "Planet\n",
              "MERCURY    1974.0\n",
              "VENUS      1962.0\n",
              "EARTH         NaN\n",
              "MOON       1959.0\n",
              "MARS       1965.0\n",
              "JUPITER    1973.0\n",
              "SATURN     1979.0\n",
              "URANUS     1986.0\n",
              "NEPTUNE    1989.0\n",
              "PLUTO      2015.0\n",
              "Name: FirstVisited, dtype: float64"
            ]
          },
          "metadata": {
            "tags": []
          },
          "execution_count": 26
        }
      ]
    },
    {
      "cell_type": "code",
      "metadata": {
        "id": "B6nYk9M4xOKC",
        "colab_type": "code",
        "colab": {},
        "outputId": "42096f22-bf4c-4a65-981e-ae930c082316"
      },
      "source": [
        "2018 - planets.FirstVisited.dt.year"
      ],
      "execution_count": null,
      "outputs": [
        {
          "output_type": "execute_result",
          "data": {
            "text/plain": [
              "Planet\n",
              "MERCURY    44.0\n",
              "VENUS      56.0\n",
              "EARTH       NaN\n",
              "MOON       59.0\n",
              "MARS       53.0\n",
              "JUPITER    45.0\n",
              "SATURN     39.0\n",
              "URANUS     32.0\n",
              "NEPTUNE    29.0\n",
              "PLUTO       3.0\n",
              "Name: FirstVisited, dtype: float64"
            ]
          },
          "metadata": {
            "tags": []
          },
          "execution_count": 27
        }
      ]
    },
    {
      "cell_type": "code",
      "metadata": {
        "id": "NCsTlt_ZxOKG",
        "colab_type": "code",
        "colab": {}
      },
      "source": [
        ""
      ],
      "execution_count": null,
      "outputs": []
    }
  ]
}