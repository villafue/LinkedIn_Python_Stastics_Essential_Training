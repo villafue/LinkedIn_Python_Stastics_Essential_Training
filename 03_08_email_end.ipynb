{
  "nbformat": 4,
  "nbformat_minor": 0,
  "metadata": {
    "kernelspec": {
      "display_name": "Python 3",
      "language": "python",
      "name": "python3"
    },
    "language_info": {
      "codemirror_mode": {
        "name": "ipython",
        "version": 3
      },
      "file_extension": ".py",
      "mimetype": "text/x-python",
      "name": "python",
      "nbconvert_exporter": "python",
      "pygments_lexer": "ipython3",
      "version": "3.6.4"
    },
    "toc": {
      "base_numbering": 1,
      "nav_menu": {},
      "number_sections": true,
      "sideBar": true,
      "skip_h1_title": false,
      "title_cell": "Table of Contents",
      "title_sidebar": "Contents",
      "toc_cell": false,
      "toc_position": {},
      "toc_section_display": true,
      "toc_window_display": false
    },
    "colab": {
      "name": "03_08_email_end.ipynb",
      "provenance": [],
      "toc_visible": true,
      "include_colab_link": true
    }
  },
  "cells": [
    {
      "cell_type": "markdown",
      "metadata": {
        "id": "view-in-github",
        "colab_type": "text"
      },
      "source": [
        "<a href=\"https://colab.research.google.com/github/villafue/LinkedIn_Python_Stastics_Essential_Training/blob/master/03_08_email_end.ipynb\" target=\"_parent\"><img src=\"https://colab.research.google.com/assets/colab-badge.svg\" alt=\"Open In Colab\"/></a>"
      ]
    },
    {
      "cell_type": "markdown",
      "metadata": {
        "id": "7hgxOSBBkowe",
        "colab_type": "text"
      },
      "source": [
        "## Python statistics essential training - 03_08_email"
      ]
    },
    {
      "cell_type": "markdown",
      "metadata": {
        "id": "msNU7OHVkowg",
        "colab_type": "text"
      },
      "source": [
        "Standard imports"
      ]
    },
    {
      "cell_type": "code",
      "metadata": {
        "id": "E6gZjZIQkowh",
        "colab_type": "code",
        "colab": {}
      },
      "source": [
        "import numpy as np\n",
        "import scipy.stats\n",
        "import pandas as pd\n",
        "import os"
      ],
      "execution_count": 41,
      "outputs": []
    },
    {
      "cell_type": "code",
      "metadata": {
        "id": "A5G0ETMOkw1i",
        "colab_type": "code",
        "colab": {}
      },
      "source": [
        "os.chdir('sample_data')"
      ],
      "execution_count": 2,
      "outputs": []
    },
    {
      "cell_type": "code",
      "metadata": {
        "id": "KX1zFcEPkowm",
        "colab_type": "code",
        "colab": {}
      },
      "source": [
        "import matplotlib\n",
        "import matplotlib.pyplot as plt\n",
        "\n",
        "import pandas.plotting\n",
        "\n",
        "from IPython import display\n",
        "from ipywidgets import interact, widgets\n",
        "\n",
        "%matplotlib inline"
      ],
      "execution_count": 40,
      "outputs": []
    },
    {
      "cell_type": "code",
      "metadata": {
        "id": "AmBZzKlbkowp",
        "colab_type": "code",
        "colab": {}
      },
      "source": [
        "import re\n",
        "import mailbox\n",
        "import csv"
      ],
      "execution_count": 4,
      "outputs": []
    },
    {
      "cell_type": "markdown",
      "metadata": {
        "id": "Ju7SKpxikows",
        "colab_type": "text"
      },
      "source": [
        "### How I converted my mailbox."
      ]
    },
    {
      "cell_type": "code",
      "metadata": {
        "id": "UEXGceWwkowt",
        "colab_type": "code",
        "colab": {}
      },
      "source": [
        "mbox = mailbox.mbox('Sent.mbox')\n",
        "mbox = mailbox.mbox('Sent.mbox')"
      ],
      "execution_count": 6,
      "outputs": []
    },
    {
      "cell_type": "markdown",
      "metadata": {
        "id": "FNiW2yGwkowx",
        "colab_type": "text"
      },
      "source": [
        "The resulting object is array-like, with one entry per message. Each entry is dictionary like, with keys corresponding to metadata and data for each message."
      ]
    },
    {
      "cell_type": "code",
      "metadata": {
        "id": "S7hEoE63kowx",
        "colab_type": "code",
        "colab": {
          "base_uri": "https://localhost:8080/",
          "height": 421
        },
        "outputId": "d3a61f2f-7539-48d1-ea99-fb36a66a7d9d"
      },
      "source": [
        "mbox[0].keys()"
      ],
      "execution_count": 7,
      "outputs": [
        {
          "output_type": "error",
          "ename": "KeyError",
          "evalue": "ignored",
          "traceback": [
            "\u001b[0;31m---------------------------------------------------------------------------\u001b[0m",
            "\u001b[0;31mKeyError\u001b[0m                                  Traceback (most recent call last)",
            "\u001b[0;32m/usr/lib/python3.6/mailbox.py\u001b[0m in \u001b[0;36m_lookup\u001b[0;34m(self, key)\u001b[0m\n\u001b[1;32m    741\u001b[0m             \u001b[0;32mtry\u001b[0m\u001b[0;34m:\u001b[0m\u001b[0;34m\u001b[0m\u001b[0;34m\u001b[0m\u001b[0m\n\u001b[0;32m--> 742\u001b[0;31m                 \u001b[0;32mreturn\u001b[0m \u001b[0mself\u001b[0m\u001b[0;34m.\u001b[0m\u001b[0m_toc\u001b[0m\u001b[0;34m[\u001b[0m\u001b[0mkey\u001b[0m\u001b[0;34m]\u001b[0m\u001b[0;34m\u001b[0m\u001b[0;34m\u001b[0m\u001b[0m\n\u001b[0m\u001b[1;32m    743\u001b[0m             \u001b[0;32mexcept\u001b[0m \u001b[0mKeyError\u001b[0m\u001b[0;34m:\u001b[0m\u001b[0;34m\u001b[0m\u001b[0;34m\u001b[0m\u001b[0m\n",
            "\u001b[0;31mKeyError\u001b[0m: 0",
            "\nDuring handling of the above exception, another exception occurred:\n",
            "\u001b[0;31mKeyError\u001b[0m                                  Traceback (most recent call last)",
            "\u001b[0;32m<ipython-input-7-d8cea1e457f4>\u001b[0m in \u001b[0;36m<module>\u001b[0;34m()\u001b[0m\n\u001b[0;32m----> 1\u001b[0;31m \u001b[0mmbox\u001b[0m\u001b[0;34m[\u001b[0m\u001b[0;36m0\u001b[0m\u001b[0;34m]\u001b[0m\u001b[0;34m.\u001b[0m\u001b[0mkeys\u001b[0m\u001b[0;34m(\u001b[0m\u001b[0;34m)\u001b[0m\u001b[0;34m\u001b[0m\u001b[0;34m\u001b[0m\u001b[0m\n\u001b[0m",
            "\u001b[0;32m/usr/lib/python3.6/mailbox.py\u001b[0m in \u001b[0;36m__getitem__\u001b[0;34m(self, key)\u001b[0m\n\u001b[1;32m     71\u001b[0m         \u001b[0;34m\"\"\"Return the keyed message; raise KeyError if it doesn't exist.\"\"\"\u001b[0m\u001b[0;34m\u001b[0m\u001b[0;34m\u001b[0m\u001b[0m\n\u001b[1;32m     72\u001b[0m         \u001b[0;32mif\u001b[0m \u001b[0;32mnot\u001b[0m \u001b[0mself\u001b[0m\u001b[0;34m.\u001b[0m\u001b[0m_factory\u001b[0m\u001b[0;34m:\u001b[0m\u001b[0;34m\u001b[0m\u001b[0;34m\u001b[0m\u001b[0m\n\u001b[0;32m---> 73\u001b[0;31m             \u001b[0;32mreturn\u001b[0m \u001b[0mself\u001b[0m\u001b[0;34m.\u001b[0m\u001b[0mget_message\u001b[0m\u001b[0;34m(\u001b[0m\u001b[0mkey\u001b[0m\u001b[0;34m)\u001b[0m\u001b[0;34m\u001b[0m\u001b[0;34m\u001b[0m\u001b[0m\n\u001b[0m\u001b[1;32m     74\u001b[0m         \u001b[0;32melse\u001b[0m\u001b[0;34m:\u001b[0m\u001b[0;34m\u001b[0m\u001b[0;34m\u001b[0m\u001b[0m\n\u001b[1;32m     75\u001b[0m             \u001b[0;32mwith\u001b[0m \u001b[0mcontextlib\u001b[0m\u001b[0;34m.\u001b[0m\u001b[0mclosing\u001b[0m\u001b[0;34m(\u001b[0m\u001b[0mself\u001b[0m\u001b[0;34m.\u001b[0m\u001b[0mget_file\u001b[0m\u001b[0;34m(\u001b[0m\u001b[0mkey\u001b[0m\u001b[0;34m)\u001b[0m\u001b[0;34m)\u001b[0m \u001b[0;32mas\u001b[0m \u001b[0mfile\u001b[0m\u001b[0;34m:\u001b[0m\u001b[0;34m\u001b[0m\u001b[0;34m\u001b[0m\u001b[0m\n",
            "\u001b[0;32m/usr/lib/python3.6/mailbox.py\u001b[0m in \u001b[0;36mget_message\u001b[0;34m(self, key)\u001b[0m\n\u001b[1;32m    774\u001b[0m     \u001b[0;32mdef\u001b[0m \u001b[0mget_message\u001b[0m\u001b[0;34m(\u001b[0m\u001b[0mself\u001b[0m\u001b[0;34m,\u001b[0m \u001b[0mkey\u001b[0m\u001b[0;34m)\u001b[0m\u001b[0;34m:\u001b[0m\u001b[0;34m\u001b[0m\u001b[0;34m\u001b[0m\u001b[0m\n\u001b[1;32m    775\u001b[0m         \u001b[0;34m\"\"\"Return a Message representation or raise a KeyError.\"\"\"\u001b[0m\u001b[0;34m\u001b[0m\u001b[0;34m\u001b[0m\u001b[0m\n\u001b[0;32m--> 776\u001b[0;31m         \u001b[0mstart\u001b[0m\u001b[0;34m,\u001b[0m \u001b[0mstop\u001b[0m \u001b[0;34m=\u001b[0m \u001b[0mself\u001b[0m\u001b[0;34m.\u001b[0m\u001b[0m_lookup\u001b[0m\u001b[0;34m(\u001b[0m\u001b[0mkey\u001b[0m\u001b[0;34m)\u001b[0m\u001b[0;34m\u001b[0m\u001b[0;34m\u001b[0m\u001b[0m\n\u001b[0m\u001b[1;32m    777\u001b[0m         \u001b[0mself\u001b[0m\u001b[0;34m.\u001b[0m\u001b[0m_file\u001b[0m\u001b[0;34m.\u001b[0m\u001b[0mseek\u001b[0m\u001b[0;34m(\u001b[0m\u001b[0mstart\u001b[0m\u001b[0;34m)\u001b[0m\u001b[0;34m\u001b[0m\u001b[0;34m\u001b[0m\u001b[0m\n\u001b[1;32m    778\u001b[0m         \u001b[0mfrom_line\u001b[0m \u001b[0;34m=\u001b[0m \u001b[0mself\u001b[0m\u001b[0;34m.\u001b[0m\u001b[0m_file\u001b[0m\u001b[0;34m.\u001b[0m\u001b[0mreadline\u001b[0m\u001b[0;34m(\u001b[0m\u001b[0;34m)\u001b[0m\u001b[0;34m.\u001b[0m\u001b[0mreplace\u001b[0m\u001b[0;34m(\u001b[0m\u001b[0mlinesep\u001b[0m\u001b[0;34m,\u001b[0m \u001b[0;34mb''\u001b[0m\u001b[0;34m)\u001b[0m\u001b[0;34m\u001b[0m\u001b[0;34m\u001b[0m\u001b[0m\n",
            "\u001b[0;32m/usr/lib/python3.6/mailbox.py\u001b[0m in \u001b[0;36m_lookup\u001b[0;34m(self, key)\u001b[0m\n\u001b[1;32m    742\u001b[0m                 \u001b[0;32mreturn\u001b[0m \u001b[0mself\u001b[0m\u001b[0;34m.\u001b[0m\u001b[0m_toc\u001b[0m\u001b[0;34m[\u001b[0m\u001b[0mkey\u001b[0m\u001b[0;34m]\u001b[0m\u001b[0;34m\u001b[0m\u001b[0;34m\u001b[0m\u001b[0m\n\u001b[1;32m    743\u001b[0m             \u001b[0;32mexcept\u001b[0m \u001b[0mKeyError\u001b[0m\u001b[0;34m:\u001b[0m\u001b[0;34m\u001b[0m\u001b[0;34m\u001b[0m\u001b[0m\n\u001b[0;32m--> 744\u001b[0;31m                 \u001b[0;32mraise\u001b[0m \u001b[0mKeyError\u001b[0m\u001b[0;34m(\u001b[0m\u001b[0;34m'No message with key: %s'\u001b[0m \u001b[0;34m%\u001b[0m \u001b[0mkey\u001b[0m\u001b[0;34m)\u001b[0m\u001b[0;34m\u001b[0m\u001b[0;34m\u001b[0m\u001b[0m\n\u001b[0m\u001b[1;32m    745\u001b[0m \u001b[0;34m\u001b[0m\u001b[0m\n\u001b[1;32m    746\u001b[0m     \u001b[0;32mdef\u001b[0m \u001b[0m_append_message\u001b[0m\u001b[0;34m(\u001b[0m\u001b[0mself\u001b[0m\u001b[0;34m,\u001b[0m \u001b[0mmessage\u001b[0m\u001b[0;34m)\u001b[0m\u001b[0;34m:\u001b[0m\u001b[0;34m\u001b[0m\u001b[0;34m\u001b[0m\u001b[0m\n",
            "\u001b[0;31mKeyError\u001b[0m: 'No message with key: 0'"
          ]
        }
      ]
    },
    {
      "cell_type": "markdown",
      "metadata": {
        "id": "6QZ_Vyl1kow1",
        "colab_type": "text"
      },
      "source": [
        "The easiest way to get these data into Pandas is to build a CSV file from them. We use the module `csv` to write out the CSV file as we loop over the mailbox object. We save only subject, from, to, and date, and we write a simple header at the top with the names of columns."
      ]
    },
    {
      "cell_type": "code",
      "metadata": {
        "id": "l8FLmbthkow1",
        "colab_type": "code",
        "colab": {}
      },
      "source": [
        "with open('mbox.csv', 'w') as outfile:\n",
        "    writer = csv.writer(outfile)\n",
        "    writer.writerow(['subject','from','to','date'])\n",
        "    \n",
        "    for message in mbox:\n",
        "        writer.writerow([message['subject'], message['from'], message['to'], message['date']])"
      ],
      "execution_count": 9,
      "outputs": []
    },
    {
      "cell_type": "markdown",
      "metadata": {
        "id": "afyC3c1jkow5",
        "colab_type": "text"
      },
      "source": [
        "All done! Thanks to Justin Ellis for inspiration with https://jellis18.github.io/post/2018-01-17-mail-analysis."
      ]
    },
    {
      "cell_type": "markdown",
      "metadata": {
        "id": "wQpT0DcKkow8",
        "colab_type": "text"
      },
      "source": [
        "## Moving on!"
      ]
    },
    {
      "cell_type": "code",
      "metadata": {
        "id": "TockqFdmkow9",
        "colab_type": "code",
        "colab": {}
      },
      "source": [
        "messages = pd.read_csv('mbox-anonymized.csv')"
      ],
      "execution_count": 11,
      "outputs": []
    },
    {
      "cell_type": "code",
      "metadata": {
        "id": "FUAsX45OkoxC",
        "colab_type": "code",
        "colab": {
          "base_uri": "https://localhost:8080/",
          "height": 202
        },
        "outputId": "ef2c3217-cee4-4d5d-bb13-d7f52042ddea"
      },
      "source": [
        "messages.info()"
      ],
      "execution_count": 12,
      "outputs": [
        {
          "output_type": "stream",
          "text": [
            "<class 'pandas.core.frame.DataFrame'>\n",
            "RangeIndex: 1030 entries, 0 to 1029\n",
            "Data columns (total 4 columns):\n",
            " #   Column   Non-Null Count  Dtype \n",
            "---  ------   --------------  ----- \n",
            " 0   subject  1030 non-null   object\n",
            " 1   from     1029 non-null   object\n",
            " 2   to       1030 non-null   object\n",
            " 3   date     1030 non-null   object\n",
            "dtypes: object(4)\n",
            "memory usage: 32.3+ KB\n"
          ],
          "name": "stdout"
        }
      ]
    },
    {
      "cell_type": "code",
      "metadata": {
        "id": "_t1K-oK3koxH",
        "colab_type": "code",
        "colab": {
          "base_uri": "https://localhost:8080/",
          "height": 279
        },
        "outputId": "1e79c60b-ce0f-4106-a29b-4927563e9413"
      },
      "source": [
        "messages.head()"
      ],
      "execution_count": 13,
      "outputs": [
        {
          "output_type": "execute_result",
          "data": {
            "text/html": [
              "<div>\n",
              "<style scoped>\n",
              "    .dataframe tbody tr th:only-of-type {\n",
              "        vertical-align: middle;\n",
              "    }\n",
              "\n",
              "    .dataframe tbody tr th {\n",
              "        vertical-align: top;\n",
              "    }\n",
              "\n",
              "    .dataframe thead th {\n",
              "        text-align: right;\n",
              "    }\n",
              "</style>\n",
              "<table border=\"1\" class=\"dataframe\">\n",
              "  <thead>\n",
              "    <tr style=\"text-align: right;\">\n",
              "      <th></th>\n",
              "      <th>subject</th>\n",
              "      <th>from</th>\n",
              "      <th>to</th>\n",
              "      <th>date</th>\n",
              "    </tr>\n",
              "  </thead>\n",
              "  <tbody>\n",
              "    <tr>\n",
              "      <th>0</th>\n",
              "      <td>Why control quickly exactly capital.</td>\n",
              "      <td>\"Vallisneri, Michele (335S)\" &lt;Michele.Vallisne...</td>\n",
              "      <td>\"Trevor Charles\" &lt;zrodriguez@hotmail.com&gt;</td>\n",
              "      <td>Mon, 27 Nov 2017 14:18:46 -0800</td>\n",
              "    </tr>\n",
              "    <tr>\n",
              "      <th>1</th>\n",
              "      <td>Work evidence from really threat sign store see.</td>\n",
              "      <td>Michele Vallisneri &lt;Michele.Vallisneri@jpl.nas...</td>\n",
              "      <td>\"Heather Hernandez\" &lt;patriciagarcia@garcia-car...</td>\n",
              "      <td>Mon, 26 Mar 2018 18:38:16 -0700</td>\n",
              "    </tr>\n",
              "    <tr>\n",
              "      <th>2</th>\n",
              "      <td>Lot where answer the law person.</td>\n",
              "      <td>\"Vallisneri, Michele (335S)\" &lt;michele.vallisne...</td>\n",
              "      <td>Bryce Dudley &lt;hailey63@frazier.com&gt;</td>\n",
              "      <td>Tue, 13 Feb 2018 22:54:50 +0000</td>\n",
              "    </tr>\n",
              "    <tr>\n",
              "      <th>3</th>\n",
              "      <td>Difference hotel yard.</td>\n",
              "      <td>\"Vallisneri, Michele (335S)\" &lt;Michele.Vallisne...</td>\n",
              "      <td>Kathryn Mathis &lt;josephrebecca@grimes.com&gt;</td>\n",
              "      <td>Fri, 26 Jan 2018 11:40:04 -0800</td>\n",
              "    </tr>\n",
              "    <tr>\n",
              "      <th>4</th>\n",
              "      <td>Long level mission energy candidate.</td>\n",
              "      <td>\"Vallisneri, Michele (335S)\" &lt;michele.vallisne...</td>\n",
              "      <td>\"Angela Mendoza\" &lt;rkhan@yahoo.com&gt;</td>\n",
              "      <td>Tue, 31 Oct 2017 00:13:00 +0000</td>\n",
              "    </tr>\n",
              "  </tbody>\n",
              "</table>\n",
              "</div>"
            ],
            "text/plain": [
              "                                            subject  ...                             date\n",
              "0              Why control quickly exactly capital.  ...  Mon, 27 Nov 2017 14:18:46 -0800\n",
              "1  Work evidence from really threat sign store see.  ...  Mon, 26 Mar 2018 18:38:16 -0700\n",
              "2                  Lot where answer the law person.  ...  Tue, 13 Feb 2018 22:54:50 +0000\n",
              "3                            Difference hotel yard.  ...  Fri, 26 Jan 2018 11:40:04 -0800\n",
              "4              Long level mission energy candidate.  ...  Tue, 31 Oct 2017 00:13:00 +0000\n",
              "\n",
              "[5 rows x 4 columns]"
            ]
          },
          "metadata": {
            "tags": []
          },
          "execution_count": 13
        }
      ]
    },
    {
      "cell_type": "code",
      "metadata": {
        "id": "PYSKrNF9koxJ",
        "colab_type": "code",
        "colab": {
          "base_uri": "https://localhost:8080/",
          "height": 35
        },
        "outputId": "84ab40d0-ec46-48e1-84e1-36dead103f64"
      },
      "source": [
        "# first row from 'from' column\n",
        "messages['from'][0]\n",
        "messages['from'][0]"
      ],
      "execution_count": 14,
      "outputs": [
        {
          "output_type": "execute_result",
          "data": {
            "application/vnd.google.colaboratory.intrinsic": {
              "type": "string"
            },
            "text/plain": [
              "'\"Vallisneri, Michele (335S)\" <Michele.Vallisneri@jpl.nasa.gov>'"
            ]
          },
          "metadata": {
            "tags": []
          },
          "execution_count": 14
        }
      ]
    },
    {
      "cell_type": "code",
      "metadata": {
        "id": "a18WwgiikoxN",
        "colab_type": "code",
        "colab": {
          "base_uri": "https://localhost:8080/",
          "height": 34
        },
        "outputId": "7a5a5f57-6b12-4fdf-817a-936f9de655ab"
      },
      "source": [
        "re.search('<(.+)>',messages['from'][0])\n",
        "re.search('<(.+)>',messages['from'][0])"
      ],
      "execution_count": 16,
      "outputs": [
        {
          "output_type": "execute_result",
          "data": {
            "text/plain": [
              "<_sre.SRE_Match object; span=(29, 62), match='<Michele.Vallisneri@jpl.nasa.gov>'>"
            ]
          },
          "metadata": {
            "tags": []
          },
          "execution_count": 16
        }
      ]
    },
    {
      "cell_type": "code",
      "metadata": {
        "id": "cdE5Vn6TkoxR",
        "colab_type": "code",
        "colab": {
          "base_uri": "https://localhost:8080/",
          "height": 35
        },
        "outputId": "2203281a-e074-4b6b-b22c-bee70742adff"
      },
      "source": [
        "# '.' matches any character and the '+' matches one or more of what came before it. need to learn more about regular expression\n",
        "# essentially, every character before the '.' is getting matched in the email address.\n",
        "# group 0 contains the entire matched expression\n",
        "re.search('<(.+)>',messages['from'][0]).group(0)"
      ],
      "execution_count": 17,
      "outputs": [
        {
          "output_type": "execute_result",
          "data": {
            "application/vnd.google.colaboratory.intrinsic": {
              "type": "string"
            },
            "text/plain": [
              "'<Michele.Vallisneri@jpl.nasa.gov>'"
            ]
          },
          "metadata": {
            "tags": []
          },
          "execution_count": 17
        }
      ]
    },
    {
      "cell_type": "code",
      "metadata": {
        "id": "Q_NCtrcXkoxT",
        "colab_type": "code",
        "colab": {},
        "outputId": "47ee7ed5-b938-4b16-b2e0-510baec1fd53"
      },
      "source": [
        "re.search('<(.+)>',messages['from'][0]).group(1)\n",
        "# group(1) just matches everything inside the <>"
      ],
      "execution_count": null,
      "outputs": [
        {
          "output_type": "execute_result",
          "data": {
            "text/plain": [
              "'Michele.Vallisneri@jpl.nasa.gov'"
            ]
          },
          "metadata": {
            "tags": []
          },
          "execution_count": 11
        }
      ]
    },
    {
      "cell_type": "code",
      "metadata": {
        "id": "SrHv1aZDkoxV",
        "colab_type": "code",
        "colab": {
          "base_uri": "https://localhost:8080/",
          "height": 128
        },
        "outputId": "a8328fc0-8cf9-4f33-f178-9a6e046f3a01"
      },
      "source": [
        "# won't work. need to write a stupid function as below\n",
        "re.search('<(.+)>','Michele.Vallisneri@jpl.nasa.gov'.group(1)"
      ],
      "execution_count": 19,
      "outputs": [
        {
          "output_type": "error",
          "ename": "SyntaxError",
          "evalue": "ignored",
          "traceback": [
            "\u001b[0;36m  File \u001b[0;32m\"<ipython-input-19-62d8c097ce6c>\"\u001b[0;36m, line \u001b[0;32m1\u001b[0m\n\u001b[0;31m    re.search('<(.+)>','Michele.Vallisneri@jpl.nasa.gov'.group(1)\u001b[0m\n\u001b[0m                                                                 ^\u001b[0m\n\u001b[0;31mSyntaxError\u001b[0m\u001b[0;31m:\u001b[0m unexpected EOF while parsing\n"
          ]
        }
      ]
    },
    {
      "cell_type": "code",
      "metadata": {
        "id": "BNYoHkfCzijk",
        "colab_type": "code",
        "colab": {}
      },
      "source": [
        "def clean_address(raw):\n",
        "    match = re.search('<(.+)>',raw)\n",
        "\n",
        "    if match is None:\n",
        "        return raw\n",
        "    else:\n",
        "        return match.group(1)\n",
        "\n",
        "# essentially, the same as above. \"raw\" is the email. if no match, return email.\n",
        "# if match, return the email address"
      ],
      "execution_count": 22,
      "outputs": []
    },
    {
      "cell_type": "code",
      "metadata": {
        "id": "ZwNoKz2qkoxY",
        "colab_type": "code",
        "colab": {}
      },
      "source": [
        "def clean_address(raw):\n",
        "    match = re.search('<(.+)>',raw)\n",
        "    \n",
        "    if match is None:\n",
        "        return raw\n",
        "    else:\n",
        "        return match.group(1)"
      ],
      "execution_count": null,
      "outputs": []
    },
    {
      "cell_type": "code",
      "metadata": {
        "id": "fLBYOprvkoxa",
        "colab_type": "code",
        "colab": {
          "base_uri": "https://localhost:8080/",
          "height": 35
        },
        "outputId": "83863e37-3419-42b2-88c1-a8eae9a34181"
      },
      "source": [
        "#clean_address is the function as written above\n",
        "clean_address(messages['from'][0])"
      ],
      "execution_count": 23,
      "outputs": [
        {
          "output_type": "execute_result",
          "data": {
            "application/vnd.google.colaboratory.intrinsic": {
              "type": "string"
            },
            "text/plain": [
              "'Michele.Vallisneri@jpl.nasa.gov'"
            ]
          },
          "metadata": {
            "tags": []
          },
          "execution_count": 23
        }
      ]
    },
    {
      "cell_type": "code",
      "metadata": {
        "id": "EmWfdhz2koxd",
        "colab_type": "code",
        "colab": {},
        "outputId": "1c444514-38a4-4620-fac2-3937c818056a"
      },
      "source": [
        "# this stupid thing returns an error but I don't know why \n",
        "messages['from'] = messages['from'].apply(clean_address)"
      ],
      "execution_count": null,
      "outputs": [
        {
          "output_type": "error",
          "ename": "TypeError",
          "evalue": "expected string or bytes-like object",
          "traceback": [
            "\u001b[0;31m---------------------------------------------------------------------------\u001b[0m",
            "\u001b[0;31mTypeError\u001b[0m                                 Traceback (most recent call last)",
            "\u001b[0;32m<ipython-input-15-0c3745689983>\u001b[0m in \u001b[0;36m<module>\u001b[0;34m()\u001b[0m\n\u001b[0;32m----> 1\u001b[0;31m \u001b[0mmessages\u001b[0m\u001b[0;34m[\u001b[0m\u001b[0;34m'from'\u001b[0m\u001b[0;34m]\u001b[0m \u001b[0;34m=\u001b[0m \u001b[0mmessages\u001b[0m\u001b[0;34m[\u001b[0m\u001b[0;34m'from'\u001b[0m\u001b[0;34m]\u001b[0m\u001b[0;34m.\u001b[0m\u001b[0mapply\u001b[0m\u001b[0;34m(\u001b[0m\u001b[0mclean_address\u001b[0m\u001b[0;34m)\u001b[0m\u001b[0;34m\u001b[0m\u001b[0m\n\u001b[0m",
            "\u001b[0;32m/anaconda3/lib/python3.6/site-packages/pandas/core/series.py\u001b[0m in \u001b[0;36mapply\u001b[0;34m(self, func, convert_dtype, args, **kwds)\u001b[0m\n\u001b[1;32m   2549\u001b[0m             \u001b[0;32melse\u001b[0m\u001b[0;34m:\u001b[0m\u001b[0;34m\u001b[0m\u001b[0m\n\u001b[1;32m   2550\u001b[0m                 \u001b[0mvalues\u001b[0m \u001b[0;34m=\u001b[0m \u001b[0mself\u001b[0m\u001b[0;34m.\u001b[0m\u001b[0masobject\u001b[0m\u001b[0;34m\u001b[0m\u001b[0m\n\u001b[0;32m-> 2551\u001b[0;31m                 \u001b[0mmapped\u001b[0m \u001b[0;34m=\u001b[0m \u001b[0mlib\u001b[0m\u001b[0;34m.\u001b[0m\u001b[0mmap_infer\u001b[0m\u001b[0;34m(\u001b[0m\u001b[0mvalues\u001b[0m\u001b[0;34m,\u001b[0m \u001b[0mf\u001b[0m\u001b[0;34m,\u001b[0m \u001b[0mconvert\u001b[0m\u001b[0;34m=\u001b[0m\u001b[0mconvert_dtype\u001b[0m\u001b[0;34m)\u001b[0m\u001b[0;34m\u001b[0m\u001b[0m\n\u001b[0m\u001b[1;32m   2552\u001b[0m \u001b[0;34m\u001b[0m\u001b[0m\n\u001b[1;32m   2553\u001b[0m         \u001b[0;32mif\u001b[0m \u001b[0mlen\u001b[0m\u001b[0;34m(\u001b[0m\u001b[0mmapped\u001b[0m\u001b[0;34m)\u001b[0m \u001b[0;32mand\u001b[0m \u001b[0misinstance\u001b[0m\u001b[0;34m(\u001b[0m\u001b[0mmapped\u001b[0m\u001b[0;34m[\u001b[0m\u001b[0;36m0\u001b[0m\u001b[0;34m]\u001b[0m\u001b[0;34m,\u001b[0m \u001b[0mSeries\u001b[0m\u001b[0;34m)\u001b[0m\u001b[0;34m:\u001b[0m\u001b[0;34m\u001b[0m\u001b[0m\n",
            "\u001b[0;32mpandas/_libs/src/inference.pyx\u001b[0m in \u001b[0;36mpandas._libs.lib.map_infer\u001b[0;34m()\u001b[0m\n",
            "\u001b[0;32m<ipython-input-13-90e4d68109af>\u001b[0m in \u001b[0;36mclean_address\u001b[0;34m(raw)\u001b[0m\n\u001b[1;32m      1\u001b[0m \u001b[0;32mdef\u001b[0m \u001b[0mclean_address\u001b[0m\u001b[0;34m(\u001b[0m\u001b[0mraw\u001b[0m\u001b[0;34m)\u001b[0m\u001b[0;34m:\u001b[0m\u001b[0;34m\u001b[0m\u001b[0m\n\u001b[0;32m----> 2\u001b[0;31m     \u001b[0mmatch\u001b[0m \u001b[0;34m=\u001b[0m \u001b[0mre\u001b[0m\u001b[0;34m.\u001b[0m\u001b[0msearch\u001b[0m\u001b[0;34m(\u001b[0m\u001b[0;34m'<(.+)>'\u001b[0m\u001b[0;34m,\u001b[0m\u001b[0mraw\u001b[0m\u001b[0;34m)\u001b[0m\u001b[0;34m\u001b[0m\u001b[0m\n\u001b[0m\u001b[1;32m      3\u001b[0m \u001b[0;34m\u001b[0m\u001b[0m\n\u001b[1;32m      4\u001b[0m     \u001b[0;32mif\u001b[0m \u001b[0mmatch\u001b[0m \u001b[0;32mis\u001b[0m \u001b[0;32mNone\u001b[0m\u001b[0;34m:\u001b[0m\u001b[0;34m\u001b[0m\u001b[0m\n\u001b[1;32m      5\u001b[0m         \u001b[0;32mreturn\u001b[0m \u001b[0mraw\u001b[0m\u001b[0;34m\u001b[0m\u001b[0m\n",
            "\u001b[0;32m/anaconda3/lib/python3.6/re.py\u001b[0m in \u001b[0;36msearch\u001b[0;34m(pattern, string, flags)\u001b[0m\n\u001b[1;32m    180\u001b[0m     \"\"\"Scan through string looking for a match to the pattern, returning\n\u001b[1;32m    181\u001b[0m     a match object, or None if no match was found.\"\"\"\n\u001b[0;32m--> 182\u001b[0;31m     \u001b[0;32mreturn\u001b[0m \u001b[0m_compile\u001b[0m\u001b[0;34m(\u001b[0m\u001b[0mpattern\u001b[0m\u001b[0;34m,\u001b[0m \u001b[0mflags\u001b[0m\u001b[0;34m)\u001b[0m\u001b[0;34m.\u001b[0m\u001b[0msearch\u001b[0m\u001b[0;34m(\u001b[0m\u001b[0mstring\u001b[0m\u001b[0;34m)\u001b[0m\u001b[0;34m\u001b[0m\u001b[0m\n\u001b[0m\u001b[1;32m    183\u001b[0m \u001b[0;34m\u001b[0m\u001b[0m\n\u001b[1;32m    184\u001b[0m \u001b[0;32mdef\u001b[0m \u001b[0msub\u001b[0m\u001b[0;34m(\u001b[0m\u001b[0mpattern\u001b[0m\u001b[0;34m,\u001b[0m \u001b[0mrepl\u001b[0m\u001b[0;34m,\u001b[0m \u001b[0mstring\u001b[0m\u001b[0;34m,\u001b[0m \u001b[0mcount\u001b[0m\u001b[0;34m=\u001b[0m\u001b[0;36m0\u001b[0m\u001b[0;34m,\u001b[0m \u001b[0mflags\u001b[0m\u001b[0;34m=\u001b[0m\u001b[0;36m0\u001b[0m\u001b[0;34m)\u001b[0m\u001b[0;34m:\u001b[0m\u001b[0;34m\u001b[0m\u001b[0m\n",
            "\u001b[0;31mTypeError\u001b[0m: expected string or bytes-like object"
          ]
        }
      ]
    },
    {
      "cell_type": "code",
      "metadata": {
        "id": "ekZEZsBokoxh",
        "colab_type": "code",
        "colab": {
          "base_uri": "https://localhost:8080/",
          "height": 252
        },
        "outputId": "bba538a2-8f96-4f97-da59-1211c6c0edbe"
      },
      "source": [
        "# we have to debug to figure out why\n",
        "%debug\n",
        "# 1st time debugging. had user input. I typed \"up\" to see the issue\n",
        "# I \"print(raw)\" because that was the error. I was supposed to get nan\n",
        "# error, but instead it said it was a NameError. um, no idea."
      ],
      "execution_count": 24,
      "outputs": [
        {
          "output_type": "stream",
          "text": [
            "> \u001b[0;32m<ipython-input-20-f93f2c783598>\u001b[0m(7)\u001b[0;36mclean_address\u001b[0;34m()\u001b[0m\n",
            "\u001b[0;32m      5 \u001b[0;31m        \u001b[0;32mreturn\u001b[0m \u001b[0mraw\u001b[0m\u001b[0;34m\u001b[0m\u001b[0;34m\u001b[0m\u001b[0m\n",
            "\u001b[0m\u001b[0;32m      6 \u001b[0;31m    \u001b[0;32melse\u001b[0m\u001b[0;34m:\u001b[0m\u001b[0;34m\u001b[0m\u001b[0;34m\u001b[0m\u001b[0m\n",
            "\u001b[0m\u001b[0;32m----> 7 \u001b[0;31m        \u001b[0;32mreturn\u001b[0m \u001b[0mmatch\u001b[0m\u001b[0;34m.\u001b[0m\u001b[0mgroup\u001b[0m\u001b[0;34m(\u001b[0m\u001b[0;36m1\u001b[0m\u001b[0;34m)\u001b[0m\u001b[0;34m\u001b[0m\u001b[0;34m\u001b[0m\u001b[0m\n",
            "\u001b[0m\u001b[0;32m      8 \u001b[0;31m\u001b[0;34m\u001b[0m\u001b[0m\n",
            "\u001b[0m\u001b[0;32m      9 \u001b[0;31m\u001b[0;31m# essentially, the same as above. \"raw\" is the email. if no match, return email.\u001b[0m\u001b[0;34m\u001b[0m\u001b[0;34m\u001b[0m\u001b[0;34m\u001b[0m\u001b[0m\n",
            "\u001b[0m\n",
            "ipdb> up\n",
            "> \u001b[0;32m<ipython-input-21-580cb08b29a7>\u001b[0m(1)\u001b[0;36m<module>\u001b[0;34m()\u001b[0m\n",
            "\u001b[0;32m----> 1 \u001b[0;31m\u001b[0mclean_address\u001b[0m\u001b[0;34m(\u001b[0m\u001b[0mmessages\u001b[0m\u001b[0;34m[\u001b[0m\u001b[0;34m'from'\u001b[0m\u001b[0;34m]\u001b[0m\u001b[0;34m[\u001b[0m\u001b[0;36m0\u001b[0m\u001b[0;34m]\u001b[0m\u001b[0;34m)\u001b[0m\u001b[0;34m\u001b[0m\u001b[0;34m\u001b[0m\u001b[0m\n",
            "\u001b[0m\n",
            "ipdb> print(raw)\n",
            "*** NameError: name 'raw' is not defined\n",
            "ipdb> quit\n"
          ],
          "name": "stdout"
        }
      ]
    },
    {
      "cell_type": "code",
      "metadata": {
        "id": "QuS8JLjgkoxj",
        "colab_type": "code",
        "colab": {}
      },
      "source": [
        "'''\n",
        "Because we identified the issue as \"nan\", we're applying the same function as\n",
        "above but dropping the nan first. then, we apply function. we're also going to\n",
        "apply it to the to column as well\n",
        "'''\n",
        "messages['from'] = messages['from'].dropna().apply(clean_address)\n",
        "messages['to'] = messages['to'].dropna().apply(clean_address)"
      ],
      "execution_count": 26,
      "outputs": []
    },
    {
      "cell_type": "code",
      "metadata": {
        "id": "1pgf0ROYkoxl",
        "colab_type": "code",
        "colab": {
          "base_uri": "https://localhost:8080/",
          "height": 195
        },
        "outputId": "a27017e4-b2d2-435f-dd2d-20382706f07a"
      },
      "source": [
        "'''\n",
        "We're verifying that we \"cleaned\" and identified just the email address. This is\n",
        "data cleaning exercises.\n",
        "'''\n",
        "messages.head()"
      ],
      "execution_count": 27,
      "outputs": [
        {
          "output_type": "execute_result",
          "data": {
            "text/html": [
              "<div>\n",
              "<style scoped>\n",
              "    .dataframe tbody tr th:only-of-type {\n",
              "        vertical-align: middle;\n",
              "    }\n",
              "\n",
              "    .dataframe tbody tr th {\n",
              "        vertical-align: top;\n",
              "    }\n",
              "\n",
              "    .dataframe thead th {\n",
              "        text-align: right;\n",
              "    }\n",
              "</style>\n",
              "<table border=\"1\" class=\"dataframe\">\n",
              "  <thead>\n",
              "    <tr style=\"text-align: right;\">\n",
              "      <th></th>\n",
              "      <th>subject</th>\n",
              "      <th>from</th>\n",
              "      <th>to</th>\n",
              "      <th>date</th>\n",
              "    </tr>\n",
              "  </thead>\n",
              "  <tbody>\n",
              "    <tr>\n",
              "      <th>0</th>\n",
              "      <td>Why control quickly exactly capital.</td>\n",
              "      <td>Michele.Vallisneri@jpl.nasa.gov</td>\n",
              "      <td>zrodriguez@hotmail.com</td>\n",
              "      <td>Mon, 27 Nov 2017 14:18:46 -0800</td>\n",
              "    </tr>\n",
              "    <tr>\n",
              "      <th>1</th>\n",
              "      <td>Work evidence from really threat sign store see.</td>\n",
              "      <td>Michele.Vallisneri@jpl.nasa.gov</td>\n",
              "      <td>patriciagarcia@garcia-carney.com</td>\n",
              "      <td>Mon, 26 Mar 2018 18:38:16 -0700</td>\n",
              "    </tr>\n",
              "    <tr>\n",
              "      <th>2</th>\n",
              "      <td>Lot where answer the law person.</td>\n",
              "      <td>michele.vallisneri@jpl.nasa.gov</td>\n",
              "      <td>hailey63@frazier.com</td>\n",
              "      <td>Tue, 13 Feb 2018 22:54:50 +0000</td>\n",
              "    </tr>\n",
              "    <tr>\n",
              "      <th>3</th>\n",
              "      <td>Difference hotel yard.</td>\n",
              "      <td>Michele.Vallisneri@jpl.nasa.gov</td>\n",
              "      <td>josephrebecca@grimes.com</td>\n",
              "      <td>Fri, 26 Jan 2018 11:40:04 -0800</td>\n",
              "    </tr>\n",
              "    <tr>\n",
              "      <th>4</th>\n",
              "      <td>Long level mission energy candidate.</td>\n",
              "      <td>michele.vallisneri@jpl.nasa.gov</td>\n",
              "      <td>rkhan@yahoo.com</td>\n",
              "      <td>Tue, 31 Oct 2017 00:13:00 +0000</td>\n",
              "    </tr>\n",
              "  </tbody>\n",
              "</table>\n",
              "</div>"
            ],
            "text/plain": [
              "                                            subject  ...                             date\n",
              "0              Why control quickly exactly capital.  ...  Mon, 27 Nov 2017 14:18:46 -0800\n",
              "1  Work evidence from really threat sign store see.  ...  Mon, 26 Mar 2018 18:38:16 -0700\n",
              "2                  Lot where answer the law person.  ...  Tue, 13 Feb 2018 22:54:50 +0000\n",
              "3                            Difference hotel yard.  ...  Fri, 26 Jan 2018 11:40:04 -0800\n",
              "4              Long level mission energy candidate.  ...  Tue, 31 Oct 2017 00:13:00 +0000\n",
              "\n",
              "[5 rows x 4 columns]"
            ]
          },
          "metadata": {
            "tags": []
          },
          "execution_count": 27
        }
      ]
    },
    {
      "cell_type": "code",
      "metadata": {
        "id": "AaCzAM2-koxo",
        "colab_type": "code",
        "colab": {
          "base_uri": "https://localhost:8080/",
          "height": 35
        },
        "outputId": "b1076a0a-134e-4e2b-94d5-0baf710d8b84"
      },
      "source": [
        "'''\n",
        "We're now going to clean the date column. we see that it's object and we're going\n",
        "to turn it into datetime objects.\n",
        "'''\n",
        "messages['date'][0]"
      ],
      "execution_count": 28,
      "outputs": [
        {
          "output_type": "execute_result",
          "data": {
            "application/vnd.google.colaboratory.intrinsic": {
              "type": "string"
            },
            "text/plain": [
              "'Mon, 27 Nov 2017 14:18:46 -0800'"
            ]
          },
          "metadata": {
            "tags": []
          },
          "execution_count": 28
        }
      ]
    },
    {
      "cell_type": "code",
      "metadata": {
        "id": "6GynMOQV35tb",
        "colab_type": "code",
        "colab": {
          "base_uri": "https://localhost:8080/",
          "height": 34
        },
        "outputId": "9755bde7-f82c-49c2-9fa6-659ad0d8bc2e"
      },
      "source": [
        "'''\n",
        "This converts but it's in UTC.\n",
        "'''\n",
        "pd.to_datetime(messages['date'][0])"
      ],
      "execution_count": 29,
      "outputs": [
        {
          "output_type": "execute_result",
          "data": {
            "text/plain": [
              "Timestamp('2017-11-27 14:18:46-0800', tz='pytz.FixedOffset(-480)')"
            ]
          },
          "metadata": {
            "tags": []
          },
          "execution_count": 29
        }
      ]
    },
    {
      "cell_type": "code",
      "metadata": {
        "id": "4PrqhP2hkoxr",
        "colab_type": "code",
        "colab": {
          "base_uri": "https://localhost:8080/",
          "height": 34
        },
        "outputId": "9033472b-010f-4074-afbc-364150b271e2"
      },
      "source": [
        "'''\n",
        "This first localizes the UTC time zone and then converts it to USA-LA. Woot!\n",
        "\n",
        "Update: original code:\n",
        "pd.to_datetime(messages['date'][0]).tz_localize('UTC').tz_convert('America/Los_Angeles')\n",
        "\n",
        "did not work as Pandas was updated. There is no need to first \"tz_localice\".\n",
        "We can just convert.\n",
        "\n",
        "Original Error:\n",
        "TypeError: Cannot localize tz-aware Timestamp, use tz_convert for conversions\n",
        "'''\n",
        "\n",
        "pd.to_datetime(messages['date'][0]).tz_convert('America/Los_Angeles')"
      ],
      "execution_count": 32,
      "outputs": [
        {
          "output_type": "execute_result",
          "data": {
            "text/plain": [
              "Timestamp('2017-11-27 14:18:46-0800', tz='America/Los_Angeles')"
            ]
          },
          "metadata": {
            "tags": []
          },
          "execution_count": 32
        }
      ]
    },
    {
      "cell_type": "code",
      "metadata": {
        "id": "HKn8t2Xlkoxv",
        "colab_type": "code",
        "colab": {}
      },
      "source": [
        "'''\n",
        "We're going to the same but for entire DF. Also, adjusted code as above.\n",
        "'''\n",
        "messages['date'] = messages['date'].apply(lambda s: pd.to_datetime(s).tz_convert('America/Los_Angeles'))"
      ],
      "execution_count": 42,
      "outputs": []
    },
    {
      "cell_type": "code",
      "metadata": {
        "id": "TpVxrgO5koxz",
        "colab_type": "code",
        "colab": {
          "base_uri": "https://localhost:8080/",
          "height": 118
        },
        "outputId": "41943182-cc4d-443d-c710-2f0d2e6c3d70"
      },
      "source": [
        "'''\n",
        "Just verifying conversions we're done.\n",
        "'''\n",
        "messages.date.head()"
      ],
      "execution_count": 35,
      "outputs": [
        {
          "output_type": "execute_result",
          "data": {
            "text/plain": [
              "0   2017-11-27 14:18:46-08:00\n",
              "1   2018-03-26 18:38:16-07:00\n",
              "2   2018-02-13 14:54:50-08:00\n",
              "3   2018-01-26 11:40:04-08:00\n",
              "4   2017-10-30 17:13:00-07:00\n",
              "Name: date, dtype: datetime64[ns, America/Los_Angeles]"
            ]
          },
          "metadata": {
            "tags": []
          },
          "execution_count": 35
        }
      ]
    },
    {
      "cell_type": "code",
      "metadata": {
        "id": "qGmava99kox2",
        "colab_type": "code",
        "colab": {
          "base_uri": "https://localhost:8080/",
          "height": 50
        },
        "outputId": "98529334-c756-4b3c-ee25-8de14e5a4952"
      },
      "source": [
        "'''\n",
        "We're checking the date range of the emails. It's about a year.\n",
        "'''\n",
        "messages.date.min(), messages.date.max()"
      ],
      "execution_count": 43,
      "outputs": [
        {
          "output_type": "execute_result",
          "data": {
            "text/plain": [
              "(Timestamp('2017-06-30 23:26:52-0700', tz='America/Los_Angeles'),\n",
              " Timestamp('2018-05-13 08:40:20-0700', tz='America/Los_Angeles'))"
            ]
          },
          "metadata": {
            "tags": []
          },
          "execution_count": 43
        }
      ]
    },
    {
      "cell_type": "code",
      "metadata": {
        "id": "nf_xxPkmkox4",
        "colab_type": "code",
        "colab": {
          "base_uri": "https://localhost:8080/",
          "height": 118
        },
        "outputId": "40ae544c-f9b8-4091-bec5-7e29e94b53db"
      },
      "source": [
        "'''\n",
        "We action datetime functions using \"dt\". We think that day of the week could be \n",
        "a good way to categorize our data. I guess dt objects are levels of strings?\n",
        "whatever that means. \n",
        "\n",
        "Update:\n",
        "had to change original code as \"day_name()\" was originally \"weekday_name\". It's\n",
        "old code.\n",
        "'''\n",
        "messages.date.dt.day_name().head()"
      ],
      "execution_count": 51,
      "outputs": [
        {
          "output_type": "execute_result",
          "data": {
            "text/plain": [
              "0     Monday\n",
              "1     Monday\n",
              "2    Tuesday\n",
              "3     Friday\n",
              "4     Monday\n",
              "Name: date, dtype: object"
            ]
          },
          "metadata": {
            "tags": []
          },
          "execution_count": 51
        }
      ]
    },
    {
      "cell_type": "code",
      "metadata": {
        "id": "OzxUQ6vy-yvG",
        "colab_type": "code",
        "colab": {
          "base_uri": "https://localhost:8080/",
          "height": 118
        },
        "outputId": "7ba934c9-7956-44a4-e144-0a6c9c44bdc8"
      },
      "source": [
        "messages['date'].dt.day_name().head()"
      ],
      "execution_count": 49,
      "outputs": [
        {
          "output_type": "execute_result",
          "data": {
            "text/plain": [
              "0     Monday\n",
              "1     Monday\n",
              "2    Tuesday\n",
              "3     Friday\n",
              "4     Monday\n",
              "Name: date, dtype: object"
            ]
          },
          "metadata": {
            "tags": []
          },
          "execution_count": 49
        }
      ]
    },
    {
      "cell_type": "code",
      "metadata": {
        "id": "Dku4Vlv3kox8",
        "colab_type": "code",
        "colab": {}
      },
      "source": [
        "'''\n",
        "We're going to create a new column to categorize by weekdays. Like above, had to\n",
        "update code. Day_name is now a function while weekday_name was a method or\n",
        "attribute.\n",
        "'''\n",
        "messages['dayofweek'] = pd.Categorical(messages['date'].dt.day_name(),\n",
        "                                       ordered=True,\n",
        "                                       categories=['Monday','Tuesday','Wednesday','Thursday','Friday','Saturday','Sunday'])"
      ],
      "execution_count": 52,
      "outputs": []
    },
    {
      "cell_type": "code",
      "metadata": {
        "id": "UTW90_3p_etV",
        "colab_type": "code",
        "colab": {
          "base_uri": "https://localhost:8080/",
          "height": 134
        },
        "outputId": "4b785480-20c2-460f-f489-0c98990067ea"
      },
      "source": [
        "messages.dayofweek.head()"
      ],
      "execution_count": 53,
      "outputs": [
        {
          "output_type": "execute_result",
          "data": {
            "text/plain": [
              "0     Monday\n",
              "1     Monday\n",
              "2    Tuesday\n",
              "3     Friday\n",
              "4     Monday\n",
              "Name: dayofweek, dtype: category\n",
              "Categories (7, object): [Monday < Tuesday < Wednesday < Thursday < Friday < Saturday < Sunday]"
            ]
          },
          "metadata": {
            "tags": []
          },
          "execution_count": 53
        }
      ]
    },
    {
      "cell_type": "code",
      "metadata": {
        "id": "RtKfNUunkoyC",
        "colab_type": "code",
        "colab": {
          "base_uri": "https://localhost:8080/",
          "height": 118
        },
        "outputId": "66205c9f-234e-4f26-d7fc-ec130ed63637"
      },
      "source": [
        "'''\n",
        "Um, we're doing the time of day but I can't tell what it is.\n",
        "'''\n",
        "messages['timeofday'] = messages['date'].dt.hour + messages['date'].dt.minute / 60\n",
        "messages.timeofday.head()"
      ],
      "execution_count": 57,
      "outputs": [
        {
          "output_type": "execute_result",
          "data": {
            "text/plain": [
              "0    14.300000\n",
              "1    18.633333\n",
              "2    14.900000\n",
              "3    11.666667\n",
              "4    17.216667\n",
              "Name: timeofday, dtype: float64"
            ]
          },
          "metadata": {
            "tags": []
          },
          "execution_count": 57
        }
      ]
    },
    {
      "cell_type": "code",
      "metadata": {
        "id": "ae3Er1AEkoyE",
        "colab_type": "code",
        "colab": {
          "base_uri": "https://localhost:8080/",
          "height": 118
        },
        "outputId": "a0962026-e695-4416-9e8b-d435250278a7"
      },
      "source": [
        "'''\n",
        "I guess we're turning the entire date into plottable numbers. It's the year + \n",
        "day + hour BUT all turned into fractions of the year. Oh, now it makes sense.\n",
        "'''\n",
        "messages['nyear'] = messages['date'].dt.year + messages['date'].dt.dayofyear/365.25 + messages['timeofday']/24/365.25 \n",
        "messages.nyear.head()"
      ],
      "execution_count": 59,
      "outputs": [
        {
          "output_type": "execute_result",
          "data": {
            "text/plain": [
              "0    2017.907860\n",
              "1    2018.234843\n",
              "2    2018.122165\n",
              "3    2018.072515\n",
              "4    2017.831533\n",
              "Name: nyear, dtype: float64"
            ]
          },
          "metadata": {
            "tags": []
          },
          "execution_count": 59
        }
      ]
    },
    {
      "cell_type": "code",
      "metadata": {
        "id": "Pr0R3IIHkoyH",
        "colab_type": "code",
        "colab": {},
        "outputId": "830a62cf-b719-4ad5-eca8-c56c0aabce8a"
      },
      "source": [
        "'''\n",
        "We're plotting the date against the time of day. s=2 means that the dots are\n",
        "smaller\n",
        "\n",
        "The reason we're doing this is to see when the majority of emails come in. It \n",
        "seems to be early in the morning.\n",
        "'''\n",
        "messages.plot.scatter('nyear','timeofday',s=2)"
      ],
      "execution_count": null,
      "outputs": [
        {
          "output_type": "execute_result",
          "data": {
            "text/plain": [
              "<matplotlib.axes._subplots.AxesSubplot at 0x1147f2eb8>"
            ]
          },
          "metadata": {
            "tags": []
          },
          "execution_count": 31
        },
        {
          "output_type": "display_data",
          "data": {
            "image/png": "[encoded data removed]",
            "text/plain": [
              "<matplotlib.figure.Figure at 0x1147d1f98>"
            ]
          },
          "metadata": {
            "tags": []
          }
        }
      ]
    },
    {
      "cell_type": "code",
      "metadata": {
        "id": "SvnGVbqikoyJ",
        "colab_type": "code",
        "colab": {
          "base_uri": "https://localhost:8080/",
          "height": 282
        },
        "outputId": "9958f16e-2019-4d98-fd58-8c9d6030c4bf"
      },
      "source": [
        "'''\n",
        "We're seeing when we received the most emails during the year\n",
        "'''\n",
        "messages.nyear.hist()"
      ],
      "execution_count": 60,
      "outputs": [
        {
          "output_type": "execute_result",
          "data": {
            "text/plain": [
              "<matplotlib.axes._subplots.AxesSubplot at 0x7f4f28986048>"
            ]
          },
          "metadata": {
            "tags": []
          },
          "execution_count": 60
        },
        {
          "output_type": "display_data",
          "data": {
            "image/png": "[encoded data removed]",
            "text/plain": [
              "<Figure size 432x288 with 1 Axes>"
            ]
          },
          "metadata": {
            "tags": [],
            "needs_background": "light"
          }
        }
      ]
    },
    {
      "cell_type": "code",
      "metadata": {
        "id": "akNiYb1RkoyM",
        "colab_type": "code",
        "colab": {
          "base_uri": "https://localhost:8080/",
          "height": 282
        },
        "outputId": "ebe0d556-7daf-4929-b773-d04a45a0688d"
      },
      "source": [
        "'''\n",
        "Most active hours, for email, are during the day and just before lunch.\n",
        "I guess the morning just for drinking coffee :P\n",
        "'''\n",
        "messages.timeofday.hist()"
      ],
      "execution_count": 62,
      "outputs": [
        {
          "output_type": "execute_result",
          "data": {
            "text/plain": [
              "<matplotlib.axes._subplots.AxesSubplot at 0x7f4f283f3a58>"
            ]
          },
          "metadata": {
            "tags": []
          },
          "execution_count": 62
        },
        {
          "output_type": "display_data",
          "data": {
            "image/png": "[encoded data removed]",
            "text/plain": [
              "<Figure size 432x288 with 1 Axes>"
            ]
          },
          "metadata": {
            "tags": [],
            "needs_background": "light"
          }
        }
      ]
    },
    {
      "cell_type": "code",
      "metadata": {
        "scrolled": true,
        "id": "OSYkg2S5koyQ",
        "colab_type": "code",
        "colab": {
          "base_uri": "https://localhost:8080/",
          "height": 151
        },
        "outputId": "192ea408-9f5a-4f2f-c49f-488024ec990b"
      },
      "source": [
        "'''\n",
        "Because this column is now a category, we can see the number of emails each day. \n",
        "Most are Mon-Wed, hence further proof that Mon-Wed are pure evil.\n",
        "'''\n",
        "messages.dayofweek.value_counts()"
      ],
      "execution_count": 63,
      "outputs": [
        {
          "output_type": "execute_result",
          "data": {
            "text/plain": [
              "Monday       222\n",
              "Tuesday      220\n",
              "Wednesday    211\n",
              "Thursday     172\n",
              "Friday       140\n",
              "Sunday        33\n",
              "Saturday      32\n",
              "Name: dayofweek, dtype: int64"
            ]
          },
          "metadata": {
            "tags": []
          },
          "execution_count": 63
        }
      ]
    },
    {
      "cell_type": "code",
      "metadata": {
        "id": "BLwgWw5IkoyV",
        "colab_type": "code",
        "colab": {},
        "outputId": "20ad28a9-ecd2-4972-e0cc-b7df3d0d9081"
      },
      "source": [
        "'''\n",
        "We're basically showing what we did above. sort=False because we don't want to \n",
        "lose the order of the week. If we sort, it would probably sort by number of \n",
        "emails per day.\n",
        "'''\n",
        "counts = messages.dayofweek.value_counts(sort=False)\n",
        "counts.plot(kind='bar')"
      ],
      "execution_count": null,
      "outputs": [
        {
          "output_type": "execute_result",
          "data": {
            "text/plain": [
              "<matplotlib.axes._subplots.AxesSubplot at 0x114428710>"
            ]
          },
          "metadata": {
            "tags": []
          },
          "execution_count": 36
        },
        {
          "output_type": "display_data",
          "data": {
            "image/png": "[encoded data removed]",
            "text/plain": [
              "<matplotlib.figure.Figure at 0x1159c5d68>"
            ]
          },
          "metadata": {
            "tags": []
          }
        }
      ]
    },
    {
      "cell_type": "code",
      "metadata": {
        "id": "Poj6C6HkkoyZ",
        "colab_type": "code",
        "colab": {}
      },
      "source": [
        ""
      ],
      "execution_count": null,
      "outputs": []
    }
  ]
}