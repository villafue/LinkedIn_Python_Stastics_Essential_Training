{
  "nbformat": 4,
  "nbformat_minor": 0,
  "metadata": {
    "kernelspec": {
      "display_name": "Python 3",
      "language": "python",
      "name": "python3"
    },
    "language_info": {
      "codemirror_mode": {
        "name": "ipython",
        "version": 3
      },
      "file_extension": ".py",
      "mimetype": "text/x-python",
      "name": "python",
      "nbconvert_exporter": "python",
      "pygments_lexer": "ipython3",
      "version": "3.6.4"
    },
    "toc": {
      "base_numbering": 1,
      "nav_menu": {},
      "number_sections": true,
      "sideBar": true,
      "skip_h1_title": false,
      "title_cell": "Table of Contents",
      "title_sidebar": "Contents",
      "toc_cell": false,
      "toc_position": {},
      "toc_section_display": true,
      "toc_window_display": false
    },
    "colab": {
      "name": "04_05_pvaluesandconfidence_end.ipynb",
      "provenance": [],
      "toc_visible": true,
      "include_colab_link": true
    }
  },
  "cells": [
    {
      "cell_type": "markdown",
      "metadata": {
        "id": "view-in-github",
        "colab_type": "text"
      },
      "source": [
        "<a href=\"https://colab.research.google.com/github/villafue/LinkedIn_Python_Stastics_Essential_Training/blob/master/04_05_pvaluesandconfidence_end.ipynb\" target=\"_parent\"><img src=\"https://colab.research.google.com/assets/colab-badge.svg\" alt=\"Open In Colab\"/></a>"
      ]
    },
    {
      "cell_type": "markdown",
      "metadata": {
        "id": "C9rQrKbKza3c",
        "colab_type": "text"
      },
      "source": [
        "## Python statistics essential training - 04_05_pvaluesandconfidence"
      ]
    },
    {
      "cell_type": "markdown",
      "metadata": {
        "id": "I9I0kxc3za3d",
        "colab_type": "text"
      },
      "source": [
        "Standard imports"
      ]
    },
    {
      "cell_type": "code",
      "metadata": {
        "id": "xWsladFIAsWy",
        "colab_type": "code",
        "colab": {}
      },
      "source": [
        "'''\n",
        "There is a close relationship between hypothesis and confidence intervals. \n",
        "To highlight this, we're going to use an example of an election poll, but now\n",
        "in the form of hypothesis testing.\n",
        "'''"
      ],
      "execution_count": null,
      "outputs": []
    },
    {
      "cell_type": "code",
      "metadata": {
        "id": "_Lw1HYRhza3e",
        "colab_type": "code",
        "colab": {}
      },
      "source": [
        "import math\n",
        "import io\n",
        "import os"
      ],
      "execution_count": 1,
      "outputs": []
    },
    {
      "cell_type": "code",
      "metadata": {
        "id": "GZogyIxXzkYq",
        "colab_type": "code",
        "colab": {}
      },
      "source": [
        "os.chdir('sample_data')"
      ],
      "execution_count": 2,
      "outputs": []
    },
    {
      "cell_type": "code",
      "metadata": {
        "id": "eZA-F9REza3i",
        "colab_type": "code",
        "colab": {}
      },
      "source": [
        "import numpy as np\n",
        "import pandas as pd\n",
        "\n",
        "import matplotlib\n",
        "import matplotlib.pyplot as plt\n",
        "\n",
        "%matplotlib inline"
      ],
      "execution_count": 15,
      "outputs": []
    },
    {
      "cell_type": "code",
      "metadata": {
        "id": "d96ps2L9za3l",
        "colab_type": "code",
        "colab": {}
      },
      "source": [
        "import scipy.stats\n",
        "import scipy.optimize\n",
        "import scipy.spatial"
      ],
      "execution_count": 4,
      "outputs": []
    },
    {
      "cell_type": "code",
      "metadata": {
        "id": "_Mrky8mMza3o",
        "colab_type": "code",
        "colab": {}
      },
      "source": [
        "poll = pd.read_csv('poll.csv')"
      ],
      "execution_count": 5,
      "outputs": []
    },
    {
      "cell_type": "code",
      "metadata": {
        "id": "l5rd1Q18za3q",
        "colab_type": "code",
        "colab": {
          "base_uri": "https://localhost:8080/",
          "height": 67
        },
        "outputId": "e26920b1-8d4d-46fa-e5d8-c66b050c2ffa"
      },
      "source": [
        "'''\n",
        "In the smaller poll, Brown seemed to have the majority of votes.\n",
        "\n",
        "The null hypothesis will be that Green will win or tie the election. This means\n",
        "that the true Brown fraction will be .50 or less. We need to find out whether a\n",
        "Brown proportion of .511 is an extreme result if the null hypothesis holds. So\n",
        "we compute the sampling distribution of the proportion under true Brown fraction\n",
        "of .50. If it's lower than that, the p-value will be even lower, so we work with\n",
        "Brown = .50.\n",
        "'''\n",
        "poll.vote.value_counts(normalize=True)"
      ],
      "execution_count": 6,
      "outputs": [
        {
          "output_type": "execute_result",
          "data": {
            "text/plain": [
              "Brown    0.511\n",
              "Green    0.489\n",
              "Name: vote, dtype: float64"
            ]
          },
          "metadata": {
            "tags": []
          },
          "execution_count": 6
        }
      ]
    },
    {
      "cell_type": "code",
      "metadata": {
        "id": "BCAA9Pipza3t",
        "colab_type": "code",
        "colab": {}
      },
      "source": [
        "def sample(brown, n=1000):\n",
        "    return pd.DataFrame({'vote': np.where(np.random.rand(n) < brown,'Brown','Green')})"
      ],
      "execution_count": 7,
      "outputs": []
    },
    {
      "cell_type": "code",
      "metadata": {
        "id": "np1TM3mvza3w",
        "colab_type": "code",
        "colab": {}
      },
      "source": [
        "dist = pd.DataFrame({'Brown': [sample(0.50,1000).vote.value_counts(normalize=True)['Brown'] for i in range(10000)]})"
      ],
      "execution_count": 8,
      "outputs": []
    },
    {
      "cell_type": "code",
      "metadata": {
        "id": "HxxRj6Nvza3y",
        "colab_type": "code",
        "colab": {
          "base_uri": "https://localhost:8080/",
          "height": 282
        },
        "outputId": "534a50ac-0be9-4f43-a18c-21c9f1fad655"
      },
      "source": [
        "'''\n",
        "We see that .511 is not a very extreme value in the histogram.\n",
        "'''\n",
        "dist.Brown.hist(histtype='step',bins=20)\n",
        "plt.axvline(0.511,c='C1')"
      ],
      "execution_count": 16,
      "outputs": [
        {
          "output_type": "execute_result",
          "data": {
            "text/plain": [
              "<matplotlib.lines.Line2D at 0x7f026639e4a8>"
            ]
          },
          "metadata": {
            "tags": []
          },
          "execution_count": 16
        },
        {
          "output_type": "display_data",
          "data": {
            "image/png": "[encoded data removed]",
            "text/plain": [
              "<Figure size 432x288 with 1 Axes>"
            ]
          },
          "metadata": {
            "tags": [],
            "needs_background": "light"
          }
        }
      ]
    },
    {
      "cell_type": "code",
      "metadata": {
        "id": "hKvthzrUza31",
        "colab_type": "code",
        "colab": {
          "base_uri": "https://localhost:8080/",
          "height": 34
        },
        "outputId": "32940c3d-872a-444a-f852-78a42305a047"
      },
      "source": [
        "'''\n",
        "If we look at it's quantile, we see that it's in the 24% range and defintely not\n",
        "an extreme value for the null hypothesis. It is not enough to reject the null\n",
        "hypothesis that Green ties or wins the election.\n",
        "'''\n",
        "100 - scipy.stats.percentileofscore(dist.Brown,0.511)"
      ],
      "execution_count": 10,
      "outputs": [
        {
          "output_type": "execute_result",
          "data": {
            "text/plain": [
              "24.260000000000005"
            ]
          },
          "metadata": {
            "tags": []
          },
          "execution_count": 10
        }
      ]
    },
    {
      "cell_type": "code",
      "metadata": {
        "id": "LsYI0PMsza33",
        "colab_type": "code",
        "colab": {}
      },
      "source": [
        "'''\n",
        "For the larger sample (below), it makes sense to set the null hypothesis of Brown\n",
        "=> .50 as as Green holds the majority.\n",
        "\n",
        "\"In fact, a nice feature of binary problems, such as this, is that the null \n",
        "hypothesis and its alternative are complementary.\"\n",
        "'''\n",
        "largepoll = pd.read_csv('poll-larger.csv')"
      ],
      "execution_count": 12,
      "outputs": []
    },
    {
      "cell_type": "code",
      "metadata": {
        "id": "yoZtHwNFza35",
        "colab_type": "code",
        "colab": {
          "base_uri": "https://localhost:8080/",
          "height": 67
        },
        "outputId": "aa6a5e96-ac7f-4c9e-c8fa-e81da8387c7e"
      },
      "source": [
        "largepoll.vote.value_counts(normalize=True)"
      ],
      "execution_count": 13,
      "outputs": [
        {
          "output_type": "execute_result",
          "data": {
            "text/plain": [
              "Green    0.5181\n",
              "Brown    0.4819\n",
              "Name: vote, dtype: float64"
            ]
          },
          "metadata": {
            "tags": []
          },
          "execution_count": 13
        }
      ]
    },
    {
      "cell_type": "code",
      "metadata": {
        "id": "BdUT3ljdza39",
        "colab_type": "code",
        "colab": {}
      },
      "source": [
        "dist = pd.DataFrame({'Green': [sample(0.50,10000).vote.value_counts(normalize=True)['Green'] for i in range(1000)]})"
      ],
      "execution_count": 17,
      "outputs": []
    },
    {
      "cell_type": "code",
      "metadata": {
        "id": "l1t-rmwAza3_",
        "colab_type": "code",
        "colab": {
          "base_uri": "https://localhost:8080/",
          "height": 282
        },
        "outputId": "a94ed0a7-9a80-4707-e42e-681d4729dd50"
      },
      "source": [
        "'''\n",
        "The value is extreme that it lies outside the maximum value of the distribution.\n",
        "'''\n",
        "dist.Green.hist(histtype='step',bins=20)\n",
        "plt.axvline(0.5181,c='C1')"
      ],
      "execution_count": 19,
      "outputs": [
        {
          "output_type": "execute_result",
          "data": {
            "text/plain": [
              "<matplotlib.lines.Line2D at 0x7f02634935c0>"
            ]
          },
          "metadata": {
            "tags": []
          },
          "execution_count": 19
        },
        {
          "output_type": "display_data",
          "data": {
            "image/png": "[encoded data removed]",
            "text/plain": [
              "<Figure size 432x288 with 1 Axes>"
            ]
          },
          "metadata": {
            "tags": [],
            "needs_background": "light"
          }
        }
      ]
    },
    {
      "cell_type": "code",
      "metadata": {
        "id": "EDF9V1RIza4B",
        "colab_type": "code",
        "colab": {
          "base_uri": "https://localhost:8080/",
          "height": 34
        },
        "outputId": "98812dbb-41d9-46d7-935a-09acfb235720"
      },
      "source": [
        "'''\n",
        "I cannot even get a % value for the distribution. It's so extreme that the\n",
        "probability of Green having 51% votes, while Brown ties or wins the election, \n",
        "is 1/1000 chance. This p-value is very significant, and thus, we can reject the\n",
        "null hypothesis. \n",
        "'''\n",
        "100 - scipy.stats.percentileofscore(dist.Green,0.5181)"
      ],
      "execution_count": 20,
      "outputs": [
        {
          "output_type": "execute_result",
          "data": {
            "text/plain": [
              "0.0"
            ]
          },
          "metadata": {
            "tags": []
          },
          "execution_count": 20
        }
      ]
    },
    {
      "cell_type": "code",
      "metadata": {
        "id": "z6GEIWVOM09q",
        "colab_type": "code",
        "colab": {}
      },
      "source": [
        "'''\n",
        "\"An interesting question is whether we can apply bootsrapping to compute the values.\n",
        "It is trivial as bootstrapping can only represent the true distribution, not the \n",
        "distribution under the null hypothesis. So we would need to modify the bootstrap\n",
        "values to be appropriate for the null case. In some cases this is straightforward\n",
        "and others impossible. Certainly, it requires some thinking and problem specific\n",
        "information.\"\n",
        "'''"
      ],
      "execution_count": null,
      "outputs": []
    }
  ]
}